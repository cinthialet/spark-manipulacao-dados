{
  "nbformat": 4,
  "nbformat_minor": 0,
  "metadata": {
    "colab": {
      "provenance": []
    },
    "kernelspec": {
      "name": "python3",
      "display_name": "Python 3"
    },
    "language_info": {
      "name": "python"
    }
  },
  "cells": [
    {
      "cell_type": "markdown",
      "source": [
        "# Manipulação de Dados com Spark - Pyspark\n",
        "### Cinthia Santos - Engenheira de Dados\n",
        "[Linkedin](https://www.linkedin.com/in/cinthialpsantos/)\n",
        "\n",
        "[Github](https://github.com/cinthialet)\n",
        "\n",
        "cithsantos@gmail.com"
      ],
      "metadata": {
        "id": "d4llVXBS7qyn"
      }
    },
    {
      "cell_type": "markdown",
      "source": [
        "# Objetivo\n",
        "Ao longo da minha jornada no mundo dos dados, percebi a crescente demanda e eficiência de plataformas distribuídas como o Spark no tratamento de grandes volumes de dados - Big Data. Assim, busquei aprimorar minhas habilidades em PySpark, alinhando-as às melhores práticas de processamento distribuído.\n",
        "\n",
        "### Neste notebook, pretendo compartilhar minha experiência de refatoração do projeto anterior de manipulação de dados com Python, aplicando o mesmo dataset e as mesmas demandas de negócio, porém, utilizando a robustez e escalabilidade do PySpark.\n",
        "\n",
        "Meu objetivo não é apenas demonstrar minha evolução e proficiência nesse domínio, mas também oferecer um guia prático e instrutivo para aqueles que desejam fazer uma transição semelhante ou aprimorar seus conhecimentos em PySpark.\n",
        "\n",
        "> **Sugestão : Acompanhe esse projeto junto com o meu outro projeto de [Manipulação de Dados com Python - Pandas](https://github.com/cinthialet/python-manipulacao-dados)**, que pode auxiliar a entender a diferença, vantagens e desafios de cada uma dessas ferramentas."
      ],
      "metadata": {
        "id": "CBPkzNiy3K5F"
      }
    },
    {
      "cell_type": "code",
      "execution_count": 1,
      "metadata": {
        "colab": {
          "base_uri": "https://localhost:8080/"
        },
        "id": "3uesl3I5CyOv",
        "outputId": "558a01be-ea0a-4afb-c6a3-4402c8566764"
      },
      "outputs": [
        {
          "output_type": "stream",
          "name": "stdout",
          "text": [
            "Requirement already satisfied: pyspark in /usr/local/lib/python3.10/dist-packages (3.5.0)\n",
            "Requirement already satisfied: py4j==0.10.9.7 in /usr/local/lib/python3.10/dist-packages (from pyspark) (0.10.9.7)\n"
          ]
        }
      ],
      "source": [
        "# Instalando a biblioteca pyspark no ambiente Google Colab.\n",
        "# O '!' antes do 'pip' é usado para executar comandos do sistema no notebook.\n",
        "!pip install pyspark"
      ]
    },
    {
      "cell_type": "code",
      "source": [
        "# Importando os pacotes necessários\n",
        "from pyspark.sql import SparkSession\n",
        "from pyspark.sql import functions as F\n",
        "from pyspark.sql.functions import lit, monotonically_increasing_id, concat, current_date, date_sub , to_date, datediff , sum, when, col , max , min\n",
        "from pyspark.sql.types import FloatType\n",
        "from pyspark.sql.window import Window\n"
      ],
      "metadata": {
        "id": "IBRNhSDv5UlP"
      },
      "execution_count": 2,
      "outputs": []
    },
    {
      "cell_type": "markdown",
      "source": [
        "# Importações e Descrições:\n",
        "\n",
        "Este bloco descreve e importa todos os módulos e funções essenciais para as operações de processamento de dados com o Spark no projeto.\n",
        "\n",
        "- **from pyspark.sql import SparkSession**:\n",
        "  - Importa a `SparkSession`, que é o ponto de entrada para utilizar funcionalidades do Spark com o dataframes API.\n",
        "\n",
        "- **from pyspark.sql import functions as F**:\n",
        "  - Importa todas as funções disponíveis para operações em DataFrames do Spark, permitindo o acesso via um alias (apelido) `F`.\n",
        "\n",
        "- **from pyspark.sql.functions import lit, monotonically_increasing_id, concat, current_date, date_sub, to_date, datediff, sum, when, col, max, min**:\n",
        "  - Importa funções específicas para manipular e operar sobre colunas em dataframes. Alguns exemplos:\n",
        "    - `lit`: Cria uma coluna de valores constantes.\n",
        "    - `monotonically_increasing_id`: Gera IDs únicos para cada linha, garantindo que eles sejam sempre crescentes.\n",
        "    - `concat`: Concatena múltiplas colunas em uma.\n",
        "    - `current_date`: Retorna a data atual.\n",
        "    - `date_sub`: Subtrai um número de dias de uma data.\n",
        "    - `to_date`: Converte uma string para uma data.\n",
        "    - `datediff`: Calcula a diferença entre duas datas.\n",
        "    - `sum, max, min`: Funções agregadas para somar, obter o valor máximo e mínimo.\n",
        "    - `when`: Função condicional para operar sobre colunas.\n",
        "    - `col`: Retorna uma coluna com base em um nome de coluna.\n",
        "\n",
        "- **from pyspark.sql.types import FloatType**:\n",
        "  - Importa o tipo de dado `FloatType`, utilizado para definir ou converter colunas para o tipo float em dataframes.\n",
        "\n",
        "- **from pyspark.sql.window import Window**:\n",
        "  - Importa a classe `Window`, utilizada para definir janelas sobre as quais operações como funções de janela (por exemplo, cálculos de lag ou lead) podem ser aplicadas em dataframes.\n",
        "\n"
      ],
      "metadata": {
        "id": "pibHFcUd_Sbn"
      }
    },
    {
      "cell_type": "markdown",
      "source": [
        "# Sobre o Spark\n",
        "O Apache Spark é uma plataforma poderosa para processamento distribuído de grandes conjuntos de dados. Para começar a trabalhar com o Spark usando a API PySpark, é necessário um ponto de entrada principal: a SparkSession.\n",
        "\n",
        "\n",
        "###SparkSession: O que é e por quê?\n",
        "\n",
        "SparkSession é o ponto de entrada para trabalhar com a Spark no PySpark.\n",
        "Ela fornece uma interface para a interação com as funcionalidades do Spark\n",
        "- Sem iniciar uma SparkSession, você não poderá executar operações Spark.\n",
        "\n",
        "**builder**: Método para criar uma nova SparkSession.\n",
        "\n",
        "**appName(...)**: Define um nome para a sessão, útil para identificar sua aplicação no Spark UI.\n",
        "\n",
        "**getOrCreate()**: Se uma SparkSession com esse nome já existe, ela a recupera; caso contrário, cria uma nova."
      ],
      "metadata": {
        "id": "qeT6DZK35b1g"
      }
    },
    {
      "cell_type": "code",
      "source": [
        "# Iniciando a SparkSession com o nome \"Manipulacao de dados com Spark\".\n",
        "spark = SparkSession.builder.appName(\"Manipulacao de dados com Spark\").getOrCreate()"
      ],
      "metadata": {
        "id": "l1fqThcNC4-Y"
      },
      "execution_count": 3,
      "outputs": []
    },
    {
      "cell_type": "markdown",
      "source": [
        "# Leitura de Arquivos CSV"
      ],
      "metadata": {
        "id": "pMzmWBJV-NLg"
      }
    },
    {
      "cell_type": "code",
      "source": [
        "# Carregar CSV em DataFrame\n",
        "df_csv = spark.read.csv(\"/content/dados/GasPricesinBrazil_2004-2019.csv\")\n",
        "\n",
        "# Checar o resultado : .show() corresponde a .head(20) no Pandas\n",
        "df_csv.show()"
      ],
      "metadata": {
        "colab": {
          "base_uri": "https://localhost:8080/"
        },
        "id": "R5Wc7fwZ_p_x",
        "outputId": "e8d9ad45-37b0-48fa-cc52-46cf4506fc92"
      },
      "execution_count": 4,
      "outputs": [
        {
          "output_type": "stream",
          "name": "stdout",
          "text": [
            "+--------------------+\n",
            "|                 _c0|\n",
            "+--------------------+\n",
            "|Unnamed: 0;DATA I...|\n",
            "|0;2004-05-09;2004...|\n",
            "|1;2004-05-09;2004...|\n",
            "|2;2004-05-09;2004...|\n",
            "|3;2004-05-09;2004...|\n",
            "|4;2004-05-09;2004...|\n",
            "|5;2004-05-09;2004...|\n",
            "|6;2004-05-09;2004...|\n",
            "|7;2004-05-09;2004...|\n",
            "|8;2004-05-09;2004...|\n",
            "|9;2004-05-09;2004...|\n",
            "|10;2004-05-09;200...|\n",
            "|11;2004-05-09;200...|\n",
            "|12;2004-05-09;200...|\n",
            "|13;2004-05-09;200...|\n",
            "|14;2004-05-09;200...|\n",
            "|15;2004-05-09;200...|\n",
            "|16;2004-05-09;200...|\n",
            "|17;2004-05-09;200...|\n",
            "|18;2004-05-09;200...|\n",
            "+--------------------+\n",
            "only showing top 20 rows\n",
            "\n"
          ]
        }
      ]
    },
    {
      "cell_type": "markdown",
      "source": [
        "## Separador\n",
        "Assim como na manipulação de dados com python, a leitura do arquivo padrão usa vírgula como separador, e o arquivo em questão usa ponto-e-vírgula. No comando a seguir, definirei o separador certo para a correta leitura.\n",
        "- Também é necessário setar header=True , para informar que os dados possuem a primeira linha com os nomes das colunas"
      ],
      "metadata": {
        "id": "jx2ky8OS8SVt"
      }
    },
    {
      "cell_type": "code",
      "source": [
        "df_csv = spark.read.csv(\"/content/dados/GasPricesinBrazil_2004-2019.csv\", sep=\";\",header=True)\n",
        "df_csv.show()"
      ],
      "metadata": {
        "colab": {
          "base_uri": "https://localhost:8080/"
        },
        "id": "aP1TImsa8nC9",
        "outputId": "c7969b3e-61dd-4c8b-958e-4b589a3f6123"
      },
      "execution_count": 5,
      "outputs": [
        {
          "output_type": "stream",
          "name": "stdout",
          "text": [
            "+----------+------------+----------+------------+-------------------+----------------+----------------------------+-----------------+-------------------+---------------------+--------------------+--------------------+--------------------+------------------------+------------------------+--------------------------+-------------------------+-------------------------+-----------------------------+---+----+\n",
            "|Unnamed: 0|DATA INICIAL|DATA FINAL|      REGIÃO|             ESTADO|         PRODUTO|NÚMERO DE POSTOS PESQUISADOS|UNIDADE DE MEDIDA|PREÇO MÉDIO REVENDA|DESVIO PADRÃO REVENDA|PREÇO MÍNIMO REVENDA|PREÇO MÁXIMO REVENDA|MARGEM MÉDIA REVENDA|COEF DE VARIAÇÃO REVENDA|PREÇO MÉDIO DISTRIBUIÇÃO|DESVIO PADRÃO DISTRIBUIÇÃO|PREÇO MÍNIMO DISTRIBUIÇÃO|PREÇO MÁXIMO DISTRIBUIÇÃO|COEF DE VARIAÇÃO DISTRIBUIÇÃO|MÊS| ANO|\n",
            "+----------+------------+----------+------------+-------------------+----------------+----------------------------+-----------------+-------------------+---------------------+--------------------+--------------------+--------------------+------------------------+------------------------+--------------------------+-------------------------+-------------------------+-----------------------------+---+----+\n",
            "|         0|  2004-05-09|2004-05-15|CENTRO OESTE|   DISTRITO FEDERAL|ETANOL HIDRATADO|                         127|             R$/l|              1.288|                0.016|                1.19|                1.35|               0.463|                   0.012|                   0.825|                      0.11|                   0.4201|                   0.9666|                        0.133|  5|2004|\n",
            "|         1|  2004-05-09|2004-05-15|CENTRO OESTE|              GOIAS|ETANOL HIDRATADO|                         387|             R$/l|              1.162|                0.114|                0.89|               1.449|               0.399|                   0.098|                   0.763|                     0.088|                   0.5013|                     1.05|                        0.115|  5|2004|\n",
            "|         2|  2004-05-09|2004-05-15|CENTRO OESTE|        MATO GROSSO|ETANOL HIDRATADO|                         192|             R$/l|              1.389|   0.0969999999999999|                1.18|                1.76|               0.419|                    0.07|                    0.97|                     0.095|                   0.5614|                    1.161|                        0.098|  5|2004|\n",
            "|         3|  2004-05-09|2004-05-15|CENTRO OESTE| MATO GROSSO DO SUL|ETANOL HIDRATADO|                         162|             R$/l|              1.262|                 0.07|                1.09|               1.509|               0.432|                   0.055|                    0.83|                     0.119|                   0.5991|                  1.22242|                        0.143|  5|2004|\n",
            "|         4|  2004-05-09|2004-05-15|    NORDESTE|            ALAGOAS|ETANOL HIDRATADO|                         103|             R$/l|              1.181|                0.078|                1.05|                 1.4|                0.24|                   0.066|                   0.941|                     0.077|                   0.7441|                   1.0317|                        0.082|  5|2004|\n",
            "|         5|  2004-05-09|2004-05-15|    NORDESTE|              BAHIA|ETANOL HIDRATADO|                         408|             R$/l|              1.383|                0.132|               0.999|                2.05|               0.426|                   0.095|                   0.957|                     0.128|                   0.5686|                     1.35|                        0.134|  5|2004|\n",
            "|         6|  2004-05-09|2004-05-15|    NORDESTE|              CEARA|ETANOL HIDRATADO|                         278|             R$/l|              1.453|                0.218|                1.03|                1.95|               0.353|                    0.15|                     1.1|                     0.068|                   0.7332|                    1.294|                        0.062|  5|2004|\n",
            "|         7|  2004-05-09|2004-05-15|    NORDESTE|           MARANHAO|ETANOL HIDRATADO|                         105|             R$/l|              1.631|                0.158|                1.35|                 2.0|               0.515|      0.0969999999999999|                   1.116|                     0.091|                   0.9923|                  1.36183|                        0.082|  5|2004|\n",
            "|         8|  2004-05-09|2004-05-15|    NORDESTE|            PARAIBA|ETANOL HIDRATADO|                         125|             R$/l|              1.284|                 0.13|                 1.1|               1.699|               0.353|       0.100999999999999|                   0.931|                     0.072|                   0.7577|                   1.2972|                        0.077|  5|2004|\n",
            "|         9|  2004-05-09|2004-05-15|    NORDESTE|         PERNAMBUCO|ETANOL HIDRATADO|                         423|             R$/l|              1.224|                0.141|               0.989|                 1.7|               0.277|                   0.115|                   0.947|                     0.091|                   0.5643|                   1.3541|                        0.096|  5|2004|\n",
            "|        10|  2004-05-09|2004-05-15|    NORDESTE|              PIAUI|ETANOL HIDRATADO|                          89|             R$/l|              1.573|                0.134|                 1.4|                1.78|               0.494|                   0.085|                   1.079|                     0.078|                   0.8857|                   1.2499|                        0.072|  5|2004|\n",
            "|        11|  2004-05-09|2004-05-15|    NORDESTE|RIO GRANDE DO NORTE|ETANOL HIDRATADO|                         131|             R$/l|              1.276|    0.115999999999999|                1.09|                1.59|               0.332|                   0.091|                   0.944|                     0.078|                   0.7119|                   1.1386|                        0.083|  5|2004|\n",
            "|        12|  2004-05-09|2004-05-15|    NORDESTE|            SERGIPE|ETANOL HIDRATADO|                          57|             R$/l|              1.301|                0.109|                1.15|                1.75|               0.321|                   0.084|                    0.98|                     0.052|                   0.8267|                   1.1059|                        0.053|  5|2004|\n",
            "|        13|  2004-05-09|2004-05-15|       NORTE|               ACRE|ETANOL HIDRATADO|                          33|             R$/l|              1.805|                0.134|                 1.5|                1.98|               0.689|                   0.074|                   1.116|                     0.171|                    0.767|                   1.2992|                        0.153|  5|2004|\n",
            "|        14|  2004-05-09|2004-05-15|       NORTE|              AMAPA|ETANOL HIDRATADO|                          15|             R$/l|              1.785|                0.035|                1.74|                1.85|               0.412|                    0.02|                   1.373|                     0.167|                   0.8339|                   1.4912|                        0.122|  5|2004|\n",
            "|        15|  2004-05-09|2004-05-15|       NORTE|           AMAZONAS|ETANOL HIDRATADO|                          53|             R$/l|              1.578|                0.123|                1.28|                1.85|               0.441|                   0.078|                   1.137|                     0.068|                   0.9515|                   1.2109|                         0.06|  5|2004|\n",
            "|        16|  2004-05-09|2004-05-15|       NORTE|               PARA|ETANOL HIDRATADO|                         104|             R$/l|              1.914|                0.246|                1.27|                 2.4|               0.536|                   0.129|                   1.378|                     0.237|                   0.7564|                   1.8908|                        0.172|  5|2004|\n",
            "|        17|  2004-05-09|2004-05-15|       NORTE|           RONDONIA|ETANOL HIDRATADO|                          97|             R$/l|              1.545|                0.141|                1.25|                1.99|               0.533|                   0.091|                   1.012|                     0.149|                     0.52|                   1.3306|                        0.147|  5|2004|\n",
            "|        18|  2004-05-09|2004-05-15|       NORTE|            RORAIMA|ETANOL HIDRATADO|                          14|             R$/l|                1.3|                  0.0|                 1.3|                 1.3|               0.202|                     0.0|                   1.098|                     0.096|                   0.9798|                   1.3577|                        0.087|  5|2004|\n",
            "|        19|  2004-05-09|2004-05-15|       NORTE|          TOCANTINS|ETANOL HIDRATADO|                          71|             R$/l|              1.226|                0.081|                1.05|                1.43|               0.546|                   0.066|                    0.68|                     0.114|                  0.51022|                    1.035|                        0.168|  5|2004|\n",
            "+----------+------------+----------+------------+-------------------+----------------+----------------------------+-----------------+-------------------+---------------------+--------------------+--------------------+--------------------+------------------------+------------------------+--------------------------+-------------------------+-------------------------+-----------------------------+---+----+\n",
            "only showing top 20 rows\n",
            "\n"
          ]
        }
      ]
    },
    {
      "cell_type": "markdown",
      "source": [
        "## Otimização pela conversão de arquivos\n",
        "\n",
        "## Parquet vs CSV no Spark\n",
        "\n",
        "### CSV:\n",
        "- **Formato:** Texto simples, com valores separados por delimitadores (geralmente vírgulas).\n",
        "- **Uso:** Portátil e amplamente utilizado.\n",
        "- **Legibilidade:** Diretamente legível por humanos, facilitando a visualização e o entendimento.\n",
        "- **Desempenho:** Mais lento para ler e escrever em comparação com formatos binários em grandes conjuntos de dados.\n",
        "\n",
        "### Parquet:\n",
        "- **Formato:** Colunar e binário, otimizado para processamento de dados.\n",
        "- **Uso:** Oferece compressão eficiente e leitura rápida.\n",
        "- **Legibilidade:** Não é diretamente legível por humanos, sendo otimizado para máquinas.\n",
        "- **Desempenho:** Ideal para o Spark devido à sua eficiência e integração.\n",
        "\n",
        "**Recomendação:** Converta dados CSV em Parquet ao trabalhar com grandes volumes no Spark para maximizar a eficiência.\n"
      ],
      "metadata": {
        "id": "quGtqvyI9MY6"
      }
    },
    {
      "cell_type": "markdown",
      "source": [
        "### Salvando o dataframe em um arquivo já existente\n",
        "Quando você tenta salvar um DataFrame como um arquivo Parquet em um caminho que já existe, o Spark não permitirá essa operação por padrão. Isso é uma medida de segurança para evitar a sobreposição acidental de dados valiosos.\n",
        "\n",
        "Se sua intenção for substituir o arquivo ou diretório Parquet existente, você deve especificar explicitamente o modo de gravação como \"overwrite\". Isso instrui o Spark a sobrescrever os dados existentes."
      ],
      "metadata": {
        "id": "ysJxedyX_A68"
      }
    },
    {
      "cell_type": "code",
      "source": [
        "# Salvar DataFrame como Parquet\n",
        "df_csv.write.mode(\"overwrite\").parquet(\"manipulacao_dos_dados.parquet\")"
      ],
      "metadata": {
        "id": "lRKtS5yXu9w9"
      },
      "execution_count": 6,
      "outputs": []
    },
    {
      "cell_type": "code",
      "source": [
        "# Carregar dados Parquet em DataFrame\n",
        "df = spark.read.parquet(\"manipulacao_dos_dados.parquet\")\n",
        "df.show()"
      ],
      "metadata": {
        "colab": {
          "base_uri": "https://localhost:8080/"
        },
        "id": "qRwFRAxKv31L",
        "outputId": "5ea9b137-65d3-470b-9e4f-1e7cce560aa1"
      },
      "execution_count": 7,
      "outputs": [
        {
          "output_type": "stream",
          "name": "stdout",
          "text": [
            "+----------+------------+----------+------------+-------------------+----------------+----------------------------+-----------------+-------------------+---------------------+--------------------+--------------------+--------------------+------------------------+------------------------+--------------------------+-------------------------+-------------------------+-----------------------------+---+----+\n",
            "|Unnamed: 0|DATA INICIAL|DATA FINAL|      REGIÃO|             ESTADO|         PRODUTO|NÚMERO DE POSTOS PESQUISADOS|UNIDADE DE MEDIDA|PREÇO MÉDIO REVENDA|DESVIO PADRÃO REVENDA|PREÇO MÍNIMO REVENDA|PREÇO MÁXIMO REVENDA|MARGEM MÉDIA REVENDA|COEF DE VARIAÇÃO REVENDA|PREÇO MÉDIO DISTRIBUIÇÃO|DESVIO PADRÃO DISTRIBUIÇÃO|PREÇO MÍNIMO DISTRIBUIÇÃO|PREÇO MÁXIMO DISTRIBUIÇÃO|COEF DE VARIAÇÃO DISTRIBUIÇÃO|MÊS| ANO|\n",
            "+----------+------------+----------+------------+-------------------+----------------+----------------------------+-----------------+-------------------+---------------------+--------------------+--------------------+--------------------+------------------------+------------------------+--------------------------+-------------------------+-------------------------+-----------------------------+---+----+\n",
            "|         0|  2004-05-09|2004-05-15|CENTRO OESTE|   DISTRITO FEDERAL|ETANOL HIDRATADO|                         127|             R$/l|              1.288|                0.016|                1.19|                1.35|               0.463|                   0.012|                   0.825|                      0.11|                   0.4201|                   0.9666|                        0.133|  5|2004|\n",
            "|         1|  2004-05-09|2004-05-15|CENTRO OESTE|              GOIAS|ETANOL HIDRATADO|                         387|             R$/l|              1.162|                0.114|                0.89|               1.449|               0.399|                   0.098|                   0.763|                     0.088|                   0.5013|                     1.05|                        0.115|  5|2004|\n",
            "|         2|  2004-05-09|2004-05-15|CENTRO OESTE|        MATO GROSSO|ETANOL HIDRATADO|                         192|             R$/l|              1.389|   0.0969999999999999|                1.18|                1.76|               0.419|                    0.07|                    0.97|                     0.095|                   0.5614|                    1.161|                        0.098|  5|2004|\n",
            "|         3|  2004-05-09|2004-05-15|CENTRO OESTE| MATO GROSSO DO SUL|ETANOL HIDRATADO|                         162|             R$/l|              1.262|                 0.07|                1.09|               1.509|               0.432|                   0.055|                    0.83|                     0.119|                   0.5991|                  1.22242|                        0.143|  5|2004|\n",
            "|         4|  2004-05-09|2004-05-15|    NORDESTE|            ALAGOAS|ETANOL HIDRATADO|                         103|             R$/l|              1.181|                0.078|                1.05|                 1.4|                0.24|                   0.066|                   0.941|                     0.077|                   0.7441|                   1.0317|                        0.082|  5|2004|\n",
            "|         5|  2004-05-09|2004-05-15|    NORDESTE|              BAHIA|ETANOL HIDRATADO|                         408|             R$/l|              1.383|                0.132|               0.999|                2.05|               0.426|                   0.095|                   0.957|                     0.128|                   0.5686|                     1.35|                        0.134|  5|2004|\n",
            "|         6|  2004-05-09|2004-05-15|    NORDESTE|              CEARA|ETANOL HIDRATADO|                         278|             R$/l|              1.453|                0.218|                1.03|                1.95|               0.353|                    0.15|                     1.1|                     0.068|                   0.7332|                    1.294|                        0.062|  5|2004|\n",
            "|         7|  2004-05-09|2004-05-15|    NORDESTE|           MARANHAO|ETANOL HIDRATADO|                         105|             R$/l|              1.631|                0.158|                1.35|                 2.0|               0.515|      0.0969999999999999|                   1.116|                     0.091|                   0.9923|                  1.36183|                        0.082|  5|2004|\n",
            "|         8|  2004-05-09|2004-05-15|    NORDESTE|            PARAIBA|ETANOL HIDRATADO|                         125|             R$/l|              1.284|                 0.13|                 1.1|               1.699|               0.353|       0.100999999999999|                   0.931|                     0.072|                   0.7577|                   1.2972|                        0.077|  5|2004|\n",
            "|         9|  2004-05-09|2004-05-15|    NORDESTE|         PERNAMBUCO|ETANOL HIDRATADO|                         423|             R$/l|              1.224|                0.141|               0.989|                 1.7|               0.277|                   0.115|                   0.947|                     0.091|                   0.5643|                   1.3541|                        0.096|  5|2004|\n",
            "|        10|  2004-05-09|2004-05-15|    NORDESTE|              PIAUI|ETANOL HIDRATADO|                          89|             R$/l|              1.573|                0.134|                 1.4|                1.78|               0.494|                   0.085|                   1.079|                     0.078|                   0.8857|                   1.2499|                        0.072|  5|2004|\n",
            "|        11|  2004-05-09|2004-05-15|    NORDESTE|RIO GRANDE DO NORTE|ETANOL HIDRATADO|                         131|             R$/l|              1.276|    0.115999999999999|                1.09|                1.59|               0.332|                   0.091|                   0.944|                     0.078|                   0.7119|                   1.1386|                        0.083|  5|2004|\n",
            "|        12|  2004-05-09|2004-05-15|    NORDESTE|            SERGIPE|ETANOL HIDRATADO|                          57|             R$/l|              1.301|                0.109|                1.15|                1.75|               0.321|                   0.084|                    0.98|                     0.052|                   0.8267|                   1.1059|                        0.053|  5|2004|\n",
            "|        13|  2004-05-09|2004-05-15|       NORTE|               ACRE|ETANOL HIDRATADO|                          33|             R$/l|              1.805|                0.134|                 1.5|                1.98|               0.689|                   0.074|                   1.116|                     0.171|                    0.767|                   1.2992|                        0.153|  5|2004|\n",
            "|        14|  2004-05-09|2004-05-15|       NORTE|              AMAPA|ETANOL HIDRATADO|                          15|             R$/l|              1.785|                0.035|                1.74|                1.85|               0.412|                    0.02|                   1.373|                     0.167|                   0.8339|                   1.4912|                        0.122|  5|2004|\n",
            "|        15|  2004-05-09|2004-05-15|       NORTE|           AMAZONAS|ETANOL HIDRATADO|                          53|             R$/l|              1.578|                0.123|                1.28|                1.85|               0.441|                   0.078|                   1.137|                     0.068|                   0.9515|                   1.2109|                         0.06|  5|2004|\n",
            "|        16|  2004-05-09|2004-05-15|       NORTE|               PARA|ETANOL HIDRATADO|                         104|             R$/l|              1.914|                0.246|                1.27|                 2.4|               0.536|                   0.129|                   1.378|                     0.237|                   0.7564|                   1.8908|                        0.172|  5|2004|\n",
            "|        17|  2004-05-09|2004-05-15|       NORTE|           RONDONIA|ETANOL HIDRATADO|                          97|             R$/l|              1.545|                0.141|                1.25|                1.99|               0.533|                   0.091|                   1.012|                     0.149|                     0.52|                   1.3306|                        0.147|  5|2004|\n",
            "|        18|  2004-05-09|2004-05-15|       NORTE|            RORAIMA|ETANOL HIDRATADO|                          14|             R$/l|                1.3|                  0.0|                 1.3|                 1.3|               0.202|                     0.0|                   1.098|                     0.096|                   0.9798|                   1.3577|                        0.087|  5|2004|\n",
            "|        19|  2004-05-09|2004-05-15|       NORTE|          TOCANTINS|ETANOL HIDRATADO|                          71|             R$/l|              1.226|                0.081|                1.05|                1.43|               0.546|                   0.066|                    0.68|                     0.114|                  0.51022|                    1.035|                        0.168|  5|2004|\n",
            "+----------+------------+----------+------------+-------------------+----------------+----------------------------+-----------------+-------------------+---------------------+--------------------+--------------------+--------------------+------------------------+------------------------+--------------------------+-------------------------+-------------------------+-----------------------------+---+----+\n",
            "only showing top 20 rows\n",
            "\n"
          ]
        }
      ]
    },
    {
      "cell_type": "code",
      "source": [
        "# Perceba que temos um dataframe spark, ao invés de um dataframe pandas\n",
        "type(df)"
      ],
      "metadata": {
        "colab": {
          "base_uri": "https://localhost:8080/"
        },
        "id": "1iK2yGRTAOPJ",
        "outputId": "f25c44aa-31a3-4424-a42b-56ab587c82be"
      },
      "execution_count": 8,
      "outputs": [
        {
          "output_type": "execute_result",
          "data": {
            "text/plain": [
              "pyspark.sql.dataframe.DataFrame"
            ]
          },
          "metadata": {},
          "execution_count": 8
        }
      ]
    },
    {
      "cell_type": "markdown",
      "source": [
        "### Insight\n",
        "Assim como no caso do pandas, a coluna 'Unnamed: 0' originou-se do uso de um separador na importação e também não tem valor informativo relevante. Para deletar essa coluna no pyspark, usarei o .drop() ."
      ],
      "metadata": {
        "id": "UWJiczYhMhjs"
      }
    },
    {
      "cell_type": "code",
      "source": [
        "df = df.drop('Unnamed: 0')"
      ],
      "metadata": {
        "id": "InhciFiCNNWL"
      },
      "execution_count": 9,
      "outputs": []
    },
    {
      "cell_type": "markdown",
      "source": [
        "### Informações básicas dos dados\n",
        "No PySpark, não há um método direto equivalente ao .info() do pandas, mas é possível obter informações semelhantes combinando alguns métodos e propriedades do DataFrame Spark. Nesse caso,simularei o .info com o seguinte:\n",
        "\n",
        "- Número de Linhas: Use df.count().\n",
        "- Nomes de Colunas: Use df.columns.\n",
        "- Tipos de Dados por coluna: Use df.dtypes."
      ],
      "metadata": {
        "id": "9yK_rQYU_r98"
      }
    },
    {
      "cell_type": "code",
      "source": [
        "# Número de linhas e colunas - equivale a .shape no pandas\n",
        "num_linhas = df.count()\n",
        "num_cols = len(df.columns)\n",
        "\n",
        "print(f\"Total de linhas: {num_linhas}\")\n",
        "print(f\"Total de cols: {num_cols}\")\n",
        "\n",
        "# Checando as colunas do df spark e seus respectivos tipos\n",
        "df.dtypes"
      ],
      "metadata": {
        "colab": {
          "base_uri": "https://localhost:8080/"
        },
        "id": "3cDLvV_tBWZN",
        "outputId": "b219b75f-87c9-4fb0-a888-925021a5be5e"
      },
      "execution_count": 10,
      "outputs": [
        {
          "output_type": "stream",
          "name": "stdout",
          "text": [
            "Total de linhas: 106823\n",
            "Total de cols: 20\n"
          ]
        },
        {
          "output_type": "execute_result",
          "data": {
            "text/plain": [
              "[('DATA INICIAL', 'string'),\n",
              " ('DATA FINAL', 'string'),\n",
              " ('REGIÃO', 'string'),\n",
              " ('ESTADO', 'string'),\n",
              " ('PRODUTO', 'string'),\n",
              " ('NÚMERO DE POSTOS PESQUISADOS', 'string'),\n",
              " ('UNIDADE DE MEDIDA', 'string'),\n",
              " ('PREÇO MÉDIO REVENDA', 'string'),\n",
              " ('DESVIO PADRÃO REVENDA', 'string'),\n",
              " ('PREÇO MÍNIMO REVENDA', 'string'),\n",
              " ('PREÇO MÁXIMO REVENDA', 'string'),\n",
              " ('MARGEM MÉDIA REVENDA', 'string'),\n",
              " ('COEF DE VARIAÇÃO REVENDA', 'string'),\n",
              " ('PREÇO MÉDIO DISTRIBUIÇÃO', 'string'),\n",
              " ('DESVIO PADRÃO DISTRIBUIÇÃO', 'string'),\n",
              " ('PREÇO MÍNIMO DISTRIBUIÇÃO', 'string'),\n",
              " ('PREÇO MÁXIMO DISTRIBUIÇÃO', 'string'),\n",
              " ('COEF DE VARIAÇÃO DISTRIBUIÇÃO', 'string'),\n",
              " ('MÊS', 'string'),\n",
              " ('ANO', 'string')]"
            ]
          },
          "metadata": {},
          "execution_count": 10
        }
      ]
    },
    {
      "cell_type": "code",
      "source": [
        "# Outro método interessante é o printSchema()\n",
        "df.printSchema()"
      ],
      "metadata": {
        "colab": {
          "base_uri": "https://localhost:8080/"
        },
        "id": "SL58Gs9ccKo_",
        "outputId": "5beca052-d36f-4db5-826e-8798eeba4257"
      },
      "execution_count": 11,
      "outputs": [
        {
          "output_type": "stream",
          "name": "stdout",
          "text": [
            "root\n",
            " |-- DATA INICIAL: string (nullable = true)\n",
            " |-- DATA FINAL: string (nullable = true)\n",
            " |-- REGIÃO: string (nullable = true)\n",
            " |-- ESTADO: string (nullable = true)\n",
            " |-- PRODUTO: string (nullable = true)\n",
            " |-- NÚMERO DE POSTOS PESQUISADOS: string (nullable = true)\n",
            " |-- UNIDADE DE MEDIDA: string (nullable = true)\n",
            " |-- PREÇO MÉDIO REVENDA: string (nullable = true)\n",
            " |-- DESVIO PADRÃO REVENDA: string (nullable = true)\n",
            " |-- PREÇO MÍNIMO REVENDA: string (nullable = true)\n",
            " |-- PREÇO MÁXIMO REVENDA: string (nullable = true)\n",
            " |-- MARGEM MÉDIA REVENDA: string (nullable = true)\n",
            " |-- COEF DE VARIAÇÃO REVENDA: string (nullable = true)\n",
            " |-- PREÇO MÉDIO DISTRIBUIÇÃO: string (nullable = true)\n",
            " |-- DESVIO PADRÃO DISTRIBUIÇÃO: string (nullable = true)\n",
            " |-- PREÇO MÍNIMO DISTRIBUIÇÃO: string (nullable = true)\n",
            " |-- PREÇO MÁXIMO DISTRIBUIÇÃO: string (nullable = true)\n",
            " |-- COEF DE VARIAÇÃO DISTRIBUIÇÃO: string (nullable = true)\n",
            " |-- MÊS: string (nullable = true)\n",
            " |-- ANO: string (nullable = true)\n",
            "\n"
          ]
        }
      ]
    },
    {
      "cell_type": "markdown",
      "source": [
        "## Atribuindo valor constante à uma coluna existente\n",
        "Agora irei replicar a lógica feita em pandas para atribuir um valor constante para pyspark.\n",
        "\n",
        "1. Criar um novo df (df2) que sofrerá as alterações, mantendo assim o df original intacto\n",
        "- Atribuir à uma nova variável\n",
        "\n",
        "2. Modificar uma coluna\n",
        "- O método withColumn do DataFrame é usado para substituir/modificar valores das colunas.\n",
        "\n",
        "3. Atribuir o valor constante com a Função `lit`\n",
        "\n",
        "- `lit` é uma função do PySpark cujo nome é uma abreviação de \"literal\". Ela é utilizada para criar uma coluna de valores constantes em um DataFrame.\n",
        "  - Funciona também com valores numéricos\n",
        "- **Objetivo**: Converter um valor literal constante em uma coluna de valores constantes."
      ],
      "metadata": {
        "id": "9_U1GNSYCuUN"
      }
    },
    {
      "cell_type": "code",
      "source": [
        "# Copiando o conteúdo de df para df2\n",
        "df2 = df # atribuir a nova variável\n",
        "df2.printSchema()"
      ],
      "metadata": {
        "colab": {
          "base_uri": "https://localhost:8080/"
        },
        "id": "mA79RW805rXV",
        "outputId": "4de00762-2cc7-4b70-ba0e-c3668185e684"
      },
      "execution_count": 12,
      "outputs": [
        {
          "output_type": "stream",
          "name": "stdout",
          "text": [
            "root\n",
            " |-- DATA INICIAL: string (nullable = true)\n",
            " |-- DATA FINAL: string (nullable = true)\n",
            " |-- REGIÃO: string (nullable = true)\n",
            " |-- ESTADO: string (nullable = true)\n",
            " |-- PRODUTO: string (nullable = true)\n",
            " |-- NÚMERO DE POSTOS PESQUISADOS: string (nullable = true)\n",
            " |-- UNIDADE DE MEDIDA: string (nullable = true)\n",
            " |-- PREÇO MÉDIO REVENDA: string (nullable = true)\n",
            " |-- DESVIO PADRÃO REVENDA: string (nullable = true)\n",
            " |-- PREÇO MÍNIMO REVENDA: string (nullable = true)\n",
            " |-- PREÇO MÁXIMO REVENDA: string (nullable = true)\n",
            " |-- MARGEM MÉDIA REVENDA: string (nullable = true)\n",
            " |-- COEF DE VARIAÇÃO REVENDA: string (nullable = true)\n",
            " |-- PREÇO MÉDIO DISTRIBUIÇÃO: string (nullable = true)\n",
            " |-- DESVIO PADRÃO DISTRIBUIÇÃO: string (nullable = true)\n",
            " |-- PREÇO MÍNIMO DISTRIBUIÇÃO: string (nullable = true)\n",
            " |-- PREÇO MÁXIMO DISTRIBUIÇÃO: string (nullable = true)\n",
            " |-- COEF DE VARIAÇÃO DISTRIBUIÇÃO: string (nullable = true)\n",
            " |-- MÊS: string (nullable = true)\n",
            " |-- ANO: string (nullable = true)\n",
            "\n"
          ]
        }
      ]
    },
    {
      "cell_type": "code",
      "source": [
        "# Atribuindo o valor \"Combustível\" para toda a coluna \"PRODUTO\" do df2 e salvando o resultado no df2\n",
        "df2 = df2.withColumn(\"PRODUTO\", lit(\"Combustível\"))\n",
        "\n",
        "# Visualizando as 15 primeiras linhas para conferência\n",
        "df2.show(15)\n"
      ],
      "metadata": {
        "colab": {
          "base_uri": "https://localhost:8080/"
        },
        "id": "l6ypevRzyUt_",
        "outputId": "66eaab16-9df7-4b13-cb63-128b0459665d"
      },
      "execution_count": 13,
      "outputs": [
        {
          "output_type": "stream",
          "name": "stdout",
          "text": [
            "+------------+----------+------------+-------------------+-----------+----------------------------+-----------------+-------------------+---------------------+--------------------+--------------------+--------------------+------------------------+------------------------+--------------------------+-------------------------+-------------------------+-----------------------------+---+----+\n",
            "|DATA INICIAL|DATA FINAL|      REGIÃO|             ESTADO|    PRODUTO|NÚMERO DE POSTOS PESQUISADOS|UNIDADE DE MEDIDA|PREÇO MÉDIO REVENDA|DESVIO PADRÃO REVENDA|PREÇO MÍNIMO REVENDA|PREÇO MÁXIMO REVENDA|MARGEM MÉDIA REVENDA|COEF DE VARIAÇÃO REVENDA|PREÇO MÉDIO DISTRIBUIÇÃO|DESVIO PADRÃO DISTRIBUIÇÃO|PREÇO MÍNIMO DISTRIBUIÇÃO|PREÇO MÁXIMO DISTRIBUIÇÃO|COEF DE VARIAÇÃO DISTRIBUIÇÃO|MÊS| ANO|\n",
            "+------------+----------+------------+-------------------+-----------+----------------------------+-----------------+-------------------+---------------------+--------------------+--------------------+--------------------+------------------------+------------------------+--------------------------+-------------------------+-------------------------+-----------------------------+---+----+\n",
            "|  2004-05-09|2004-05-15|CENTRO OESTE|   DISTRITO FEDERAL|Combustível|                         127|             R$/l|              1.288|                0.016|                1.19|                1.35|               0.463|                   0.012|                   0.825|                      0.11|                   0.4201|                   0.9666|                        0.133|  5|2004|\n",
            "|  2004-05-09|2004-05-15|CENTRO OESTE|              GOIAS|Combustível|                         387|             R$/l|              1.162|                0.114|                0.89|               1.449|               0.399|                   0.098|                   0.763|                     0.088|                   0.5013|                     1.05|                        0.115|  5|2004|\n",
            "|  2004-05-09|2004-05-15|CENTRO OESTE|        MATO GROSSO|Combustível|                         192|             R$/l|              1.389|   0.0969999999999999|                1.18|                1.76|               0.419|                    0.07|                    0.97|                     0.095|                   0.5614|                    1.161|                        0.098|  5|2004|\n",
            "|  2004-05-09|2004-05-15|CENTRO OESTE| MATO GROSSO DO SUL|Combustível|                         162|             R$/l|              1.262|                 0.07|                1.09|               1.509|               0.432|                   0.055|                    0.83|                     0.119|                   0.5991|                  1.22242|                        0.143|  5|2004|\n",
            "|  2004-05-09|2004-05-15|    NORDESTE|            ALAGOAS|Combustível|                         103|             R$/l|              1.181|                0.078|                1.05|                 1.4|                0.24|                   0.066|                   0.941|                     0.077|                   0.7441|                   1.0317|                        0.082|  5|2004|\n",
            "|  2004-05-09|2004-05-15|    NORDESTE|              BAHIA|Combustível|                         408|             R$/l|              1.383|                0.132|               0.999|                2.05|               0.426|                   0.095|                   0.957|                     0.128|                   0.5686|                     1.35|                        0.134|  5|2004|\n",
            "|  2004-05-09|2004-05-15|    NORDESTE|              CEARA|Combustível|                         278|             R$/l|              1.453|                0.218|                1.03|                1.95|               0.353|                    0.15|                     1.1|                     0.068|                   0.7332|                    1.294|                        0.062|  5|2004|\n",
            "|  2004-05-09|2004-05-15|    NORDESTE|           MARANHAO|Combustível|                         105|             R$/l|              1.631|                0.158|                1.35|                 2.0|               0.515|      0.0969999999999999|                   1.116|                     0.091|                   0.9923|                  1.36183|                        0.082|  5|2004|\n",
            "|  2004-05-09|2004-05-15|    NORDESTE|            PARAIBA|Combustível|                         125|             R$/l|              1.284|                 0.13|                 1.1|               1.699|               0.353|       0.100999999999999|                   0.931|                     0.072|                   0.7577|                   1.2972|                        0.077|  5|2004|\n",
            "|  2004-05-09|2004-05-15|    NORDESTE|         PERNAMBUCO|Combustível|                         423|             R$/l|              1.224|                0.141|               0.989|                 1.7|               0.277|                   0.115|                   0.947|                     0.091|                   0.5643|                   1.3541|                        0.096|  5|2004|\n",
            "|  2004-05-09|2004-05-15|    NORDESTE|              PIAUI|Combustível|                          89|             R$/l|              1.573|                0.134|                 1.4|                1.78|               0.494|                   0.085|                   1.079|                     0.078|                   0.8857|                   1.2499|                        0.072|  5|2004|\n",
            "|  2004-05-09|2004-05-15|    NORDESTE|RIO GRANDE DO NORTE|Combustível|                         131|             R$/l|              1.276|    0.115999999999999|                1.09|                1.59|               0.332|                   0.091|                   0.944|                     0.078|                   0.7119|                   1.1386|                        0.083|  5|2004|\n",
            "|  2004-05-09|2004-05-15|    NORDESTE|            SERGIPE|Combustível|                          57|             R$/l|              1.301|                0.109|                1.15|                1.75|               0.321|                   0.084|                    0.98|                     0.052|                   0.8267|                   1.1059|                        0.053|  5|2004|\n",
            "|  2004-05-09|2004-05-15|       NORTE|               ACRE|Combustível|                          33|             R$/l|              1.805|                0.134|                 1.5|                1.98|               0.689|                   0.074|                   1.116|                     0.171|                    0.767|                   1.2992|                        0.153|  5|2004|\n",
            "|  2004-05-09|2004-05-15|       NORTE|              AMAPA|Combustível|                          15|             R$/l|              1.785|                0.035|                1.74|                1.85|               0.412|                    0.02|                   1.373|                     0.167|                   0.8339|                   1.4912|                        0.122|  5|2004|\n",
            "+------------+----------+------------+-------------------+-----------+----------------------------+-----------------+-------------------+---------------------+--------------------+--------------------+--------------------+------------------------+------------------------+--------------------------+-------------------------+-------------------------+-----------------------------+---+----+\n",
            "only showing top 15 rows\n",
            "\n"
          ]
        }
      ]
    },
    {
      "cell_type": "code",
      "source": [
        "#Visualizando as 15 ultimas linhas para conferência\n",
        "# No Pyspark não tem um método direto equivalente ao tail() do Pandas.\n",
        "# No entanto, pode-se usar uma combinação de count() e orderBy() para obter um resultado similar, usando uma col de referência.\n",
        "# A col de referencia usada foi a DATA INICIAL, pois o df já está naturalmente ordenado por essa col.\n",
        "df2.orderBy(\"DATA INICIAL\", ascending=False).show(15)"
      ],
      "metadata": {
        "colab": {
          "base_uri": "https://localhost:8080/"
        },
        "id": "u1HKJ7ZWDnD6",
        "outputId": "0b3f0595-8941-4e34-a9b2-c25c138405c0"
      },
      "execution_count": 14,
      "outputs": [
        {
          "output_type": "stream",
          "name": "stdout",
          "text": [
            "+------------+----------+------------+------------------+-----------+----------------------------+-----------------+-------------------+---------------------+--------------------+--------------------+--------------------+------------------------+------------------------+--------------------------+-------------------------+-------------------------+-----------------------------+---+----+\n",
            "|DATA INICIAL|DATA FINAL|      REGIÃO|            ESTADO|    PRODUTO|NÚMERO DE POSTOS PESQUISADOS|UNIDADE DE MEDIDA|PREÇO MÉDIO REVENDA|DESVIO PADRÃO REVENDA|PREÇO MÍNIMO REVENDA|PREÇO MÁXIMO REVENDA|MARGEM MÉDIA REVENDA|COEF DE VARIAÇÃO REVENDA|PREÇO MÉDIO DISTRIBUIÇÃO|DESVIO PADRÃO DISTRIBUIÇÃO|PREÇO MÍNIMO DISTRIBUIÇÃO|PREÇO MÁXIMO DISTRIBUIÇÃO|COEF DE VARIAÇÃO DISTRIBUIÇÃO|MÊS| ANO|\n",
            "+------------+----------+------------+------------------+-----------+----------------------------+-----------------+-------------------+---------------------+--------------------+--------------------+--------------------+------------------------+------------------------+--------------------------+-------------------------+-------------------------+-----------------------------+---+----+\n",
            "|  2019-06-23|2019-06-29|       NORTE|              ACRE|Combustível|                          20|             R$/l|              3.948|                0.238|                3.69|                4.69|               0.653|                    0.06|                   3.295|                     0.024|                   3.2553|                   3.3238|                        0.007|  6|2019|\n",
            "|  2019-06-23|2019-06-29|    NORDESTE|        PERNAMBUCO|Combustível|                         175|             R$/l|              3.589|                0.131|               3.388|               3.995|               0.415|                   0.037|                   3.174|                     0.104|                   2.9406|                   3.5158|                        0.033|  6|2019|\n",
            "|  2019-06-23|2019-06-29|    NORDESTE|           ALAGOAS|Combustível|                          54|             R$/l|              3.627|                0.223|               3.299|                 4.1|               0.218|                   0.061|                   3.409|                     0.185|                   3.0072|                   3.6405|                        0.054|  6|2019|\n",
            "|  2019-06-23|2019-06-29|       NORTE|          AMAZONAS|Combustível|                          36|             R$/l|              3.339|   0.0819999999999999|                3.17|                3.59|               0.312|                   0.025|                   3.027|                     0.067|                   2.8165|                   3.1507|                        0.022|  6|2019|\n",
            "|  2019-06-23|2019-06-29|    NORDESTE|             BAHIA|Combustível|                         334|             R$/l|              3.447|                0.213|                2.89|               4.299|               0.646|                   0.062|                   2.801|                     0.148|                    2.379|                   3.3981|                        0.053|  6|2019|\n",
            "|  2019-06-23|2019-06-29|    NORDESTE|             CEARA|Combustível|                         199|             R$/l|              3.791|                0.094|                3.59|               3.999|               0.476|                   0.025|                   3.315|                     0.044|                   3.1867|                   3.3699|                        0.013|  6|2019|\n",
            "|  2019-06-23|2019-06-29|CENTRO OESTE|  DISTRITO FEDERAL|Combustível|                          46|             R$/l|              3.157|                 0.13|               2.899|               3.699|               0.356|      0.0409999999999999|                   2.801|                     0.103|                   2.6567|                   3.0707|                        0.037|  6|2019|\n",
            "|  2019-06-23|2019-06-29|     SUDESTE|    ESPIRITO SANTO|Combustível|                          73|             R$/l|              3.631|                0.173|                3.22|               4.299|               0.388|                   0.048|                   3.243|                     0.118|                   2.8522|                   3.3878|                        0.036|  6|2019|\n",
            "|  2019-06-23|2019-06-29|CENTRO OESTE|             GOIAS|Combustível|                         234|             R$/l|                2.9|                0.125|                2.63|               3.349|               0.489|                   0.043|                   2.411|                     0.067|                   2.2566|                   2.6056|                        0.028|  6|2019|\n",
            "|  2019-06-23|2019-06-29|    NORDESTE|          MARANHAO|Combustível|                          46|             R$/l|               3.71|                0.226|               3.299|                 4.4|               0.442|                   0.061|                   3.268|                     0.102|                     3.19|                   3.4043|                        0.031|  6|2019|\n",
            "|  2019-06-23|2019-06-29|CENTRO OESTE|       MATO GROSSO|Combustível|                         160|             R$/l|              2.436|                0.188|               2.177|               2.899|               0.296|                   0.077|                    2.14|                     0.116|                     2.07|                   2.4417|                        0.054|  6|2019|\n",
            "|  2019-06-23|2019-06-29|CENTRO OESTE|MATO GROSSO DO SUL|Combustível|                          85|             R$/l|              3.434|    0.188999999999999|               3.129|               3.899|               0.475|                   0.055|                   2.959|                     0.058|                     2.84|                   3.0921|                         0.02|  6|2019|\n",
            "|  2019-06-23|2019-06-29|     SUDESTE|      MINAS GERAIS|Combustível|                         591|             R$/l|              2.918|                0.182|               2.499|               3.599|               0.395|                   0.062|                   2.523|                     0.155|                   2.1927|                   3.0347|                        0.061|  6|2019|\n",
            "|  2019-06-23|2019-06-29|       NORTE|              PARA|Combustível|                          48|             R$/l|              3.843|                0.303|                3.39|                4.97|               0.466|                   0.079|                   3.377|                     0.068|                     3.31|                   3.4801|                         0.02|  6|2019|\n",
            "|  2019-06-23|2019-06-29|    NORDESTE|           PARAIBA|Combustível|                          62|             R$/l|              3.611|    0.100999999999999|                3.47|                 3.9|               0.422|      0.0279999999999999|                   3.189|                     0.057|                   3.0599|                   3.3281|                        0.018|  6|2019|\n",
            "+------------+----------+------------+------------------+-----------+----------------------------+-----------------+-------------------+---------------------+--------------------+--------------------+--------------------+------------------------+------------------------+--------------------------+-------------------------+-------------------------+-----------------------------+---+----+\n",
            "only showing top 15 rows\n",
            "\n"
          ]
        }
      ]
    },
    {
      "cell_type": "code",
      "source": [
        "# Conferindo que o df original não foi modificado - checando primeiras 100\n",
        "df.select('PRODUTO').show(100)"
      ],
      "metadata": {
        "colab": {
          "base_uri": "https://localhost:8080/"
        },
        "id": "EZ4JgLxb20aa",
        "outputId": "94d5111f-1b1d-4d62-a506-0f0193dac92f"
      },
      "execution_count": 15,
      "outputs": [
        {
          "output_type": "stream",
          "name": "stdout",
          "text": [
            "+----------------+\n",
            "|         PRODUTO|\n",
            "+----------------+\n",
            "|ETANOL HIDRATADO|\n",
            "|ETANOL HIDRATADO|\n",
            "|ETANOL HIDRATADO|\n",
            "|ETANOL HIDRATADO|\n",
            "|ETANOL HIDRATADO|\n",
            "|ETANOL HIDRATADO|\n",
            "|ETANOL HIDRATADO|\n",
            "|ETANOL HIDRATADO|\n",
            "|ETANOL HIDRATADO|\n",
            "|ETANOL HIDRATADO|\n",
            "|ETANOL HIDRATADO|\n",
            "|ETANOL HIDRATADO|\n",
            "|ETANOL HIDRATADO|\n",
            "|ETANOL HIDRATADO|\n",
            "|ETANOL HIDRATADO|\n",
            "|ETANOL HIDRATADO|\n",
            "|ETANOL HIDRATADO|\n",
            "|ETANOL HIDRATADO|\n",
            "|ETANOL HIDRATADO|\n",
            "|ETANOL HIDRATADO|\n",
            "|ETANOL HIDRATADO|\n",
            "|ETANOL HIDRATADO|\n",
            "|ETANOL HIDRATADO|\n",
            "|ETANOL HIDRATADO|\n",
            "|ETANOL HIDRATADO|\n",
            "|ETANOL HIDRATADO|\n",
            "|ETANOL HIDRATADO|\n",
            "|ETANOL HIDRATADO|\n",
            "|ETANOL HIDRATADO|\n",
            "|ETANOL HIDRATADO|\n",
            "|ETANOL HIDRATADO|\n",
            "|ETANOL HIDRATADO|\n",
            "|ETANOL HIDRATADO|\n",
            "|ETANOL HIDRATADO|\n",
            "|ETANOL HIDRATADO|\n",
            "|ETANOL HIDRATADO|\n",
            "|ETANOL HIDRATADO|\n",
            "|ETANOL HIDRATADO|\n",
            "|ETANOL HIDRATADO|\n",
            "|ETANOL HIDRATADO|\n",
            "|ETANOL HIDRATADO|\n",
            "|ETANOL HIDRATADO|\n",
            "|ETANOL HIDRATADO|\n",
            "|ETANOL HIDRATADO|\n",
            "|ETANOL HIDRATADO|\n",
            "|ETANOL HIDRATADO|\n",
            "|ETANOL HIDRATADO|\n",
            "|ETANOL HIDRATADO|\n",
            "|ETANOL HIDRATADO|\n",
            "|ETANOL HIDRATADO|\n",
            "|ETANOL HIDRATADO|\n",
            "|ETANOL HIDRATADO|\n",
            "|ETANOL HIDRATADO|\n",
            "|ETANOL HIDRATADO|\n",
            "|ETANOL HIDRATADO|\n",
            "|ETANOL HIDRATADO|\n",
            "|ETANOL HIDRATADO|\n",
            "|ETANOL HIDRATADO|\n",
            "|ETANOL HIDRATADO|\n",
            "|ETANOL HIDRATADO|\n",
            "|ETANOL HIDRATADO|\n",
            "|ETANOL HIDRATADO|\n",
            "|ETANOL HIDRATADO|\n",
            "|ETANOL HIDRATADO|\n",
            "|ETANOL HIDRATADO|\n",
            "|ETANOL HIDRATADO|\n",
            "|ETANOL HIDRATADO|\n",
            "|ETANOL HIDRATADO|\n",
            "|ETANOL HIDRATADO|\n",
            "|ETANOL HIDRATADO|\n",
            "|ETANOL HIDRATADO|\n",
            "|ETANOL HIDRATADO|\n",
            "|ETANOL HIDRATADO|\n",
            "|ETANOL HIDRATADO|\n",
            "|ETANOL HIDRATADO|\n",
            "|ETANOL HIDRATADO|\n",
            "|ETANOL HIDRATADO|\n",
            "|ETANOL HIDRATADO|\n",
            "|ETANOL HIDRATADO|\n",
            "|ETANOL HIDRATADO|\n",
            "|ETANOL HIDRATADO|\n",
            "|ETANOL HIDRATADO|\n",
            "|ETANOL HIDRATADO|\n",
            "|ETANOL HIDRATADO|\n",
            "|ETANOL HIDRATADO|\n",
            "|ETANOL HIDRATADO|\n",
            "|ETANOL HIDRATADO|\n",
            "|ETANOL HIDRATADO|\n",
            "|ETANOL HIDRATADO|\n",
            "|ETANOL HIDRATADO|\n",
            "|ETANOL HIDRATADO|\n",
            "|ETANOL HIDRATADO|\n",
            "|ETANOL HIDRATADO|\n",
            "|ETANOL HIDRATADO|\n",
            "|ETANOL HIDRATADO|\n",
            "|ETANOL HIDRATADO|\n",
            "|ETANOL HIDRATADO|\n",
            "|ETANOL HIDRATADO|\n",
            "|ETANOL HIDRATADO|\n",
            "|ETANOL HIDRATADO|\n",
            "+----------------+\n",
            "only showing top 100 rows\n",
            "\n"
          ]
        }
      ]
    },
    {
      "cell_type": "code",
      "source": [
        "# Conferindo que o df original não foi modificado - checando ultimas 100\n",
        "df.select('PRODUTO').orderBy(\"DATA INICIAL\", ascending=False).show(100)"
      ],
      "metadata": {
        "colab": {
          "base_uri": "https://localhost:8080/"
        },
        "id": "BAcIdDMZ3XOc",
        "outputId": "04dd8583-381d-44c5-b125-48f121366c2f"
      },
      "execution_count": 16,
      "outputs": [
        {
          "output_type": "stream",
          "name": "stdout",
          "text": [
            "+----------------+\n",
            "|         PRODUTO|\n",
            "+----------------+\n",
            "|ETANOL HIDRATADO|\n",
            "|  GASOLINA COMUM|\n",
            "|ETANOL HIDRATADO|\n",
            "|ETANOL HIDRATADO|\n",
            "|ETANOL HIDRATADO|\n",
            "|ETANOL HIDRATADO|\n",
            "|ETANOL HIDRATADO|\n",
            "|ETANOL HIDRATADO|\n",
            "|ETANOL HIDRATADO|\n",
            "|ETANOL HIDRATADO|\n",
            "|ETANOL HIDRATADO|\n",
            "|ETANOL HIDRATADO|\n",
            "|ETANOL HIDRATADO|\n",
            "|ETANOL HIDRATADO|\n",
            "|ETANOL HIDRATADO|\n",
            "|ETANOL HIDRATADO|\n",
            "|ETANOL HIDRATADO|\n",
            "|ETANOL HIDRATADO|\n",
            "|ETANOL HIDRATADO|\n",
            "|ETANOL HIDRATADO|\n",
            "|ETANOL HIDRATADO|\n",
            "|ETANOL HIDRATADO|\n",
            "|ETANOL HIDRATADO|\n",
            "|ETANOL HIDRATADO|\n",
            "|ETANOL HIDRATADO|\n",
            "|ETANOL HIDRATADO|\n",
            "|ETANOL HIDRATADO|\n",
            "|     ÓLEO DIESEL|\n",
            "|     ÓLEO DIESEL|\n",
            "|     ÓLEO DIESEL|\n",
            "|     ÓLEO DIESEL|\n",
            "|     ÓLEO DIESEL|\n",
            "|     ÓLEO DIESEL|\n",
            "|     ÓLEO DIESEL|\n",
            "|     ÓLEO DIESEL|\n",
            "|     ÓLEO DIESEL|\n",
            "|     ÓLEO DIESEL|\n",
            "|     ÓLEO DIESEL|\n",
            "|     ÓLEO DIESEL|\n",
            "|     ÓLEO DIESEL|\n",
            "|     ÓLEO DIESEL|\n",
            "|     ÓLEO DIESEL|\n",
            "|     ÓLEO DIESEL|\n",
            "|     ÓLEO DIESEL|\n",
            "|     ÓLEO DIESEL|\n",
            "|     ÓLEO DIESEL|\n",
            "|     ÓLEO DIESEL|\n",
            "|     ÓLEO DIESEL|\n",
            "|     ÓLEO DIESEL|\n",
            "|     ÓLEO DIESEL|\n",
            "|     ÓLEO DIESEL|\n",
            "|     ÓLEO DIESEL|\n",
            "|     ÓLEO DIESEL|\n",
            "|     ÓLEO DIESEL|\n",
            "| ÓLEO DIESEL S10|\n",
            "| ÓLEO DIESEL S10|\n",
            "| ÓLEO DIESEL S10|\n",
            "| ÓLEO DIESEL S10|\n",
            "| ÓLEO DIESEL S10|\n",
            "| ÓLEO DIESEL S10|\n",
            "| ÓLEO DIESEL S10|\n",
            "| ÓLEO DIESEL S10|\n",
            "| ÓLEO DIESEL S10|\n",
            "| ÓLEO DIESEL S10|\n",
            "| ÓLEO DIESEL S10|\n",
            "| ÓLEO DIESEL S10|\n",
            "| ÓLEO DIESEL S10|\n",
            "| ÓLEO DIESEL S10|\n",
            "| ÓLEO DIESEL S10|\n",
            "| ÓLEO DIESEL S10|\n",
            "| ÓLEO DIESEL S10|\n",
            "| ÓLEO DIESEL S10|\n",
            "| ÓLEO DIESEL S10|\n",
            "| ÓLEO DIESEL S10|\n",
            "| ÓLEO DIESEL S10|\n",
            "| ÓLEO DIESEL S10|\n",
            "| ÓLEO DIESEL S10|\n",
            "| ÓLEO DIESEL S10|\n",
            "| ÓLEO DIESEL S10|\n",
            "| ÓLEO DIESEL S10|\n",
            "| ÓLEO DIESEL S10|\n",
            "|  GASOLINA COMUM|\n",
            "|  GASOLINA COMUM|\n",
            "|  GASOLINA COMUM|\n",
            "|  GASOLINA COMUM|\n",
            "|  GASOLINA COMUM|\n",
            "|  GASOLINA COMUM|\n",
            "|  GASOLINA COMUM|\n",
            "|  GASOLINA COMUM|\n",
            "|  GASOLINA COMUM|\n",
            "|  GASOLINA COMUM|\n",
            "|  GASOLINA COMUM|\n",
            "|  GASOLINA COMUM|\n",
            "|  GASOLINA COMUM|\n",
            "|  GASOLINA COMUM|\n",
            "|  GASOLINA COMUM|\n",
            "|  GASOLINA COMUM|\n",
            "|  GASOLINA COMUM|\n",
            "|  GASOLINA COMUM|\n",
            "|  GASOLINA COMUM|\n",
            "+----------------+\n",
            "only showing top 100 rows\n",
            "\n"
          ]
        }
      ]
    },
    {
      "cell_type": "markdown",
      "source": [
        "### Checando o resultado de atribuição de valor constante\n",
        "\n",
        "1. value_counts()\n",
        "\n",
        "No python, usei value_counts() na col PRODUTOS para fazer essa checagem.\n",
        "No Pyspark, não tem essa função. Devemos, como no SQL, primeiro agrupar os valores (.groupBy) da coluna alvo e então fazer a contagem (.count()) .\n",
        "\n",
        "\n",
        "####**Para mostrar o resultado de um dataframe, é sempre necessário usar o .show()**\n"
      ],
      "metadata": {
        "id": "Cs6__RYLHye0"
      }
    },
    {
      "cell_type": "code",
      "source": [
        "df2.groupBy(\"PRODUTO\").count().show()"
      ],
      "metadata": {
        "colab": {
          "base_uri": "https://localhost:8080/"
        },
        "id": "bfEgwjiEGZH4",
        "outputId": "334c5b02-94f9-4de2-cac5-f165a2b5fda0"
      },
      "execution_count": 17,
      "outputs": [
        {
          "output_type": "stream",
          "name": "stdout",
          "text": [
            "+-----------+------+\n",
            "|    PRODUTO| count|\n",
            "+-----------+------+\n",
            "|Combustível|106823|\n",
            "+-----------+------+\n",
            "\n"
          ]
        }
      ]
    },
    {
      "cell_type": "markdown",
      "source": [
        "2. nunique()\n",
        "\n",
        "No python, usei nunique() na col PRODUTOS para fazer essa checagem de valores únicos/distintos.\n",
        "\n",
        "No PySpark, para verificar a quantidade de valores distintos em uma coluna (equivalente ao nunique() do Pandas), pode-se usar o método distinct() seguido de count().\n",
        "\n",
        "####**Nesse caso, como o resultado não é um dataframe, não é necessário o .show(). Inclusive, dará erro se usar.**\n"
      ],
      "metadata": {
        "id": "mHte3LaWIl0Z"
      }
    },
    {
      "cell_type": "code",
      "source": [
        "df2.select(\"PRODUTO\").distinct().count()\n"
      ],
      "metadata": {
        "colab": {
          "base_uri": "https://localhost:8080/"
        },
        "id": "90g-8aoAIOr5",
        "outputId": "314cb9a6-4d4e-40a2-ea5e-a028c2b65e08"
      },
      "execution_count": 18,
      "outputs": [
        {
          "output_type": "execute_result",
          "data": {
            "text/plain": [
              "1"
            ]
          },
          "metadata": {},
          "execution_count": 18
        }
      ]
    },
    {
      "cell_type": "markdown",
      "source": [
        "### Verificando valores distintos em todas as cols de um df spark\n",
        "Para verificar o número de valores únicos em cada coluna do DataFrame Pandas, bastava usar df2.nunique().\n",
        "\n",
        "No PySpark, é necessário usar um loop 'for' para iterar sobre as colunas e aplicar 'distinct().count()' em cada uma delas.\n",
        "\n",
        "O resultado será um um dicionário onde as chaves serão os nomes das colunas, e os respectivos valores serão a quantidade de valores distintos."
      ],
      "metadata": {
        "id": "eGOw9AFCLAQv"
      }
    },
    {
      "cell_type": "code",
      "source": [
        "# iniciando um dicionário vazio\n",
        "contagem_valores_unicos_na_coluna = {}\n",
        "\n",
        "#iterando nas colunas do df2\n",
        "for col in df2.columns:\n",
        "    # colocando no dict a contagem dos val distintos\n",
        "    contagem_valores_unicos_na_coluna[col] = df2.select(col).distinct().count()\n",
        "\n",
        "# printando o dicionário com o resultado\n",
        "print(contagem_valores_unicos_na_coluna)"
      ],
      "metadata": {
        "colab": {
          "base_uri": "https://localhost:8080/"
        },
        "id": "DWld1LCkJJRY",
        "outputId": "281ea8a2-a646-48a8-d9b8-7a670de45e87"
      },
      "execution_count": 19,
      "outputs": [
        {
          "output_type": "stream",
          "name": "stdout",
          "text": [
            "{'DATA INICIAL': 785, 'DATA FINAL': 785, 'REGIÃO': 5, 'ESTADO': 27, 'PRODUTO': 1, 'NÚMERO DE POSTOS PESQUISADOS': 2219, 'UNIDADE DE MEDIDA': 3, 'PREÇO MÉDIO REVENDA': 18612, 'DESVIO PADRÃO REVENDA': 6341, 'PREÇO MÍNIMO REVENDA': 2047, 'PREÇO MÁXIMO REVENDA': 2078, 'MARGEM MÉDIA REVENDA': 11930, 'COEF DE VARIAÇÃO REVENDA': 210, 'PREÇO MÉDIO DISTRIBUIÇÃO': 15997, 'DESVIO PADRÃO DISTRIBUIÇÃO': 5858, 'PREÇO MÍNIMO DISTRIBUIÇÃO': 21620, 'PREÇO MÁXIMO DISTRIBUIÇÃO': 22576, 'COEF DE VARIAÇÃO DISTRIBUIÇÃO': 397, 'MÊS': 12, 'ANO': 16}\n"
          ]
        }
      ]
    },
    {
      "cell_type": "markdown",
      "source": [
        "# Demanda 1\n",
        "No df2, criar uma coluna que seja um identificador único de cada registro da tabela\n",
        "- Atribuindo valor variável à uma nova coluna"
      ],
      "metadata": {
        "id": "B8gouQY_OJyl"
      }
    },
    {
      "cell_type": "markdown",
      "source": [
        "#### No pyspark, já existe a função monotonically_increasing_id(), que gera um identificador único e crescente para cada linha do DataFrame."
      ],
      "metadata": {
        "id": "V7Ud_TZFT9-Z"
      }
    },
    {
      "cell_type": "code",
      "source": [
        "\n",
        "# 1. Adicionando uma coluna de identificador único:\n",
        "df2 = df2.withColumn(\"ID_REGISTRO\", monotonically_increasing_id())\n",
        "\n",
        "# 2. Mostrando o resultado:\n",
        "df2.select(\"ID_REGISTRO\").show(10)"
      ],
      "metadata": {
        "colab": {
          "base_uri": "https://localhost:8080/"
        },
        "id": "8LtoFMUPLQhJ",
        "outputId": "9332d9eb-99b8-45ec-b80d-bdaa5fdd3eff"
      },
      "execution_count": 20,
      "outputs": [
        {
          "output_type": "stream",
          "name": "stdout",
          "text": [
            "+-----------+\n",
            "|ID_REGISTRO|\n",
            "+-----------+\n",
            "|          0|\n",
            "|          1|\n",
            "|          2|\n",
            "|          3|\n",
            "|          4|\n",
            "|          5|\n",
            "|          6|\n",
            "|          7|\n",
            "|          8|\n",
            "|          9|\n",
            "+-----------+\n",
            "only showing top 10 rows\n",
            "\n"
          ]
        }
      ]
    },
    {
      "cell_type": "markdown",
      "source": [
        "##Nota\n",
        "A solução acima é suficiente para atender à demanda 1. Porém, para ficar igual ao que executei em Python, irei concatenar a palavra \"Registro\" em cada linha da coluna \"ID_REGISTRO\". Será necessário converter os numeros do resultado anterior em string, para fazer a concatenaão com a palavra \"Registro\", e isso será feito pelo cast().\n",
        "\n",
        "- df2.withColumn(\"ID_REGISTRO\", ): Permite adicionar uma nova coluna ou substituir uma coluna existente. Aqui, estamos substituindo a coluna \"ID_REGISTRO\" existente com os novos valores que formaremos.\n",
        "\n",
        "- concat(): Concatena duas ou mais colunas em uma única coluna. Ela aceita um número variável de argumentos, e esses argumentos devem ser colunas ou valores literais que queremos concatenar.\n",
        "\n",
        "- lit(\"Registro \"): lit cria uma coluna de valores constantes. Aqui, estamos criando uma coluna em que todos os valores são a string \"Registro  \", com um espaço em branco após a palavra.\n",
        "\n",
        "- df2[\"ID_REGISTRO\"].cast(\"string\"): Aqui, estamos pegando a coluna \"ID_REGISTRO\" do DataFrame df2 e convertendo (ou \"casting\") todos os seus valores para o tipo string. Isso é necessário porque, originalmente, os valores dessa coluna são números inteiros (IDs) e, para concatená-los com uma string, precisamos que ambos os lados da concatenação sejam strings."
      ],
      "metadata": {
        "id": "xBn9WBNpV1mO"
      }
    },
    {
      "cell_type": "code",
      "source": [
        "# Convertendo o ID para o formato \"Registro X\":\n",
        "df2 = df2.withColumn(\"ID_REGISTRO\", concat(lit(\"Registro \"), df2[\"ID_REGISTRO\"].cast(\"string\")))\n"
      ],
      "metadata": {
        "id": "stEpGcNORAeh"
      },
      "execution_count": 21,
      "outputs": []
    },
    {
      "cell_type": "code",
      "source": [
        "# checando pela contagem de valores distintos da coluna criada\n",
        "df2.select(\"ID_REGISTRO\").distinct().count()"
      ],
      "metadata": {
        "colab": {
          "base_uri": "https://localhost:8080/"
        },
        "id": "dyK2mg5wSh7Y",
        "outputId": "5866acfc-4817-49ae-fcad-7e813bf0cb83"
      },
      "execution_count": 22,
      "outputs": [
        {
          "output_type": "execute_result",
          "data": {
            "text/plain": [
              "106823"
            ]
          },
          "metadata": {},
          "execution_count": 22
        }
      ]
    },
    {
      "cell_type": "code",
      "source": [
        "# Visualizando as primeiras 10 linhas da coluna criada com o formato final\n",
        "df2.select(\"ID_REGISTRO\").show()"
      ],
      "metadata": {
        "colab": {
          "base_uri": "https://localhost:8080/"
        },
        "id": "Y7hCKAKqXpAl",
        "outputId": "4988250e-562a-48b4-dc8a-767d730936f9"
      },
      "execution_count": 23,
      "outputs": [
        {
          "output_type": "stream",
          "name": "stdout",
          "text": [
            "+-----------+\n",
            "|ID_REGISTRO|\n",
            "+-----------+\n",
            "| Registro 0|\n",
            "| Registro 1|\n",
            "| Registro 2|\n",
            "| Registro 3|\n",
            "| Registro 4|\n",
            "| Registro 5|\n",
            "| Registro 6|\n",
            "| Registro 7|\n",
            "| Registro 8|\n",
            "| Registro 9|\n",
            "|Registro 10|\n",
            "|Registro 11|\n",
            "|Registro 12|\n",
            "|Registro 13|\n",
            "|Registro 14|\n",
            "|Registro 15|\n",
            "|Registro 16|\n",
            "|Registro 17|\n",
            "|Registro 18|\n",
            "|Registro 19|\n",
            "+-----------+\n",
            "only showing top 20 rows\n",
            "\n"
          ]
        }
      ]
    },
    {
      "cell_type": "markdown",
      "source": [
        "# Demanda 2\n",
        "Criar coluna com 'PREÇO MÉDIO REVENDA' convertido em dólares, considerando taxa cambial de 1:5"
      ],
      "metadata": {
        "id": "dA3ACMgHaR-s"
      }
    },
    {
      "cell_type": "code",
      "source": [
        "# Usando o .withColumn para criar a nova coluna, usando a col PREÇO MÉDIO REVENDA\n",
        "# dividida por 5\n",
        "df2 = df2.withColumn(\"PREÇO MÉDIO REVENDA(DÓLAR)\", df2[\"PREÇO MÉDIO REVENDA\"] / 5)\n",
        "\n",
        "# Checando a col original e a criada\n",
        "df2.select(\"PREÇO MÉDIO REVENDA\", \"PREÇO MÉDIO REVENDA(DÓLAR)\").show()"
      ],
      "metadata": {
        "colab": {
          "base_uri": "https://localhost:8080/"
        },
        "id": "4rlbxS67aT-x",
        "outputId": "a15a7a17-aafa-4605-aa71-759e49b4b808"
      },
      "execution_count": 24,
      "outputs": [
        {
          "output_type": "stream",
          "name": "stdout",
          "text": [
            "+-------------------+--------------------------+\n",
            "|PREÇO MÉDIO REVENDA|PREÇO MÉDIO REVENDA(DÓLAR)|\n",
            "+-------------------+--------------------------+\n",
            "|              1.288|                    0.2576|\n",
            "|              1.162|                    0.2324|\n",
            "|              1.389|                    0.2778|\n",
            "|              1.262|                    0.2524|\n",
            "|              1.181|       0.23620000000000002|\n",
            "|              1.383|                    0.2766|\n",
            "|              1.453|                    0.2906|\n",
            "|              1.631|                    0.3262|\n",
            "|              1.284|       0.25680000000000003|\n",
            "|              1.224|                    0.2448|\n",
            "|              1.573|                    0.3146|\n",
            "|              1.276|                    0.2552|\n",
            "|              1.301|                    0.2602|\n",
            "|              1.805|                     0.361|\n",
            "|              1.785|                     0.357|\n",
            "|              1.578|                    0.3156|\n",
            "|              1.914|                    0.3828|\n",
            "|              1.545|                     0.309|\n",
            "|                1.3|                      0.26|\n",
            "|              1.226|                    0.2452|\n",
            "+-------------------+--------------------------+\n",
            "only showing top 20 rows\n",
            "\n"
          ]
        }
      ]
    },
    {
      "cell_type": "markdown",
      "source": [
        "### Nota : ìndices (index)\n",
        "No Spark, os DataFrames não possuem um \"índice\" no mesmo sentido que os DataFrames do pandas."
      ],
      "metadata": {
        "id": "GFuIaPtTcb3v"
      }
    },
    {
      "cell_type": "markdown",
      "source": [
        "## Salvando um Data Frame Spark em arquivo\n",
        "- Como o Spark é usado para Big Data, faz sentido exportar os dados como .parquet , para otimizar questão de armazenamento.\n",
        "\n",
        "- O Spark é uma ferramenta de processamento distribuído e, quando você salva um DataFrame, ele é dividido em várias partes (partições) e salvo. Cada partição é salva como um arquivo separado. No caso, o salvamento foi feito em duas partições (00000 e 00001), em uma pasta com o nome definido no comando (nome-definido.parquet)\n",
        "  - A razão para isso é permitir que o Spark processe e escreva dados em paralelo, utilizando múltiplos nós em um cluster.  \n",
        "  - Após salvar, além do arquivo CSV desejado, será criado também um arquivo _SUCCESS que indica que os dados foram escritos com sucesso.\n",
        "  - Quando salvamos em formato Parquet, não precisa se preocupar com parâmetros como header e sep que são típicos de arquivos CSV.\n",
        "\n",
        "O formato Parquet é binário e mantém a estrutura e os metadados do schema."
      ],
      "metadata": {
        "id": "8Akb21dodW4G"
      }
    },
    {
      "cell_type": "code",
      "source": [
        "## Salvando como arquivo parquet, modo overwrite para sobrescrever caso já exista\n",
        "# Sem o movo overwrite, não será possível salvar novamente com o mesmo nome, no mesmo caminho.\n",
        "df2.write.mode(\"overwrite\").parquet('/content/output/resultado-em-parquet-particionado.parquet')\n"
      ],
      "metadata": {
        "id": "6XRUFvKFbNYC"
      },
      "execution_count": 25,
      "outputs": []
    },
    {
      "cell_type": "markdown",
      "source": [
        "# Demanda 3\n",
        "Mostrar todos os estados cujos os preços dos combustíveis foram aferidos"
      ],
      "metadata": {
        "id": "FvmrJAsAhKgN"
      }
    },
    {
      "cell_type": "code",
      "source": [
        "# Selecionar os valores únicos da coluna\n",
        "df2.select(\"ESTADO\").distinct().show(100)"
      ],
      "metadata": {
        "colab": {
          "base_uri": "https://localhost:8080/"
        },
        "id": "bxJnB6Oldzbx",
        "outputId": "07412423-b8b7-41f2-b14c-cbefd736fea7"
      },
      "execution_count": 26,
      "outputs": [
        {
          "output_type": "stream",
          "name": "stdout",
          "text": [
            "+-------------------+\n",
            "|             ESTADO|\n",
            "+-------------------+\n",
            "|     RIO DE JANEIRO|\n",
            "|  RIO GRANDE DO SUL|\n",
            "|           RONDONIA|\n",
            "|        MATO GROSSO|\n",
            "|     ESPIRITO SANTO|\n",
            "|            SERGIPE|\n",
            "|           AMAZONAS|\n",
            "|RIO GRANDE DO NORTE|\n",
            "|     SANTA CATARINA|\n",
            "|            PARAIBA|\n",
            "|              GOIAS|\n",
            "|       MINAS GERAIS|\n",
            "|          SAO PAULO|\n",
            "|             PARANA|\n",
            "|            ALAGOAS|\n",
            "|           MARANHAO|\n",
            "|   DISTRITO FEDERAL|\n",
            "|              PIAUI|\n",
            "|               ACRE|\n",
            "|               PARA|\n",
            "| MATO GROSSO DO SUL|\n",
            "|              BAHIA|\n",
            "|         PERNAMBUCO|\n",
            "|              CEARA|\n",
            "|              AMAPA|\n",
            "|          TOCANTINS|\n",
            "|            RORAIMA|\n",
            "+-------------------+\n",
            "\n"
          ]
        }
      ]
    },
    {
      "cell_type": "markdown",
      "source": [
        "### Coloquei 100, pois inserindo nenhuma informação, o spark retonas apenas 20 resultados, o que não é suficiente para minha demanda(São 27 estados)"
      ],
      "metadata": {
        "id": "q2NHrF_nuoqi"
      }
    },
    {
      "cell_type": "markdown",
      "source": [
        "# Demanda 4\n",
        "Quantos registros há no dataset por estado? Ordenar do Maior para o menor"
      ],
      "metadata": {
        "id": "VGe2OZ-1igOD"
      }
    },
    {
      "cell_type": "code",
      "source": [
        "df2.groupBy(\"ESTADO\").count().orderBy(\"count\", ascending=False).show()\n",
        "\n",
        "# O DataFrame foi agrupado pelo campo \"ESTADO\" e foi contado o número de\n",
        "# ocorrências para cada estado. O orderBy é usado para ordenar os estados\n",
        "# pela contagem em ordem decrescente (ou seja, ascending = False)"
      ],
      "metadata": {
        "colab": {
          "base_uri": "https://localhost:8080/"
        },
        "id": "MWfpR8tZii14",
        "outputId": "120ead89-988e-4ee7-fb72-be2aafcada57"
      },
      "execution_count": 27,
      "outputs": [
        {
          "output_type": "stream",
          "name": "stdout",
          "text": [
            "+-------------------+-----+\n",
            "|             ESTADO|count|\n",
            "+-------------------+-----+\n",
            "|     RIO DE JANEIRO| 4263|\n",
            "|  RIO GRANDE DO SUL| 4263|\n",
            "|            PARAIBA| 4263|\n",
            "|          SAO PAULO| 4263|\n",
            "|              BAHIA| 4263|\n",
            "|              CEARA| 4263|\n",
            "|RIO GRANDE DO NORTE| 4262|\n",
            "|     SANTA CATARINA| 4262|\n",
            "|         PERNAMBUCO| 4262|\n",
            "|       MINAS GERAIS| 4261|\n",
            "|     ESPIRITO SANTO| 4260|\n",
            "|            SERGIPE| 4259|\n",
            "|             PARANA| 4251|\n",
            "|            ALAGOAS| 4250|\n",
            "| MATO GROSSO DO SUL| 4246|\n",
            "|        MATO GROSSO| 4037|\n",
            "|           AMAZONAS| 3889|\n",
            "|              GOIAS| 3663|\n",
            "|              PIAUI| 3548|\n",
            "|           MARANHAO| 3499|\n",
            "+-------------------+-----+\n",
            "only showing top 20 rows\n",
            "\n"
          ]
        }
      ]
    },
    {
      "cell_type": "markdown",
      "source": [
        "# Demanda 5\n",
        "Selecionar os preços dos Postos de São Paulo\n"
      ],
      "metadata": {
        "id": "H263zG9ykdrJ"
      }
    },
    {
      "cell_type": "markdown",
      "source": [
        "### Filtros - Filtrando amostras com Seleção Condicional\n",
        "No PySpark, para filtrar linhas com base em uma condição, você usa o método 'filter()'"
      ],
      "metadata": {
        "id": "THZqMmZQhD-X"
      }
    },
    {
      "cell_type": "code",
      "source": [
        "df_sp = df2.filter(df2['ESTADO'] == 'SAO PAULO')\n",
        "df_sp.show()"
      ],
      "metadata": {
        "colab": {
          "base_uri": "https://localhost:8080/"
        },
        "id": "f8eFL9rfks2r",
        "outputId": "1af5d314-802e-4221-fadc-ea1ec7f6ea55"
      },
      "execution_count": 28,
      "outputs": [
        {
          "output_type": "stream",
          "name": "stdout",
          "text": [
            "+------------+----------+-------+---------+-----------+----------------------------+-----------------+-------------------+---------------------+--------------------+--------------------+--------------------+------------------------+------------------------+--------------------------+-------------------------+-------------------------+-----------------------------+---+----+------------+--------------------------+\n",
            "|DATA INICIAL|DATA FINAL| REGIÃO|   ESTADO|    PRODUTO|NÚMERO DE POSTOS PESQUISADOS|UNIDADE DE MEDIDA|PREÇO MÉDIO REVENDA|DESVIO PADRÃO REVENDA|PREÇO MÍNIMO REVENDA|PREÇO MÁXIMO REVENDA|MARGEM MÉDIA REVENDA|COEF DE VARIAÇÃO REVENDA|PREÇO MÉDIO DISTRIBUIÇÃO|DESVIO PADRÃO DISTRIBUIÇÃO|PREÇO MÍNIMO DISTRIBUIÇÃO|PREÇO MÁXIMO DISTRIBUIÇÃO|COEF DE VARIAÇÃO DISTRIBUIÇÃO|MÊS| ANO| ID_REGISTRO|PREÇO MÉDIO REVENDA(DÓLAR)|\n",
            "+------------+----------+-------+---------+-----------+----------------------------+-----------------+-------------------+---------------------+--------------------+--------------------+--------------------+------------------------+------------------------+--------------------------+-------------------------+-------------------------+-----------------------------+---+----+------------+--------------------------+\n",
            "|  2004-05-09|2004-05-15|SUDESTE|SAO PAULO|Combustível|                        4047|             R$/l|              0.768|                0.085|                0.59|                1.15|               0.198|                   0.111|                    0.57|                     0.056|                   0.4271|                   1.4123|                        0.098|  5|2004| Registro 23|       0.15360000000000001|\n",
            "|  2004-05-16|2004-05-22|SUDESTE|SAO PAULO|Combustível|                        4066|             R$/l|  0.765999999999999|                0.083|                0.59|                1.15|                0.19|                   0.108|                   0.576|                      0.05|                  0.43204|                   0.9724|                        0.087|  5|2004| Registro 50|        0.1531999999999998|\n",
            "|  2004-05-23|2004-05-29|SUDESTE|SAO PAULO|Combustível|                        4077|             R$/l|              0.823|                0.071|                0.62|               1.199|               0.209|                   0.086|                   0.614|                     0.063|                  0.34951|                    1.412|                        0.103|  5|2004| Registro 77|                    0.1646|\n",
            "|  2004-05-30|2004-06-05|SUDESTE|SAO PAULO|Combustível|                        4073|             R$/l|              0.887|                0.075|               0.639|               1.359|               0.216|                   0.085|                   0.671|                     0.075|                   0.3398|                   1.0669|                        0.112|  5|2004|Registro 104|                    0.1774|\n",
            "|  2004-06-06|2004-06-12|SUDESTE|SAO PAULO|Combustível|                        4082|             R$/l|              0.894|                0.071|               0.669|               1.199|               0.205|                   0.079|                   0.689|                     0.072|                  0.47797|                   1.0669|                        0.104|  6|2004|Registro 131|       0.17880000000000001|\n",
            "|  2004-06-13|2004-06-19|SUDESTE|SAO PAULO|Combustível|                        4069|             R$/l|              0.898|                0.074|               0.739|                 1.2|               0.197|      0.0819999999999999|                   0.701|                     0.067|                     0.48|                   1.0669|                        0.096|  6|2004|Registro 158|                    0.1796|\n",
            "|  2004-06-20|2004-06-26|SUDESTE|SAO PAULO|Combustível|                        4077|             R$/l|              0.904|                0.075|               0.699|               1.287|               0.198|                   0.083|                   0.706|                     0.065|                   0.4757|                    0.976|                        0.092|  6|2004|Registro 185|       0.18080000000000002|\n",
            "|  2004-06-27|2004-07-03|SUDESTE|SAO PAULO|Combustível|                        4058|             R$/l|              0.899|                0.076|               0.729|               1.299|               0.194|                   0.085|                   0.705|                     0.061|                  0.46602|                    0.976|                        0.087|  6|2004|Registro 212|       0.17980000000000002|\n",
            "|  2004-07-04|2004-07-10|SUDESTE|SAO PAULO|Combustível|                        4075|             R$/l|              0.902|                0.073|               0.739|               1.199|               0.194|                   0.081|                   0.708|                     0.058|                   0.4757|                   1.0852|                        0.082|  7|2004|Registro 239|                    0.1804|\n",
            "|  2004-07-11|2004-07-17|SUDESTE|SAO PAULO|Combustível|                        4079|             R$/l|              0.907|                0.073|               0.699|               1.299|               0.191|                    0.08|                   0.716|                     0.054|                   0.4757|                   0.9689|                        0.075|  7|2004|Registro 266|                    0.1814|\n",
            "|  2004-07-18|2004-07-24|SUDESTE|SAO PAULO|Combustível|                        4069|             R$/l|              0.927|                0.063|               0.699|               1.199|               0.195|                   0.068|                   0.732|                     0.056|                   0.4757|                   1.0843|                        0.077|  7|2004|Registro 293|                    0.1854|\n",
            "|  2004-07-25|2004-07-31|SUDESTE|SAO PAULO|Combustível|                        4089|             R$/l|              0.973|                0.061|               0.789|               1.299|               0.196|                   0.063|                   0.777|                      0.06|                     0.48|                   1.0052|                        0.077|  7|2004|Registro 320|                    0.1946|\n",
            "|  2004-08-01|2004-08-07|SUDESTE|SAO PAULO|Combustível|                        4071|             R$/l|              1.004|                0.072|                0.69|                1.29|               0.199|                   0.072|                   0.805|                     0.062|                   0.4757|                   0.9946|                        0.077|  8|2004|Registro 347|                    0.2008|\n",
            "|  2004-08-08|2004-08-14|SUDESTE|SAO PAULO|Combustível|                        4100|             R$/l|              1.025|                0.076|               0.829|               1.399|               0.195|                   0.074|                    0.83|                     0.063|                   0.4757|                   1.1166|                        0.076|  8|2004|Registro 374|                     0.205|\n",
            "|  2004-08-15|2004-08-21|SUDESTE|SAO PAULO|Combustível|                        4075|             R$/l|              1.034|                0.075|               0.829|                1.37|               0.192|                   0.073|                   0.842|                     0.065|                   0.4757|                   1.0621|                        0.077|  8|2004|Registro 401|                    0.2068|\n",
            "|  2004-08-22|2004-08-28|SUDESTE|SAO PAULO|Combustível|                        4101|             R$/l|              1.032|                0.077|               0.839|               1.399|                0.19|                   0.075|                   0.842|                     0.066|                   0.4757|                   1.0621|                        0.078|  8|2004|Registro 428|                    0.2064|\n",
            "|  2004-08-29|2004-09-04|SUDESTE|SAO PAULO|Combustível|                        4074|             R$/l|              1.032|                0.079|               0.829|                1.49|               0.193|                   0.077|                   0.839|                     0.069|                   0.4757|                  1.04705|                        0.082|  8|2004|Registro 455|                    0.2064|\n",
            "|  2004-09-05|2004-09-11|SUDESTE|SAO PAULO|Combustível|                        4095|             R$/l|              1.031|                0.079|               0.829|               1.559|               0.188|                   0.077|                   0.843|                     0.068|                     0.48|                     1.09|                        0.081|  9|2004|Registro 482|                    0.2062|\n",
            "|  2004-09-12|2004-09-18|SUDESTE|SAO PAULO|Combustível|                        4085|             R$/l|              1.033|                0.078|               0.839|                1.32|               0.183|                   0.076|                    0.85|                     0.067|                   0.4757|                     1.09|                        0.079|  9|2004|Registro 509|       0.20659999999999998|\n",
            "|  2004-09-19|2004-09-25|SUDESTE|SAO PAULO|Combustível|                        4102|             R$/l|              1.034|                0.077|                0.82|                 1.4|               0.187|                   0.074|                   0.847|                     0.065|                   0.4757|                  1.06618|                        0.077|  9|2004|Registro 536|                    0.2068|\n",
            "+------------+----------+-------+---------+-----------+----------------------------+-----------------+-------------------+---------------------+--------------------+--------------------+--------------------+------------------------+------------------------+--------------------------+-------------------------+-------------------------+-----------------------------+---+----+------------+--------------------------+\n",
            "only showing top 20 rows\n",
            "\n"
          ]
        }
      ]
    },
    {
      "cell_type": "code",
      "source": [
        "# validando o resultado\n",
        "df_sp.groupBy(\"ESTADO\").count().show()"
      ],
      "metadata": {
        "colab": {
          "base_uri": "https://localhost:8080/"
        },
        "id": "CqTNOXgVkz4Z",
        "outputId": "fc9d0a20-239f-4b5a-da7e-fd4f426f331e"
      },
      "execution_count": 29,
      "outputs": [
        {
          "output_type": "stream",
          "name": "stdout",
          "text": [
            "+---------+-----+\n",
            "|   ESTADO|count|\n",
            "+---------+-----+\n",
            "|SAO PAULO| 4263|\n",
            "+---------+-----+\n",
            "\n"
          ]
        }
      ]
    },
    {
      "cell_type": "markdown",
      "source": [
        "# Demanda 6\n",
        "Selecionar os preços dos Postos de São Paulo, Rio de Janeiro e Maranhao"
      ],
      "metadata": {
        "id": "qWFJyRiQlVpb"
      }
    },
    {
      "cell_type": "code",
      "source": [
        "df_estados = df2.filter(df2['ESTADO'].isin(['SAO PAULO', 'RIO DE JANEIRO', 'MARANHAO']))\n",
        "df_estados.show()"
      ],
      "metadata": {
        "colab": {
          "base_uri": "https://localhost:8080/"
        },
        "id": "7C4FA2BFlMXU",
        "outputId": "ae998ac3-23f4-4074-dbd7-653a121c6ed2"
      },
      "execution_count": 30,
      "outputs": [
        {
          "output_type": "stream",
          "name": "stdout",
          "text": [
            "+------------+----------+--------+--------------+-----------+----------------------------+-----------------+-------------------+---------------------+--------------------+--------------------+--------------------+------------------------+------------------------+--------------------------+-------------------------+-------------------------+-----------------------------+---+----+------------+--------------------------+\n",
            "|DATA INICIAL|DATA FINAL|  REGIÃO|        ESTADO|    PRODUTO|NÚMERO DE POSTOS PESQUISADOS|UNIDADE DE MEDIDA|PREÇO MÉDIO REVENDA|DESVIO PADRÃO REVENDA|PREÇO MÍNIMO REVENDA|PREÇO MÁXIMO REVENDA|MARGEM MÉDIA REVENDA|COEF DE VARIAÇÃO REVENDA|PREÇO MÉDIO DISTRIBUIÇÃO|DESVIO PADRÃO DISTRIBUIÇÃO|PREÇO MÍNIMO DISTRIBUIÇÃO|PREÇO MÁXIMO DISTRIBUIÇÃO|COEF DE VARIAÇÃO DISTRIBUIÇÃO|MÊS| ANO| ID_REGISTRO|PREÇO MÉDIO REVENDA(DÓLAR)|\n",
            "+------------+----------+--------+--------------+-----------+----------------------------+-----------------+-------------------+---------------------+--------------------+--------------------+--------------------+------------------------+------------------------+--------------------------+-------------------------+-------------------------+-----------------------------+---+----+------------+--------------------------+\n",
            "|  2004-05-09|2004-05-15|NORDESTE|      MARANHAO|Combustível|                         105|             R$/l|              1.631|                0.158|                1.35|                 2.0|               0.515|      0.0969999999999999|                   1.116|                     0.091|                   0.9923|                  1.36183|                        0.082|  5|2004|  Registro 7|                    0.3262|\n",
            "|  2004-05-09|2004-05-15| SUDESTE|RIO DE JANEIRO|Combustível|                         952|             R$/l|              1.098|                0.154|                0.74|                1.89|               0.312|                    0.14|                   0.786|                     0.173|                    0.326|                    1.263|                         0.22|  5|2004| Registro 22|       0.21960000000000002|\n",
            "|  2004-05-09|2004-05-15| SUDESTE|     SAO PAULO|Combustível|                        4047|             R$/l|              0.768|                0.085|                0.59|                1.15|               0.198|                   0.111|                    0.57|                     0.056|                   0.4271|                   1.4123|                        0.098|  5|2004| Registro 23|       0.15360000000000001|\n",
            "|  2004-05-16|2004-05-22|NORDESTE|      MARANHAO|Combustível|                         108|             R$/l|              1.617|    0.163999999999999|                1.34|                 2.0|               0.529|       0.100999999999999|                   1.088|                     0.103|                   0.9224|                   1.3683|                        0.095|  5|2004| Registro 34|                    0.3234|\n",
            "|  2004-05-16|2004-05-22| SUDESTE|RIO DE JANEIRO|Combustível|                         948|             R$/l|              1.092|                0.157|                0.74|               1.499|               0.284|                   0.144|                   0.808|                     0.175|                   0.3257|                   1.2921|                        0.217|  5|2004| Registro 49|                    0.2184|\n",
            "|  2004-05-16|2004-05-22| SUDESTE|     SAO PAULO|Combustível|                        4066|             R$/l|  0.765999999999999|                0.083|                0.59|                1.15|                0.19|                   0.108|                   0.576|                      0.05|                  0.43204|                   0.9724|                        0.087|  5|2004| Registro 50|        0.1531999999999998|\n",
            "|  2004-05-23|2004-05-29|NORDESTE|      MARANHAO|Combustível|                         107|             R$/l|              1.621|                0.171|               1.299|                 2.0|               0.514|                   0.105|                   1.107|                     0.097|                   0.9521|                   1.3618|                        0.088|  5|2004| Registro 61|                    0.3242|\n",
            "|  2004-05-23|2004-05-29| SUDESTE|RIO DE JANEIRO|Combustível|                         973|             R$/l|              1.103|                 0.14|                0.77|               1.589|               0.281|                   0.127|                   0.822|                     0.166|                  0.38909|                   1.1859|                        0.202|  5|2004| Registro 76|                    0.2206|\n",
            "|  2004-05-23|2004-05-29| SUDESTE|     SAO PAULO|Combustível|                        4077|             R$/l|              0.823|                0.071|                0.62|               1.199|               0.209|                   0.086|                   0.614|                     0.063|                  0.34951|                    1.412|                        0.103|  5|2004| Registro 77|                    0.1646|\n",
            "|  2004-05-30|2004-06-05|NORDESTE|      MARANHAO|Combustível|                         108|             R$/l|               1.62|                0.166|               1.299|                 2.0|               0.547|                   0.102|                   1.073|                     0.102|                   0.9073|                   1.3618|                        0.095|  5|2004| Registro 88|                     0.324|\n",
            "|  2004-05-30|2004-06-05| SUDESTE|RIO DE JANEIRO|Combustível|                         955|             R$/l|              1.149|                0.156|               0.799|               1.599|                 0.3|                   0.136|                   0.849|                     0.188|                   0.3453|                   1.3667|                        0.221|  5|2004|Registro 103|                    0.2298|\n",
            "|  2004-05-30|2004-06-05| SUDESTE|     SAO PAULO|Combustível|                        4073|             R$/l|              0.887|                0.075|               0.639|               1.359|               0.216|                   0.085|                   0.671|                     0.075|                   0.3398|                   1.0669|                        0.112|  5|2004|Registro 104|                    0.1774|\n",
            "|  2004-06-06|2004-06-12|NORDESTE|      MARANHAO|Combustível|                         107|             R$/l|              1.632|                0.155|                1.29|                 2.0|               0.485|                   0.095|                   1.147|                     0.126|                   0.9405|                  1.47097|                         0.11|  6|2004|Registro 115|       0.32639999999999997|\n",
            "|  2004-06-06|2004-06-12| SUDESTE|RIO DE JANEIRO|Combustível|                         966|             R$/l|              1.165|                0.154|                0.83|               1.599|               0.254|                   0.132|                   0.911|                     0.198|                      0.4|                   1.3667|                        0.217|  6|2004|Registro 130|                     0.233|\n",
            "|  2004-06-06|2004-06-12| SUDESTE|     SAO PAULO|Combustível|                        4082|             R$/l|              0.894|                0.071|               0.669|               1.199|               0.205|                   0.079|                   0.689|                     0.072|                  0.47797|                   1.0669|                        0.104|  6|2004|Registro 131|       0.17880000000000001|\n",
            "|  2004-06-13|2004-06-19|NORDESTE|      MARANHAO|Combustível|                         105|             R$/l|              1.633|                0.158|                1.29|                 2.0|               0.473|      0.0969999999999999|                    1.16|                     0.134|                   0.9591|                   1.4801|                        0.116|  6|2004|Registro 142|                    0.3266|\n",
            "|  2004-06-13|2004-06-19| SUDESTE|RIO DE JANEIRO|Combustível|                         952|             R$/l|              1.178|                 0.16|                0.84|               1.599|               0.249|                   0.136|                   0.929|                     0.195|                   0.4126|                   1.3667|                         0.21|  6|2004|Registro 157|       0.23559999999999998|\n",
            "|  2004-06-13|2004-06-19| SUDESTE|     SAO PAULO|Combustível|                        4069|             R$/l|              0.898|                0.074|               0.739|                 1.2|               0.197|      0.0819999999999999|                   0.701|                     0.067|                     0.48|                   1.0669|                        0.096|  6|2004|Registro 158|                    0.1796|\n",
            "|  2004-06-20|2004-06-26|NORDESTE|      MARANHAO|Combustível|                         103|             R$/l|              1.649|                0.139|                 1.3|                 2.0|               0.492|                   0.084|                   1.157|                     0.139|                   0.8995|                     1.48|                         0.12|  6|2004|Registro 169|                    0.3298|\n",
            "|  2004-06-20|2004-06-26| SUDESTE|RIO DE JANEIRO|Combustível|                         967|             R$/l|              1.206|                0.165|                 0.8|               1.599|               0.254|       0.136999999999999|                   0.952|                     0.202|                  0.39203|                   1.3667|                        0.212|  6|2004|Registro 184|                    0.2412|\n",
            "+------------+----------+--------+--------------+-----------+----------------------------+-----------------+-------------------+---------------------+--------------------+--------------------+--------------------+------------------------+------------------------+--------------------------+-------------------------+-------------------------+-----------------------------+---+----+------------+--------------------------+\n",
            "only showing top 20 rows\n",
            "\n"
          ]
        }
      ]
    },
    {
      "cell_type": "code",
      "source": [
        "# validando o resultado\n",
        "df_estados.groupBy(\"ESTADO\").count().show()"
      ],
      "metadata": {
        "colab": {
          "base_uri": "https://localhost:8080/"
        },
        "id": "YMaPTY4Plvw5",
        "outputId": "cfa3a856-0704-4938-f226-2045ccb636ed"
      },
      "execution_count": 31,
      "outputs": [
        {
          "output_type": "stream",
          "name": "stdout",
          "text": [
            "+--------------+-----+\n",
            "|        ESTADO|count|\n",
            "+--------------+-----+\n",
            "|RIO DE JANEIRO| 4263|\n",
            "|     SAO PAULO| 4263|\n",
            "|      MARANHAO| 3499|\n",
            "+--------------+-----+\n",
            "\n"
          ]
        }
      ]
    },
    {
      "cell_type": "markdown",
      "source": [
        "# Demanda 7 - Múltiplas condições\n",
        "Selecionar: registros de postos do Rio de Janeiro com Preços Médio de Revenda acima de 2 reais"
      ],
      "metadata": {
        "id": "iDsd_9LmmFo2"
      }
    },
    {
      "cell_type": "markdown",
      "source": [
        " No Pyspark, permanecem os mesmos símbolos de condicionais que o Pandas."
      ],
      "metadata": {
        "id": "vsxemspzmwUZ"
      }
    },
    {
      "cell_type": "code",
      "source": [
        "df_rj_acima_2_reais = df2.filter((df2['ESTADO'] == 'RIO DE JANEIRO') & (df2['PREÇO MÉDIO REVENDA'] > 2))\n",
        "df_rj_acima_2_reais.show()"
      ],
      "metadata": {
        "colab": {
          "base_uri": "https://localhost:8080/"
        },
        "id": "Bkvph8_Vl7ju",
        "outputId": "1b2c11dc-b1be-4773-c9d4-a18eb11de5f5"
      },
      "execution_count": 32,
      "outputs": [
        {
          "output_type": "stream",
          "name": "stdout",
          "text": [
            "+------------+----------+-------+--------------+-----------+----------------------------+-----------------+-------------------+---------------------+--------------------+--------------------+--------------------+------------------------+------------------------+--------------------------+-------------------------+-------------------------+-----------------------------+---+----+--------------+--------------------------+\n",
            "|DATA INICIAL|DATA FINAL| REGIÃO|        ESTADO|    PRODUTO|NÚMERO DE POSTOS PESQUISADOS|UNIDADE DE MEDIDA|PREÇO MÉDIO REVENDA|DESVIO PADRÃO REVENDA|PREÇO MÍNIMO REVENDA|PREÇO MÁXIMO REVENDA|MARGEM MÉDIA REVENDA|COEF DE VARIAÇÃO REVENDA|PREÇO MÉDIO DISTRIBUIÇÃO|DESVIO PADRÃO DISTRIBUIÇÃO|PREÇO MÍNIMO DISTRIBUIÇÃO|PREÇO MÁXIMO DISTRIBUIÇÃO|COEF DE VARIAÇÃO DISTRIBUIÇÃO|MÊS| ANO|   ID_REGISTRO|PREÇO MÉDIO REVENDA(DÓLAR)|\n",
            "+------------+----------+-------+--------------+-----------+----------------------------+-----------------+-------------------+---------------------+--------------------+--------------------+--------------------+------------------------+------------------------+--------------------------+-------------------------+-------------------------+-----------------------------+---+----+--------------+--------------------------+\n",
            "|  2011-05-01|2011-05-07|SUDESTE|RIO DE JANEIRO|Combustível|                         736|             R$/l|              3.017|                0.105|                2.76|               3.499|               0.324|                   0.035|                   2.693|                     0.069|                   2.5046|                   2.9278|                        0.026|  5|2011|Registro 21805|        0.6033999999999999|\n",
            "|  2011-05-08|2011-05-14|SUDESTE|RIO DE JANEIRO|Combustível|                         735|             R$/l|              3.024|                0.106|               2.699|               3.499|               0.316|                   0.035|                   2.708|                     0.063|                     2.39|                   2.9153|                        0.023|  5|2011|Registro 21832|                    0.6048|\n",
            "|  2004-05-09|2004-05-15|SUDESTE|RIO DE JANEIRO|Combustível|                         385|          R$/13Kg|             29.154|                1.426|                25.0|                33.9|               4.564|                   0.049|                   24.59|                     1.322|                       22|                       29|                        0.054|  5|2004|Registro 24154|                    5.8308|\n",
            "|  2004-05-16|2004-05-22|SUDESTE|RIO DE JANEIRO|Combustível|                         407|          R$/13Kg|             29.138|                 1.51|                25.0|                33.9|               4.938|                   0.052|                    24.2|                     1.491|                       21|                       29|                        0.062|  5|2004|Registro 24181|                    5.8276|\n",
            "|  2004-05-23|2004-05-29|SUDESTE|RIO DE JANEIRO|Combustível|                         409|          R$/13Kg|             28.997|                1.445|                25.0|                35.0|               4.473|                    0.05|                  24.524|                     1.417|                     20.5|                    28.11|                        0.058|  5|2004|Registro 24208|                    5.7994|\n",
            "|  2004-05-30|2004-06-05|SUDESTE|RIO DE JANEIRO|Combustível|                         422|          R$/13Kg|             29.034|                1.527|               24.99|                35.0|               4.757|                   0.053|                  24.277|                     1.263|                       21|                       28|                        0.052|  5|2004|Registro 24235|                    5.8068|\n",
            "|  2004-06-06|2004-06-12|SUDESTE|RIO DE JANEIRO|Combustível|                         405|          R$/13Kg|             29.108|                1.502|                25.0|                35.0|               4.707|                   0.052|                  24.401|                     1.262|                       21|                       28|                        0.052|  6|2004|Registro 24262|                    5.8216|\n",
            "|  2004-06-13|2004-06-19|SUDESTE|RIO DE JANEIRO|Combustível|                         412|          R$/13Kg|              29.15|                1.531|                25.0|                35.0|               4.746|                   0.053|                  24.404|                     1.207|                       21|                       28|                        0.049|  6|2004|Registro 24289|                      5.83|\n",
            "|  2004-06-20|2004-06-26|SUDESTE|RIO DE JANEIRO|Combustível|                         410|          R$/13Kg|             29.238|                1.439|                25.0|                35.0|               4.614|                   0.049|                  24.624|                     1.187|                       21|                       28|                        0.048|  6|2004|Registro 24316|                    5.8476|\n",
            "|  2004-06-27|2004-07-03|SUDESTE|RIO DE JANEIRO|Combustível|                         409|          R$/13Kg|             29.184|                1.519|                25.0|                35.0|                4.63|                   0.052|                  24.554|                     1.192|                       21|                       28|                        0.049|  6|2004|Registro 24343|                    5.8368|\n",
            "|  2004-07-04|2004-07-10|SUDESTE|RIO DE JANEIRO|Combustível|                         405|          R$/13Kg|             29.287|                1.429|                25.0|                33.9|                4.83|                   0.049|                  24.457|                     1.253|                     21.5|                       28|                        0.051|  7|2004|Registro 24370|                    5.8574|\n",
            "|  2004-07-11|2004-07-17|SUDESTE|RIO DE JANEIRO|Combustível|                         413|          R$/13Kg|             29.304|                1.458|                25.0|                35.0|               4.923|                    0.05|                  24.381|                     1.399|                     21.5|                       28|                        0.057|  7|2004|Registro 24397|         5.860799999999999|\n",
            "|  2004-07-18|2004-07-24|SUDESTE|RIO DE JANEIRO|Combustível|                         402|          R$/13Kg|             29.344|                1.491|                25.0|                35.0|               4.975|                   0.051|                  24.369|                     1.292|                     21.5|                       28|                        0.053|  7|2004|Registro 24424|                    5.8688|\n",
            "|  2004-07-25|2004-07-31|SUDESTE|RIO DE JANEIRO|Combustível|                         411|          R$/13Kg|             29.243|                1.484|                25.0|                33.9|               4.641|                   0.051|                  24.602|                     1.277|                       21|                       28|                        0.052|  7|2004|Registro 24451|         5.848599999999999|\n",
            "|  2004-08-01|2004-08-07|SUDESTE|RIO DE JANEIRO|Combustível|                         412|          R$/13Kg|             29.325|                1.543|               24.99|                35.0|               4.618|                   0.053|                  24.707|                     1.482|                     20.8|                       28|                         0.06|  8|2004|Registro 24478|                     5.865|\n",
            "|  2004-08-08|2004-08-14|SUDESTE|RIO DE JANEIRO|Combustível|                         418|          R$/13Kg|             29.231|                1.583|               25.99|                35.0|               4.819|                   0.054|                  24.412|                     1.478|                       21|                       28|                        0.061|  8|2004|Registro 24505|        5.8462000000000005|\n",
            "|  2004-08-15|2004-08-21|SUDESTE|RIO DE JANEIRO|Combustível|                         417|          R$/13Kg|             29.363|                1.518|                25.0|                35.0|               4.829|                   0.052|                  24.534|                     1.495|                       20|                       28|                        0.061|  8|2004|Registro 24532|                    5.8726|\n",
            "|  2004-08-22|2004-08-28|SUDESTE|RIO DE JANEIRO|Combustível|                         412|          R$/13Kg|             29.269|                1.595|                25.0|                35.0|                4.64|                   0.054|                  24.629|                     1.453|                       20|                       28|                        0.059|  8|2004|Registro 24559|                    5.8538|\n",
            "|  2004-08-29|2004-09-04|SUDESTE|RIO DE JANEIRO|Combustível|                         416|          R$/13Kg|             29.194|                1.566|                25.0|                35.0|               4.535|                   0.054|                  24.659|                     1.581|                       20|                       28|                        0.064|  8|2004|Registro 24586|                    5.8388|\n",
            "|  2004-09-05|2004-09-11|SUDESTE|RIO DE JANEIRO|Combustível|                         413|          R$/13Kg|             29.138|                1.562|                25.0|                35.0|               4.897|                   0.054|                  24.241|                     1.485|                     20.4|                       28|                        0.061|  9|2004|Registro 24613|                    5.8276|\n",
            "+------------+----------+-------+--------------+-----------+----------------------------+-----------------+-------------------+---------------------+--------------------+--------------------+--------------------+------------------------+------------------------+--------------------------+-------------------------+-------------------------+-----------------------------+---+----+--------------+--------------------------+\n",
            "only showing top 20 rows\n",
            "\n"
          ]
        }
      ]
    },
    {
      "cell_type": "code",
      "source": [
        "## Checando condição1 : Apenas estado do RJ\n",
        "df_rj_acima_2_reais.groupBy(\"ESTADO\").count().show()"
      ],
      "metadata": {
        "colab": {
          "base_uri": "https://localhost:8080/"
        },
        "id": "i4p9KqrQm3Wu",
        "outputId": "8ca4eacf-7da4-4c32-8ac6-0beb891bbd98"
      },
      "execution_count": 33,
      "outputs": [
        {
          "output_type": "stream",
          "name": "stdout",
          "text": [
            "+--------------+-----+\n",
            "|        ESTADO|count|\n",
            "+--------------+-----+\n",
            "|RIO DE JANEIRO| 1694|\n",
            "+--------------+-----+\n",
            "\n"
          ]
        }
      ]
    },
    {
      "cell_type": "markdown",
      "source": [
        "# Nota importante\n",
        "### Aqui, detectei uma divergência entre os valores encontrados no Pyspark e no Pandas. Investigando, cheguei nessa conclusão :\n",
        "\n",
        "a) Pandas e String:\n",
        "\n",
        "Pandas consegue realizar operações numéricas em strings que se parecem com números sem lançar um erro. Por exemplo, '2' > 1 retorna True em Python (pois o Python compara a string com o número e, implicitamente, converte o número em uma string para a comparação). Mas esta não é uma boa prática e pode levar a comportamentos inesperados em casos mais complicados.\n",
        "\n",
        "b) Pyspark e string :\n",
        "\n",
        "PySpark não tentará implicitamente converter tipos de dados incompatíveis, como Pandas às vezes faz. Se tentarmos comparar uma string com um número em PySpark, ele não tentará converter a string em um número, mas sim comparar como duas strings. Neste caso, a comparação '10' > 2 será verdadeira em Pandas/Python, mas em PySpark isso não acontece.\n"
      ],
      "metadata": {
        "id": "er0YHdqCuylT"
      }
    },
    {
      "cell_type": "code",
      "source": [
        "## Primeira tentativa de soluçao - converter a coluna PREÇO MÉDIO DISTRIBUIÇÃO de string para float\n",
        "## Mais detalhes sobre conversão na demanda 13\n",
        "## Usando um novo df (df3) para teste\n",
        "\n",
        "df3 = df2.withColumn(\"PREÇO MÉDIO DISTRIBUIÇÃO\", df2[\"PREÇO MÉDIO DISTRIBUIÇÃO\"].cast(FloatType()))\n",
        "df3.printSchema()\n"
      ],
      "metadata": {
        "colab": {
          "base_uri": "https://localhost:8080/"
        },
        "id": "SAEWy4pn9meE",
        "outputId": "570308f0-9983-47f3-e129-9d1fc9fcbb91"
      },
      "execution_count": 34,
      "outputs": [
        {
          "output_type": "stream",
          "name": "stdout",
          "text": [
            "root\n",
            " |-- DATA INICIAL: string (nullable = true)\n",
            " |-- DATA FINAL: string (nullable = true)\n",
            " |-- REGIÃO: string (nullable = true)\n",
            " |-- ESTADO: string (nullable = true)\n",
            " |-- PRODUTO: string (nullable = false)\n",
            " |-- NÚMERO DE POSTOS PESQUISADOS: string (nullable = true)\n",
            " |-- UNIDADE DE MEDIDA: string (nullable = true)\n",
            " |-- PREÇO MÉDIO REVENDA: string (nullable = true)\n",
            " |-- DESVIO PADRÃO REVENDA: string (nullable = true)\n",
            " |-- PREÇO MÍNIMO REVENDA: string (nullable = true)\n",
            " |-- PREÇO MÁXIMO REVENDA: string (nullable = true)\n",
            " |-- MARGEM MÉDIA REVENDA: string (nullable = true)\n",
            " |-- COEF DE VARIAÇÃO REVENDA: string (nullable = true)\n",
            " |-- PREÇO MÉDIO DISTRIBUIÇÃO: float (nullable = true)\n",
            " |-- DESVIO PADRÃO DISTRIBUIÇÃO: string (nullable = true)\n",
            " |-- PREÇO MÍNIMO DISTRIBUIÇÃO: string (nullable = true)\n",
            " |-- PREÇO MÁXIMO DISTRIBUIÇÃO: string (nullable = true)\n",
            " |-- COEF DE VARIAÇÃO DISTRIBUIÇÃO: string (nullable = true)\n",
            " |-- MÊS: string (nullable = true)\n",
            " |-- ANO: string (nullable = true)\n",
            " |-- ID_REGISTRO: string (nullable = false)\n",
            " |-- PREÇO MÉDIO REVENDA(DÓLAR): double (nullable = true)\n",
            "\n"
          ]
        }
      ]
    },
    {
      "cell_type": "code",
      "source": [
        "df_rj_acima_2_reais = df3.filter((df3['ESTADO'] == 'RIO DE JANEIRO') & (df3['PREÇO MÉDIO REVENDA'] > 2))\n",
        "df_rj_acima_2_reais.groupBy(\"ESTADO\").count().show()"
      ],
      "metadata": {
        "colab": {
          "base_uri": "https://localhost:8080/"
        },
        "id": "_IqA3ed5-PUu",
        "outputId": "b8a0ce83-901d-4bcd-87a2-e678c4ade358"
      },
      "execution_count": 35,
      "outputs": [
        {
          "output_type": "stream",
          "name": "stdout",
          "text": [
            "+--------------+-----+\n",
            "|        ESTADO|count|\n",
            "+--------------+-----+\n",
            "|RIO DE JANEIRO| 1694|\n",
            "+--------------+-----+\n",
            "\n"
          ]
        }
      ]
    },
    {
      "cell_type": "markdown",
      "source": [
        "### Tentativa 1 falhou\n",
        "Converter a coluna para a tipagem certa não resolveu o problema"
      ],
      "metadata": {
        "id": "PGeDo9s6-ZR6"
      }
    },
    {
      "cell_type": "code",
      "source": [
        "## Segunda tentativa de soluçao - sem converter a coluna, deixar explícito no filtro que a comparação é com dado float\n",
        "# Isso será feito colocando '2.0' no lugar de apenas '2' no filtro, como feito anteriormente.\n",
        "## Mais detalhes sobre conversão na demanda 13\n",
        "df_rj_acima_2_reais = df2.filter((df2['ESTADO'] == 'RIO DE JANEIRO') & (df2['PREÇO MÉDIO REVENDA'] > 2.0))\n",
        "df_rj_acima_2_reais.groupBy(\"ESTADO\").count().show()"
      ],
      "metadata": {
        "colab": {
          "base_uri": "https://localhost:8080/"
        },
        "id": "Q8ZGgyNf-gSp",
        "outputId": "c2d9140e-8ace-48ce-bc58-0d845fa0a741"
      },
      "execution_count": 36,
      "outputs": [
        {
          "output_type": "stream",
          "name": "stdout",
          "text": [
            "+--------------+-----+\n",
            "|        ESTADO|count|\n",
            "+--------------+-----+\n",
            "|RIO DE JANEIRO| 3054|\n",
            "+--------------+-----+\n",
            "\n"
          ]
        }
      ]
    },
    {
      "cell_type": "markdown",
      "source": [
        "### Tentativa 2 deu certo, sendo então a soluçao aplicada.\n",
        "Spark necessita que o dado seja bem explícito sobre o tipo, na filtragem"
      ],
      "metadata": {
        "id": "UFThcqRF_F-h"
      }
    },
    {
      "cell_type": "markdown",
      "source": [
        "## Checando condição 2\n",
        "Checando se o valor mínimo é acima de 2 reais.\n",
        "\n",
        "> .agg(F.min(\"PREÇO MÉDIO REVENDA\"))\n",
        "\n",
        "O método agg vai agregar os dados. O F.min usa a função 'min' do módulo 'pyspark.sql.functions' (geralmente importado como F) para calcular o valor mínimo da coluna especificada.\n",
        "\n",
        "\n",
        "> .collect()\n",
        "\n",
        "No PySpark, as transformações (como filtros e agregações) são lazy (\"preguiçosa\"), o que significa que elas não são executadas até que uma ação seja chamada. '.collect()' é uma dessas ações e irá coletar os resultados das transformações e retorná-los como uma lista de linhas.\n",
        "Algumas outras ações :\n",
        "- .collect(): Retorna todos os registros do DataFrame ou RDD como uma lista de linhas.\n",
        "- .count(): Retorna a contagem de registros no DataFrame ou RDD.\n",
        "- .first(): Retorna a primeira linha do DataFrame ou RDD.\n",
        "- .take(n): Retorna as primeiras n linhas do DataFrame ou RDD como uma lista.\n",
        "- .show(n): Exibe as primeiras n linhas do DataFrame em um formato tabular. Útil para visualização rápida.\n",
        "\n",
        "> [0][0]\n",
        "\n",
        "Quando executamos agregação como .agg(F.min(\"PREÇO MÉDIO REVENDA\")), o resultado é um DataFrame com apenas uma coluna contendo o valor mínimo.\n",
        "Depois de coletar os resultados, preciso acessar o valor real dentro desse Dataframe. Como o resultado é uma lista de linhas e cada linha é uma lista de valores, usamos [0][0] para acessar a primeira linha e o primeiro valor dessa linha, que neste caso é o valor mínimo que quero buscar.\n",
        "\n"
      ],
      "metadata": {
        "id": "khWLo3u8_8xc"
      }
    },
    {
      "cell_type": "code",
      "source": [
        "#Sem o [0][0], o print mostra uma mensagem grande.\n",
        "\n",
        "print(df_rj_acima_2_reais.agg(F.min(\"PREÇO MÉDIO REVENDA\")).collect())"
      ],
      "metadata": {
        "colab": {
          "base_uri": "https://localhost:8080/"
        },
        "id": "c4FDRvTXaZcd",
        "outputId": "2c282f12-5b3d-43f9-9026-01573fd95b0d"
      },
      "execution_count": 37,
      "outputs": [
        {
          "output_type": "stream",
          "name": "stdout",
          "text": [
            "[Row(min(PREÇO MÉDIO REVENDA)='2.001')]\n"
          ]
        }
      ]
    },
    {
      "cell_type": "code",
      "source": [
        "## Checando condição2: Apenas PREÇO MÉDIO REVENDA > 2 reais\n",
        "##  Checando se o valor mínimo é acima de 2 reais\n",
        "##  Irei usar o [0][0] para capturar apenas o valor\n",
        "df_rj_acima_2_reais.agg(F.min(\"PREÇO MÉDIO REVENDA\")).collect()[0][0]"
      ],
      "metadata": {
        "colab": {
          "base_uri": "https://localhost:8080/",
          "height": 35
        },
        "id": "H_TzkFEV_axk",
        "outputId": "f6cb036e-4fd3-4694-8d10-d1ea9359c5fa"
      },
      "execution_count": 38,
      "outputs": [
        {
          "output_type": "execute_result",
          "data": {
            "text/plain": [
              "'2.001'"
            ],
            "application/vnd.google.colaboratory.intrinsic+json": {
              "type": "string"
            }
          },
          "metadata": {},
          "execution_count": 38
        }
      ]
    },
    {
      "cell_type": "markdown",
      "source": [
        "#Demanda 8\n",
        "Selecionar os registros de postos do Rio de Janeiro OU com Preços Médio de Revenda acima de 2 reais"
      ],
      "metadata": {
        "id": "pl6vNmg0Race"
      }
    },
    {
      "cell_type": "code",
      "source": [
        "# Seguindo como aplicado na demanda anteiror coloquei o 2.0 também\n",
        "df_rj_ou_acima_2_reais = df2.filter(\n",
        "    (df2['ESTADO'] == 'RIO DE JANEIRO') |\n",
        "    (df2['PREÇO MÉDIO REVENDA'] > 2.0)\n",
        ")"
      ],
      "metadata": {
        "id": "Y_fw85ep_a2f"
      },
      "execution_count": 39,
      "outputs": []
    },
    {
      "cell_type": "markdown",
      "source": [
        "### Farei um count da ocorrência de 'RIO DE JANEIRO' no meu resultado acima. Sendo um valor diferente de zero, o filtro fica validado para esse caso."
      ],
      "metadata": {
        "id": "QlSWgLmBVOIY"
      }
    },
    {
      "cell_type": "code",
      "source": [
        "print(df_rj_ou_acima_2_reais.filter(df_rj_ou_acima_2_reais['ESTADO'] == 'RIO DE JANEIRO').count())"
      ],
      "metadata": {
        "colab": {
          "base_uri": "https://localhost:8080/"
        },
        "id": "xGtesCQ3_a5N",
        "outputId": "e6a51183-7d50-495f-d1a1-f65a4bee7b79"
      },
      "execution_count": 40,
      "outputs": [
        {
          "output_type": "stream",
          "name": "stdout",
          "text": [
            "4263\n"
          ]
        }
      ]
    },
    {
      "cell_type": "markdown",
      "source": [
        "### Semelhante ao caso anterior, sendo um valor diferente de zero, o filtro fica validado para esse caso."
      ],
      "metadata": {
        "id": "QN3IWOo_WYry"
      }
    },
    {
      "cell_type": "code",
      "source": [
        "print(df_rj_ou_acima_2_reais.filter(df_rj_ou_acima_2_reais['PREÇO MÉDIO REVENDA'] > 2).count())"
      ],
      "metadata": {
        "colab": {
          "base_uri": "https://localhost:8080/"
        },
        "id": "j1fe91S3VGaM",
        "outputId": "488d5703-586f-43c7-cd40-8711e91a3cb1"
      },
      "execution_count": 41,
      "outputs": [
        {
          "output_type": "stream",
          "name": "stdout",
          "text": [
            "43377\n"
          ]
        }
      ]
    },
    {
      "cell_type": "markdown",
      "source": [
        "# Demanda 9\n",
        "Selecionar os registros de postos do Rio de Janeiro OU do Maranhão com Preços Médio de Revenda entre 1 e 2 reais (incluso)"
      ],
      "metadata": {
        "id": "d-OqNfyzW2be"
      }
    },
    {
      "cell_type": "code",
      "source": [
        "# Filtrando os registros\n",
        "df_filtrado = df2.filter(\n",
        "    ((df2['ESTADO'] == 'RIO DE JANEIRO') | (df2['ESTADO'] == 'MARANHAO')) &\n",
        "    (F.col('PREÇO MÉDIO REVENDA') >= 1.0) &  # Lembrando de sinalizar o Float no filtro colocando \".0\"\n",
        "    (F.col('PREÇO MÉDIO REVENDA') <= 2.0)    # Lembrando de sinalizar o Float no filtro colocando \".0\"\n",
        ")\n",
        "\n",
        "df_filtrado.show()\n"
      ],
      "metadata": {
        "colab": {
          "base_uri": "https://localhost:8080/"
        },
        "id": "DTRd5sLkW9VS",
        "outputId": "c8592085-94ee-406f-ec7d-df3ac690bc83"
      },
      "execution_count": 42,
      "outputs": [
        {
          "output_type": "stream",
          "name": "stdout",
          "text": [
            "+------------+----------+--------+--------------+-----------+----------------------------+-----------------+-------------------+---------------------+--------------------+--------------------+--------------------+------------------------+------------------------+--------------------------+-------------------------+-------------------------+-----------------------------+---+----+------------+--------------------------+\n",
            "|DATA INICIAL|DATA FINAL|  REGIÃO|        ESTADO|    PRODUTO|NÚMERO DE POSTOS PESQUISADOS|UNIDADE DE MEDIDA|PREÇO MÉDIO REVENDA|DESVIO PADRÃO REVENDA|PREÇO MÍNIMO REVENDA|PREÇO MÁXIMO REVENDA|MARGEM MÉDIA REVENDA|COEF DE VARIAÇÃO REVENDA|PREÇO MÉDIO DISTRIBUIÇÃO|DESVIO PADRÃO DISTRIBUIÇÃO|PREÇO MÍNIMO DISTRIBUIÇÃO|PREÇO MÁXIMO DISTRIBUIÇÃO|COEF DE VARIAÇÃO DISTRIBUIÇÃO|MÊS| ANO| ID_REGISTRO|PREÇO MÉDIO REVENDA(DÓLAR)|\n",
            "+------------+----------+--------+--------------+-----------+----------------------------+-----------------+-------------------+---------------------+--------------------+--------------------+--------------------+------------------------+------------------------+--------------------------+-------------------------+-------------------------+-----------------------------+---+----+------------+--------------------------+\n",
            "|  2004-05-09|2004-05-15|NORDESTE|      MARANHAO|Combustível|                         105|             R$/l|              1.631|                0.158|                1.35|                 2.0|               0.515|      0.0969999999999999|                   1.116|                     0.091|                   0.9923|                  1.36183|                        0.082|  5|2004|  Registro 7|                    0.3262|\n",
            "|  2004-05-09|2004-05-15| SUDESTE|RIO DE JANEIRO|Combustível|                         952|             R$/l|              1.098|                0.154|                0.74|                1.89|               0.312|                    0.14|                   0.786|                     0.173|                    0.326|                    1.263|                         0.22|  5|2004| Registro 22|       0.21960000000000002|\n",
            "|  2004-05-16|2004-05-22|NORDESTE|      MARANHAO|Combustível|                         108|             R$/l|              1.617|    0.163999999999999|                1.34|                 2.0|               0.529|       0.100999999999999|                   1.088|                     0.103|                   0.9224|                   1.3683|                        0.095|  5|2004| Registro 34|                    0.3234|\n",
            "|  2004-05-16|2004-05-22| SUDESTE|RIO DE JANEIRO|Combustível|                         948|             R$/l|              1.092|                0.157|                0.74|               1.499|               0.284|                   0.144|                   0.808|                     0.175|                   0.3257|                   1.2921|                        0.217|  5|2004| Registro 49|                    0.2184|\n",
            "|  2004-05-23|2004-05-29|NORDESTE|      MARANHAO|Combustível|                         107|             R$/l|              1.621|                0.171|               1.299|                 2.0|               0.514|                   0.105|                   1.107|                     0.097|                   0.9521|                   1.3618|                        0.088|  5|2004| Registro 61|                    0.3242|\n",
            "|  2004-05-23|2004-05-29| SUDESTE|RIO DE JANEIRO|Combustível|                         973|             R$/l|              1.103|                 0.14|                0.77|               1.589|               0.281|                   0.127|                   0.822|                     0.166|                  0.38909|                   1.1859|                        0.202|  5|2004| Registro 76|                    0.2206|\n",
            "|  2004-05-30|2004-06-05|NORDESTE|      MARANHAO|Combustível|                         108|             R$/l|               1.62|                0.166|               1.299|                 2.0|               0.547|                   0.102|                   1.073|                     0.102|                   0.9073|                   1.3618|                        0.095|  5|2004| Registro 88|                     0.324|\n",
            "|  2004-05-30|2004-06-05| SUDESTE|RIO DE JANEIRO|Combustível|                         955|             R$/l|              1.149|                0.156|               0.799|               1.599|                 0.3|                   0.136|                   0.849|                     0.188|                   0.3453|                   1.3667|                        0.221|  5|2004|Registro 103|                    0.2298|\n",
            "|  2004-06-06|2004-06-12|NORDESTE|      MARANHAO|Combustível|                         107|             R$/l|              1.632|                0.155|                1.29|                 2.0|               0.485|                   0.095|                   1.147|                     0.126|                   0.9405|                  1.47097|                         0.11|  6|2004|Registro 115|       0.32639999999999997|\n",
            "|  2004-06-06|2004-06-12| SUDESTE|RIO DE JANEIRO|Combustível|                         966|             R$/l|              1.165|                0.154|                0.83|               1.599|               0.254|                   0.132|                   0.911|                     0.198|                      0.4|                   1.3667|                        0.217|  6|2004|Registro 130|                     0.233|\n",
            "|  2004-06-13|2004-06-19|NORDESTE|      MARANHAO|Combustível|                         105|             R$/l|              1.633|                0.158|                1.29|                 2.0|               0.473|      0.0969999999999999|                    1.16|                     0.134|                   0.9591|                   1.4801|                        0.116|  6|2004|Registro 142|                    0.3266|\n",
            "|  2004-06-13|2004-06-19| SUDESTE|RIO DE JANEIRO|Combustível|                         952|             R$/l|              1.178|                 0.16|                0.84|               1.599|               0.249|                   0.136|                   0.929|                     0.195|                   0.4126|                   1.3667|                         0.21|  6|2004|Registro 157|       0.23559999999999998|\n",
            "|  2004-06-20|2004-06-26|NORDESTE|      MARANHAO|Combustível|                         103|             R$/l|              1.649|                0.139|                 1.3|                 2.0|               0.492|                   0.084|                   1.157|                     0.139|                   0.8995|                     1.48|                         0.12|  6|2004|Registro 169|                    0.3298|\n",
            "|  2004-06-20|2004-06-26| SUDESTE|RIO DE JANEIRO|Combustível|                         967|             R$/l|              1.206|                0.165|                 0.8|               1.599|               0.254|       0.136999999999999|                   0.952|                     0.202|                  0.39203|                   1.3667|                        0.212|  6|2004|Registro 184|                    0.2412|\n",
            "|  2004-06-27|2004-07-03|NORDESTE|      MARANHAO|Combustível|                          97|             R$/l|              1.641|                0.133|                1.35|                 2.0|               0.423|                   0.081|                   1.218|                     0.129|                   0.9614|                   1.5338|                        0.106|  6|2004|Registro 196|                    0.3282|\n",
            "|  2004-06-27|2004-07-03| SUDESTE|RIO DE JANEIRO|Combustível|                         963|             R$/l|              1.203|                0.166|                0.84|               1.599|               0.242|                   0.138|                   0.961|                     0.199|                   0.4123|                   1.3667|                        0.207|  6|2004|Registro 211|                    0.2406|\n",
            "|  2004-07-04|2004-07-10|NORDESTE|      MARANHAO|Combustível|                         102|             R$/l|              1.642|                0.129|                1.35|                 2.0|               0.451|                   0.079|                   1.191|                     0.132|                   0.9614|                   1.6045|                        0.111|  7|2004|Registro 223|       0.32839999999999997|\n",
            "|  2004-07-04|2004-07-10| SUDESTE|RIO DE JANEIRO|Combustível|                         976|             R$/l|              1.207|                0.162|                0.84|               1.559|               0.216|                   0.134|                   0.991|                     0.191|                   0.4575|                   1.3667|                        0.193|  7|2004|Registro 238|                    0.2414|\n",
            "|  2004-07-11|2004-07-17|NORDESTE|      MARANHAO|Combustível|                          99|             R$/l|              1.645|                0.134|                1.35|                 2.0|               0.417|                   0.081|                   1.228|                     0.138|                   0.9614|                   1.6045|                        0.112|  7|2004|Registro 250|                     0.329|\n",
            "|  2004-07-11|2004-07-17| SUDESTE|RIO DE JANEIRO|Combustível|                         963|             R$/l|              1.207|                0.163|                0.84|               1.559|               0.213|                   0.135|                   0.994|                     0.184|                   0.3828|                   1.3716|                        0.185|  7|2004|Registro 265|                    0.2414|\n",
            "+------------+----------+--------+--------------+-----------+----------------------------+-----------------+-------------------+---------------------+--------------------+--------------------+--------------------+------------------------+------------------------+--------------------------+-------------------------+-------------------------+-----------------------------+---+----+------------+--------------------------+\n",
            "only showing top 20 rows\n",
            "\n"
          ]
        }
      ]
    },
    {
      "cell_type": "code",
      "source": [
        "# Testar os estados\n",
        "df_filtrado.groupby('ESTADO').count().show()"
      ],
      "metadata": {
        "colab": {
          "base_uri": "https://localhost:8080/"
        },
        "id": "uuk6hPCWX4yN",
        "outputId": "b86c5a59-b0f6-4871-bae6-77888d85d359"
      },
      "execution_count": 43,
      "outputs": [
        {
          "output_type": "stream",
          "name": "stdout",
          "text": [
            "+--------------+-----+\n",
            "|        ESTADO|count|\n",
            "+--------------+-----+\n",
            "|RIO DE JANEIRO| 1209|\n",
            "|      MARANHAO|  598|\n",
            "+--------------+-----+\n",
            "\n"
          ]
        }
      ]
    },
    {
      "cell_type": "code",
      "source": [
        "# Calculando o mínimo e máximo do preço médio de revenda para testar\n",
        "min_preco = df_filtrado.agg(F.min('PREÇO MÉDIO REVENDA')).collect()[0][0]\n",
        "max_preco = df_filtrado.agg(F.max('PREÇO MÉDIO REVENDA')).collect()[0][0]\n",
        "\n",
        "print(f\"O menor preço médio de revenda é: {min_preco}\")\n",
        "print(f\"O maior preço médio de revenda é: {max_preco}\")"
      ],
      "metadata": {
        "colab": {
          "base_uri": "https://localhost:8080/"
        },
        "id": "wCvAyGcAX5D4",
        "outputId": "6c071bc6-5561-4832-9277-db7bf8f79ba2"
      },
      "execution_count": 44,
      "outputs": [
        {
          "output_type": "stream",
          "name": "stdout",
          "text": [
            "O menor preço médio de revenda é: 1.036\n",
            "O maior preço médio de revenda é: 2.0\n"
          ]
        }
      ]
    },
    {
      "cell_type": "markdown",
      "source": [
        "# Demanda 10\n",
        "Selecionar os registros de postos de São Paulo ou do Rio de Janeiro com Gasolina Comum acima de 2 reais"
      ],
      "metadata": {
        "id": "O7rsCUxocGoe"
      }
    },
    {
      "cell_type": "code",
      "source": [
        "# 1. Criar o filtro composto por cada condição em pyspark\n",
        "selecao_1 = (df['ESTADO'] == 'SAO PAULO') | (df['ESTADO'] == 'RIO DE JANEIRO')\n",
        "selecao_2 = df['PRODUTO'] == 'GASOLINA COMUM'\n",
        "selecao_3 = df['PREÇO MÉDIO REVENDA'] > 2.0 # Use 2.0 para garantir comparação como float\n",
        "\n"
      ],
      "metadata": {
        "id": "IOsuJrnZcNzU"
      },
      "execution_count": 45,
      "outputs": []
    },
    {
      "cell_type": "code",
      "source": [
        "# 2. Aplicar as condições juntas\n",
        "df_resultado = df.filter(selecao_1 & selecao_2 & selecao_3)\n",
        "df_resultado.show()"
      ],
      "metadata": {
        "colab": {
          "base_uri": "https://localhost:8080/"
        },
        "id": "9YyibVOtfu8M",
        "outputId": "8a4a7e0b-6c25-4762-80fd-e377aee64805"
      },
      "execution_count": 46,
      "outputs": [
        {
          "output_type": "stream",
          "name": "stdout",
          "text": [
            "+------------+----------+-------+--------------+--------------+----------------------------+-----------------+-------------------+---------------------+--------------------+--------------------+--------------------+------------------------+------------------------+--------------------------+-------------------------+-------------------------+-----------------------------+---+----+\n",
            "|DATA INICIAL|DATA FINAL| REGIÃO|        ESTADO|       PRODUTO|NÚMERO DE POSTOS PESQUISADOS|UNIDADE DE MEDIDA|PREÇO MÉDIO REVENDA|DESVIO PADRÃO REVENDA|PREÇO MÍNIMO REVENDA|PREÇO MÁXIMO REVENDA|MARGEM MÉDIA REVENDA|COEF DE VARIAÇÃO REVENDA|PREÇO MÉDIO DISTRIBUIÇÃO|DESVIO PADRÃO DISTRIBUIÇÃO|PREÇO MÍNIMO DISTRIBUIÇÃO|PREÇO MÁXIMO DISTRIBUIÇÃO|COEF DE VARIAÇÃO DISTRIBUIÇÃO|MÊS| ANO|\n",
            "+------------+----------+-------+--------------+--------------+----------------------------+-----------------+-------------------+---------------------+--------------------+--------------------+--------------------+------------------------+------------------------+--------------------------+-------------------------+-------------------------+-----------------------------+---+----+\n",
            "|  2004-05-09|2004-05-15|SUDESTE|RIO DE JANEIRO|GASOLINA COMUM|                        1071|             R$/l|              2.045|                0.109|                 1.7|               2.599|               0.254|                   0.053|                   1.791|                     0.047|                   1.6363|                   1.9594|                        0.026|  5|2004|\n",
            "|  2004-05-16|2004-05-22|SUDESTE|RIO DE JANEIRO|GASOLINA COMUM|                        1055|             R$/l|               2.04|                0.113|                 1.7|               2.599|               0.252|                   0.055|                   1.788|                     0.049|                   1.5943|                  1.99651|                        0.027|  5|2004|\n",
            "|  2004-05-23|2004-05-29|SUDESTE|RIO DE JANEIRO|GASOLINA COMUM|                        1091|             R$/l|              2.042|                0.108|                 1.7|               2.599|               0.252|                   0.053|                    1.79|                     0.046|                  1.63596|                   2.2137|                        0.026|  5|2004|\n",
            "|  2004-05-30|2004-06-05|SUDESTE|RIO DE JANEIRO|GASOLINA COMUM|                        1055|             R$/l|              2.053|                0.111|                1.73|               2.599|               0.251|                   0.054|                   1.802|                     0.055|                     1.64|                  2.21425|                        0.031|  5|2004|\n",
            "|  2004-06-06|2004-06-12|SUDESTE|RIO DE JANEIRO|GASOLINA COMUM|                        1091|             R$/l|              2.063|                0.107|                1.76|               2.599|               0.247|                   0.052|                   1.816|                     0.054|                     1.64|                  2.32425|                         0.03|  6|2004|\n",
            "|  2004-06-13|2004-06-19|SUDESTE|RIO DE JANEIRO|GASOLINA COMUM|                        1061|             R$/l|              2.085|                0.118|                1.73|               2.599|               0.269|                   0.057|                   1.816|                     0.049|                  1.65755|                    2.123|                        0.027|  6|2004|\n",
            "|  2004-06-20|2004-06-26|SUDESTE|RIO DE JANEIRO|GASOLINA COMUM|                        1090|             R$/l|              2.152|                0.111|                1.76|               2.599|               0.275|                   0.052|                   1.877|                     0.059|                     1.65|                   2.1379|                        0.031|  6|2004|\n",
            "|  2004-06-20|2004-06-26|SUDESTE|     SAO PAULO|GASOLINA COMUM|                        4140|             R$/l|              2.036|                0.093|                1.69|               2.399|               0.263|                   0.046|                   1.773|                     0.083|                    1.434|                   2.7345|                        0.047|  6|2004|\n",
            "|  2004-06-27|2004-07-03|SUDESTE|RIO DE JANEIRO|GASOLINA COMUM|                        1066|             R$/l|              2.151|    0.116999999999999|                1.79|               2.599|               0.273|                   0.054|                   1.878|                     0.055|                     1.55|                    2.259|                        0.029|  6|2004|\n",
            "|  2004-06-27|2004-07-03|SUDESTE|     SAO PAULO|GASOLINA COMUM|                        4122|             R$/l|              2.033|                0.092|                1.68|               2.399|                0.25|                   0.045|                   1.783|                     0.064|                    1.433|                   2.1589|                        0.036|  6|2004|\n",
            "|  2004-07-04|2004-07-10|SUDESTE|RIO DE JANEIRO|GASOLINA COMUM|                        1096|             R$/l|              2.152|                0.111|                1.79|               2.599|               0.258|                   0.052|                   1.894|                     0.052|                     1.64|                    2.259|                        0.027|  7|2004|\n",
            "|  2004-07-04|2004-07-10|SUDESTE|     SAO PAULO|GASOLINA COMUM|                        4137|             R$/l|              2.032|                0.088|               1.739|               2.499|               0.255|                   0.043|                   1.777|                     0.059|                     1.54|                    2.473|                        0.033|  7|2004|\n",
            "|  2004-07-11|2004-07-17|SUDESTE|RIO DE JANEIRO|GASOLINA COMUM|                        1066|             R$/l|               2.15|    0.111999999999999|                1.79|               2.599|               0.253|                   0.052|                   1.897|                     0.052|                     1.55|                   2.1032|                        0.027|  7|2004|\n",
            "|  2004-07-11|2004-07-17|SUDESTE|     SAO PAULO|GASOLINA COMUM|                        4147|             R$/l|               2.03|                0.089|               1.659|               2.399|               0.254|                   0.044|                   1.776|                     0.055|                    1.477|                    2.114|                        0.031|  7|2004|\n",
            "|  2004-07-18|2004-07-24|SUDESTE|RIO DE JANEIRO|GASOLINA COMUM|                        1093|             R$/l|              2.154|                0.106|                 1.8|               2.599|               0.255|                   0.049|                   1.899|                     0.045|                   1.6489|                  2.11466|                        0.024|  7|2004|\n",
            "|  2004-07-18|2004-07-24|SUDESTE|     SAO PAULO|GASOLINA COMUM|                        4135|             R$/l|               2.03|                0.086|               1.739|               2.499|               0.254|                   0.042|                   1.776|                     0.053|                     1.54|                    2.114|                         0.03|  7|2004|\n",
            "|  2004-07-25|2004-07-31|SUDESTE|RIO DE JANEIRO|GASOLINA COMUM|                        1066|             R$/l|              2.157|                0.107|                1.82|               2.599|               0.253|                    0.05|                   1.904|                     0.048|                     1.72|                   2.1835|                        0.025|  7|2004|\n",
            "|  2004-07-25|2004-07-31|SUDESTE|     SAO PAULO|GASOLINA COMUM|                        4144|             R$/l|              2.028|                0.088|                1.59|               2.399|                0.25|                   0.043|                   1.778|                     0.054|                    1.477|                    2.114|                         0.03|  7|2004|\n",
            "|  2004-08-01|2004-08-07|SUDESTE|RIO DE JANEIRO|GASOLINA COMUM|                        1094|             R$/l|              2.162|                0.104|                1.82|               2.599|               0.249|                   0.048|                   1.913|                     0.044|                     1.66|                   2.1835|                        0.023|  8|2004|\n",
            "|  2004-08-01|2004-08-07|SUDESTE|     SAO PAULO|GASOLINA COMUM|                        4131|             R$/l|               2.03|                0.087|               1.699|               2.449|               0.246|                   0.043|                   1.784|                     0.054|                     1.54|                   2.1291|                         0.03|  8|2004|\n",
            "+------------+----------+-------+--------------+--------------+----------------------------+-----------------+-------------------+---------------------+--------------------+--------------------+--------------------+------------------------+------------------------+--------------------------+-------------------------+-------------------------+-----------------------------+---+----+\n",
            "only showing top 20 rows\n",
            "\n"
          ]
        }
      ]
    },
    {
      "cell_type": "code",
      "source": [
        "# Garantindo que só tem os estados estipulados na condição\n",
        "print(df_resultado.select('ESTADO').distinct().collect())\n",
        "\n",
        "# Garantindo que só tem o produto estipulado na condição\n",
        "print(df_resultado.select('PRODUTO').distinct().collect())\n",
        "\n",
        "# Garantindo que o menor valor presente no resultado é igual ou maior que 2\n",
        "min_preco = df_resultado.agg(F.min('PREÇO MÉDIO REVENDA')).collect()[0][0]\n",
        "print(min_preco)"
      ],
      "metadata": {
        "colab": {
          "base_uri": "https://localhost:8080/"
        },
        "id": "P351ScFvcN8t",
        "outputId": "a8d9850c-c7eb-4f12-ffab-77f115365c54"
      },
      "execution_count": 47,
      "outputs": [
        {
          "output_type": "stream",
          "name": "stdout",
          "text": [
            "[Row(ESTADO='RIO DE JANEIRO'), Row(ESTADO='SAO PAULO')]\n",
            "[Row(PRODUTO='GASOLINA COMUM')]\n",
            "2.028\n"
          ]
        }
      ]
    },
    {
      "cell_type": "markdown",
      "source": [
        "# Demanda 11\n",
        "Achar a data referente às últimas 2 semanas , considerando que a data atual sempre mudará a cada dia diferente de processamento.\n"
      ],
      "metadata": {
        "id": "Wfq6ppNbkRXX"
      }
    },
    {
      "cell_type": "code",
      "source": [
        "# Determinando a data de hoje e a data de 2 semanas atrás\n",
        "\n",
        "\n",
        "# calculando a data de hoje - muda de acordo com o dia em que for processado\n",
        "data_hoje = current_date()\n",
        "\n",
        "\n",
        "# o data_sub calcula a diferença entre duas datas em dias\n",
        "data_duas_semanas = date_sub(data_hoje, 14)\n",
        "\n",
        "# Criando um DataFrame com uma linha qualquer para armazenar as datas depois\n",
        "df_temp = spark.createDataFrame([(1,)], [\"dummy\"])\n",
        "\n",
        "# Adicionando colunas com a data atual e a data de duas semanas atrás\n",
        "df_temp = df_temp.withColumn(\"data_atual\", current_date()) \\\n",
        "                 .withColumn(\"data_duas_semanas_atras\", date_sub(current_date(), 14))\n",
        "\n",
        "# Verificando\n",
        "df_temp.show()\n"
      ],
      "metadata": {
        "id": "C4ZGLBoakZdd",
        "colab": {
          "base_uri": "https://localhost:8080/"
        },
        "outputId": "07653730-6be1-467c-84c2-c4ebe34baede"
      },
      "execution_count": 48,
      "outputs": [
        {
          "output_type": "stream",
          "name": "stdout",
          "text": [
            "+-----+----------+-----------------------+\n",
            "|dummy|data_atual|data_duas_semanas_atras|\n",
            "+-----+----------+-----------------------+\n",
            "|    1|2023-10-29|             2023-10-15|\n",
            "+-----+----------+-----------------------+\n",
            "\n"
          ]
        }
      ]
    },
    {
      "cell_type": "markdown",
      "source": [
        "# Demanda 12\n",
        "Criar uma coluna com os os dias que se passaram entre a data final e a data inicial"
      ],
      "metadata": {
        "id": "55ruKVevpsSW"
      }
    },
    {
      "cell_type": "code",
      "source": [
        "# Checando o tipo das datas\n",
        "df2.printSchema()"
      ],
      "metadata": {
        "colab": {
          "base_uri": "https://localhost:8080/"
        },
        "id": "Uq56NU0Fp1f0",
        "outputId": "93f104a9-a3f1-4699-f315-fed9392b7b8c"
      },
      "execution_count": 49,
      "outputs": [
        {
          "output_type": "stream",
          "name": "stdout",
          "text": [
            "root\n",
            " |-- DATA INICIAL: string (nullable = true)\n",
            " |-- DATA FINAL: string (nullable = true)\n",
            " |-- REGIÃO: string (nullable = true)\n",
            " |-- ESTADO: string (nullable = true)\n",
            " |-- PRODUTO: string (nullable = false)\n",
            " |-- NÚMERO DE POSTOS PESQUISADOS: string (nullable = true)\n",
            " |-- UNIDADE DE MEDIDA: string (nullable = true)\n",
            " |-- PREÇO MÉDIO REVENDA: string (nullable = true)\n",
            " |-- DESVIO PADRÃO REVENDA: string (nullable = true)\n",
            " |-- PREÇO MÍNIMO REVENDA: string (nullable = true)\n",
            " |-- PREÇO MÁXIMO REVENDA: string (nullable = true)\n",
            " |-- MARGEM MÉDIA REVENDA: string (nullable = true)\n",
            " |-- COEF DE VARIAÇÃO REVENDA: string (nullable = true)\n",
            " |-- PREÇO MÉDIO DISTRIBUIÇÃO: string (nullable = true)\n",
            " |-- DESVIO PADRÃO DISTRIBUIÇÃO: string (nullable = true)\n",
            " |-- PREÇO MÍNIMO DISTRIBUIÇÃO: string (nullable = true)\n",
            " |-- PREÇO MÁXIMO DISTRIBUIÇÃO: string (nullable = true)\n",
            " |-- COEF DE VARIAÇÃO DISTRIBUIÇÃO: string (nullable = true)\n",
            " |-- MÊS: string (nullable = true)\n",
            " |-- ANO: string (nullable = true)\n",
            " |-- ID_REGISTRO: string (nullable = false)\n",
            " |-- PREÇO MÉDIO REVENDA(DÓLAR): double (nullable = true)\n",
            "\n"
          ]
        }
      ]
    },
    {
      "cell_type": "code",
      "source": [
        "# Convertendo strings para datas no formato \"yyyy-MM-dd\" com to_date\n",
        "df2 = df2.withColumn(\"DATA FINAL\", to_date(df2[\"DATA FINAL\"], 'yyyy-MM-dd'))\n",
        "df2 = df2.withColumn(\"DATA INICIAL\", to_date(df2[\"DATA INICIAL\"], 'yyyy-MM-dd'))\n",
        "\n",
        "# Criar nova coluna com a diferença entre as datas com datediff (em dias)\n",
        "df2 = df2.withColumn(\"dias_passados\", datediff(df2[\"DATA FINAL\"], df2[\"DATA INICIAL\"]))\n",
        "\n",
        "# Mostrar o resultado\n",
        "df2.select(\"DATA FINAL\", \"DATA INICIAL\", \"dias_passados\").show()"
      ],
      "metadata": {
        "colab": {
          "base_uri": "https://localhost:8080/"
        },
        "id": "fJLynwyDp1ns",
        "outputId": "513fdb84-0caa-4891-f24c-7c38f7836105"
      },
      "execution_count": 50,
      "outputs": [
        {
          "output_type": "stream",
          "name": "stdout",
          "text": [
            "+----------+------------+-------------+\n",
            "|DATA FINAL|DATA INICIAL|dias_passados|\n",
            "+----------+------------+-------------+\n",
            "|2004-05-15|  2004-05-09|            6|\n",
            "|2004-05-15|  2004-05-09|            6|\n",
            "|2004-05-15|  2004-05-09|            6|\n",
            "|2004-05-15|  2004-05-09|            6|\n",
            "|2004-05-15|  2004-05-09|            6|\n",
            "|2004-05-15|  2004-05-09|            6|\n",
            "|2004-05-15|  2004-05-09|            6|\n",
            "|2004-05-15|  2004-05-09|            6|\n",
            "|2004-05-15|  2004-05-09|            6|\n",
            "|2004-05-15|  2004-05-09|            6|\n",
            "|2004-05-15|  2004-05-09|            6|\n",
            "|2004-05-15|  2004-05-09|            6|\n",
            "|2004-05-15|  2004-05-09|            6|\n",
            "|2004-05-15|  2004-05-09|            6|\n",
            "|2004-05-15|  2004-05-09|            6|\n",
            "|2004-05-15|  2004-05-09|            6|\n",
            "|2004-05-15|  2004-05-09|            6|\n",
            "|2004-05-15|  2004-05-09|            6|\n",
            "|2004-05-15|  2004-05-09|            6|\n",
            "|2004-05-15|  2004-05-09|            6|\n",
            "+----------+------------+-------------+\n",
            "only showing top 20 rows\n",
            "\n"
          ]
        }
      ]
    },
    {
      "cell_type": "markdown",
      "source": [
        "# Demanda 13\n",
        "Corrigir todos os dados numéricos que estão com tipagem object, para o correto."
      ],
      "metadata": {
        "id": "kH9MS_G1v_Nm"
      }
    },
    {
      "cell_type": "code",
      "source": [
        "# 1) Checando os tipos dados\n",
        "df2.printSchema()"
      ],
      "metadata": {
        "colab": {
          "base_uri": "https://localhost:8080/"
        },
        "id": "yXxVicufsHW3",
        "outputId": "6fac24f2-46e1-42e8-c301-ee7736cb3a3a"
      },
      "execution_count": 51,
      "outputs": [
        {
          "output_type": "stream",
          "name": "stdout",
          "text": [
            "root\n",
            " |-- DATA INICIAL: date (nullable = true)\n",
            " |-- DATA FINAL: date (nullable = true)\n",
            " |-- REGIÃO: string (nullable = true)\n",
            " |-- ESTADO: string (nullable = true)\n",
            " |-- PRODUTO: string (nullable = false)\n",
            " |-- NÚMERO DE POSTOS PESQUISADOS: string (nullable = true)\n",
            " |-- UNIDADE DE MEDIDA: string (nullable = true)\n",
            " |-- PREÇO MÉDIO REVENDA: string (nullable = true)\n",
            " |-- DESVIO PADRÃO REVENDA: string (nullable = true)\n",
            " |-- PREÇO MÍNIMO REVENDA: string (nullable = true)\n",
            " |-- PREÇO MÁXIMO REVENDA: string (nullable = true)\n",
            " |-- MARGEM MÉDIA REVENDA: string (nullable = true)\n",
            " |-- COEF DE VARIAÇÃO REVENDA: string (nullable = true)\n",
            " |-- PREÇO MÉDIO DISTRIBUIÇÃO: string (nullable = true)\n",
            " |-- DESVIO PADRÃO DISTRIBUIÇÃO: string (nullable = true)\n",
            " |-- PREÇO MÍNIMO DISTRIBUIÇÃO: string (nullable = true)\n",
            " |-- PREÇO MÁXIMO DISTRIBUIÇÃO: string (nullable = true)\n",
            " |-- COEF DE VARIAÇÃO DISTRIBUIÇÃO: string (nullable = true)\n",
            " |-- MÊS: string (nullable = true)\n",
            " |-- ANO: string (nullable = true)\n",
            " |-- ID_REGISTRO: string (nullable = false)\n",
            " |-- PREÇO MÉDIO REVENDA(DÓLAR): double (nullable = true)\n",
            " |-- dias_passados: integer (nullable = true)\n",
            "\n"
          ]
        }
      ]
    },
    {
      "cell_type": "code",
      "source": [
        "# 2. Verificando possíveis valores anômalos em uma das colunas que será transformada\n",
        "df2.groupBy(\"PREÇO MÉDIO DISTRIBUIÇÃO\").count().orderBy(\"count\", ascending=False).show()\n",
        "\n",
        "# identificados 3400 valores anômalos como '-'"
      ],
      "metadata": {
        "colab": {
          "base_uri": "https://localhost:8080/"
        },
        "id": "2jeqUNO5wx8L",
        "outputId": "3a8ca41c-dd32-4c3b-9ad5-afa6d80b0fb5"
      },
      "execution_count": 52,
      "outputs": [
        {
          "output_type": "stream",
          "name": "stdout",
          "text": [
            "+------------------------+-----+\n",
            "|PREÇO MÉDIO DISTRIBUIÇÃO|count|\n",
            "+------------------------+-----+\n",
            "|                       -| 3400|\n",
            "|                   1.283|   96|\n",
            "|                   1.681|   92|\n",
            "|                   1.684|   92|\n",
            "|                   1.683|   90|\n",
            "|                   1.682|   88|\n",
            "|                    1.25|   88|\n",
            "|                   2.183|   85|\n",
            "|                   1.688|   85|\n",
            "|                   2.173|   81|\n",
            "|                   1.685|   80|\n",
            "|                   2.278|   80|\n",
            "|                   1.785|   80|\n",
            "|                    1.68|   79|\n",
            "|                   2.252|   79|\n",
            "|                   1.706|   78|\n",
            "|                    2.27|   78|\n",
            "|                    1.93|   78|\n",
            "|                   2.272|   78|\n",
            "|                   1.705|   77|\n",
            "+------------------------+-----+\n",
            "only showing top 20 rows\n",
            "\n"
          ]
        }
      ]
    },
    {
      "cell_type": "code",
      "source": [
        "# 3) Convertendo as colunas\n",
        "\n",
        "cols_convert = [\n",
        "   'MARGEM MÉDIA REVENDA',\n",
        "    'PREÇO MÉDIO DISTRIBUIÇÃO',\n",
        "    'DESVIO PADRÃO DISTRIBUIÇÃO',\n",
        "    'PREÇO MÍNIMO DISTRIBUIÇÃO',\n",
        "    'PREÇO MÁXIMO DISTRIBUIÇÃO',\n",
        "    'COEF DE VARIAÇÃO DISTRIBUIÇÃO'\n",
        "]\n",
        "\n",
        "for coluna in cols_convert:\n",
        "    df2 = df2.withColumn(coluna, df2[coluna].cast(FloatType()))\n"
      ],
      "metadata": {
        "id": "Y0CjxRtUwSKt"
      },
      "execution_count": 53,
      "outputs": []
    },
    {
      "cell_type": "markdown",
      "source": [
        "## Nota sobre conversão e nulls no pyspark\n",
        "#### O método cast é usado para converter o tipo de coluna no PySpark. Neste caso, estou convertendo as colunas especificadas para FloatType. Se algum valor não puder ser convertido (por exemplo, se houver uma string que não pode ser transformada em float, como no caso do valor anômalo encontrado), esse valor será substituído por null no PySpark diretamente, não sendo necessário um tratamento para isso , como no Python com coerce."
      ],
      "metadata": {
        "id": "yWRcfg__wnMK"
      }
    },
    {
      "cell_type": "code",
      "source": [
        "# Checando tipagem após transformação\n",
        "df2.printSchema()"
      ],
      "metadata": {
        "colab": {
          "base_uri": "https://localhost:8080/"
        },
        "id": "KWfXPzYEwSM9",
        "outputId": "efcb7695-50ba-45a7-d551-d0d711ce4045"
      },
      "execution_count": 54,
      "outputs": [
        {
          "output_type": "stream",
          "name": "stdout",
          "text": [
            "root\n",
            " |-- DATA INICIAL: date (nullable = true)\n",
            " |-- DATA FINAL: date (nullable = true)\n",
            " |-- REGIÃO: string (nullable = true)\n",
            " |-- ESTADO: string (nullable = true)\n",
            " |-- PRODUTO: string (nullable = false)\n",
            " |-- NÚMERO DE POSTOS PESQUISADOS: string (nullable = true)\n",
            " |-- UNIDADE DE MEDIDA: string (nullable = true)\n",
            " |-- PREÇO MÉDIO REVENDA: string (nullable = true)\n",
            " |-- DESVIO PADRÃO REVENDA: string (nullable = true)\n",
            " |-- PREÇO MÍNIMO REVENDA: string (nullable = true)\n",
            " |-- PREÇO MÁXIMO REVENDA: string (nullable = true)\n",
            " |-- MARGEM MÉDIA REVENDA: float (nullable = true)\n",
            " |-- COEF DE VARIAÇÃO REVENDA: string (nullable = true)\n",
            " |-- PREÇO MÉDIO DISTRIBUIÇÃO: float (nullable = true)\n",
            " |-- DESVIO PADRÃO DISTRIBUIÇÃO: float (nullable = true)\n",
            " |-- PREÇO MÍNIMO DISTRIBUIÇÃO: float (nullable = true)\n",
            " |-- PREÇO MÁXIMO DISTRIBUIÇÃO: float (nullable = true)\n",
            " |-- COEF DE VARIAÇÃO DISTRIBUIÇÃO: float (nullable = true)\n",
            " |-- MÊS: string (nullable = true)\n",
            " |-- ANO: string (nullable = true)\n",
            " |-- ID_REGISTRO: string (nullable = false)\n",
            " |-- PREÇO MÉDIO REVENDA(DÓLAR): double (nullable = true)\n",
            " |-- dias_passados: integer (nullable = true)\n",
            "\n"
          ]
        }
      ]
    },
    {
      "cell_type": "markdown",
      "source": [
        "## Contagem de valores Nulos no Pyspark\n",
        "\n",
        "#### Funções\n",
        "- `sum`: Função agregada que retorna a soma dos valores em uma coluna.\n",
        "- `when`: Função condicional que permite especificar ações com base em uma condição. É frequentemente usada em conjunto com outras funções para definir transformações condicionais.\n",
        "\n",
        "\n",
        "Com essas funções importadas, consigo criar uma estrutura para contar os valores nulos:\n",
        "\n",
        "\n",
        "O processo consiste em:\n",
        "- **Checagem da Condição Nula**: `F.col(c).isNull()` Checa se o valor na coluna `c` é nulo.\n",
        "- **Atribuição de Valores com base na Condição**: `F.when(col(c).isNull(), 1)` usa o `when` para retornar 1 quando o valor na coluna `c` é nulo. Se não for nulo, não retorna nada .\n",
        "- **Agregação**: `F.sum(...)` soma todos os 1s (que representam valores nulos) na coluna.\n",
        "- **Manter o nome original das colunas** com o `alias`: Após a agregação para contar valores nulos, uso a função `.alias(c)` para (re)nomear o resultado. No contexto do código, ele renomeia a coluna resultante da contagem agregada para ter o mesmo nome que a coluna original.\n",
        "- **Iteração por todas as Colunas**: `[F.sum(F.when(F.col(c).isNull(), 1)).alias(c) for c in df2.columns]` usa uma iteração pelas colunas para aplicar o processo acima a todas as colunas em `df2`.\n",
        "- **Seleção dos Resultados**: `df2.select(...)` seleciona os valores calculados para criar um novo DataFrame que contém a contagem de valores nulos para cada coluna."
      ],
      "metadata": {
        "id": "J1QoYAKH4uVR"
      }
    },
    {
      "cell_type": "code",
      "source": [
        "# Calculando os nulos por coluna\n",
        "nulos_por_coluna = df2.select([F.sum(F.when(F.col(c).isNull(),1)).alias(c) for c in df2.columns])\n",
        "\n",
        "nulos_por_coluna.show()\n"
      ],
      "metadata": {
        "colab": {
          "base_uri": "https://localhost:8080/"
        },
        "id": "8k8Kcig91A05",
        "outputId": "2021b34e-b5f7-4870-8ca3-21b22b57d5b7"
      },
      "execution_count": 55,
      "outputs": [
        {
          "output_type": "stream",
          "name": "stdout",
          "text": [
            "+------------+----------+------+------+-------+----------------------------+-----------------+-------------------+---------------------+--------------------+--------------------+--------------------+------------------------+------------------------+--------------------------+-------------------------+-------------------------+-----------------------------+----+----+-----------+--------------------------+-------------+\n",
            "|DATA INICIAL|DATA FINAL|REGIÃO|ESTADO|PRODUTO|NÚMERO DE POSTOS PESQUISADOS|UNIDADE DE MEDIDA|PREÇO MÉDIO REVENDA|DESVIO PADRÃO REVENDA|PREÇO MÍNIMO REVENDA|PREÇO MÁXIMO REVENDA|MARGEM MÉDIA REVENDA|COEF DE VARIAÇÃO REVENDA|PREÇO MÉDIO DISTRIBUIÇÃO|DESVIO PADRÃO DISTRIBUIÇÃO|PREÇO MÍNIMO DISTRIBUIÇÃO|PREÇO MÁXIMO DISTRIBUIÇÃO|COEF DE VARIAÇÃO DISTRIBUIÇÃO| MÊS| ANO|ID_REGISTRO|PREÇO MÉDIO REVENDA(DÓLAR)|dias_passados|\n",
            "+------------+----------+------+------+-------+----------------------------+-----------------+-------------------+---------------------+--------------------+--------------------+--------------------+------------------------+------------------------+--------------------------+-------------------------+-------------------------+-----------------------------+----+----+-----------+--------------------------+-------------+\n",
            "|        NULL|      NULL|  NULL|  NULL|   NULL|                        NULL|             NULL|               NULL|                 NULL|                NULL|                NULL|                3431|                    NULL|                    3400|                      3400|                     3400|                     3400|                         3400|NULL|NULL|       NULL|                      NULL|         NULL|\n",
            "+------------+----------+------+------+-------+----------------------------+-----------------+-------------------+---------------------+--------------------+--------------------+--------------------+------------------------+------------------------+--------------------------+-------------------------+-------------------------+-----------------------------+----+----+-----------+--------------------------+-------------+\n",
            "\n"
          ]
        }
      ]
    },
    {
      "cell_type": "markdown",
      "source": [
        "Foram identificadas as seugintes colunas contendo valores NULL : MARGEM MÉDIA REVENDA , PREÇO MÉDIO DISTRIBUIÇÃO, DESVIO PADRÃO DISTRIBUIÇÃO, PREÇO MÍNIMO DISTRIBUIÇÃO , PREÇO MÁXIMO DISTRIBUIÇÃO, COEF DE VARIAÇÃO DISTRIBUIÇÃO.\n",
        "\n",
        "A pŕoxima etapa é realizar a limpeza e tratamento desses dados."
      ],
      "metadata": {
        "id": "wsXc57sOwl2b"
      }
    },
    {
      "cell_type": "markdown",
      "source": [
        "### Limpeza de dados"
      ],
      "metadata": {
        "id": "iHfykshhuUDw"
      }
    },
    {
      "cell_type": "code",
      "source": [
        "\n",
        "# 1) Visualização dos registros com valores nulos\n",
        "## Checando os valores nulos de uma coluna especifica convertida\n",
        "\n",
        "df_nulos = df2.filter(F.col('PREÇO MÉDIO DISTRIBUIÇÃO').isNull())\n",
        "\n",
        "## Mostrando os registros filtrados\n",
        "df_nulos.show()"
      ],
      "metadata": {
        "colab": {
          "base_uri": "https://localhost:8080/"
        },
        "id": "VzlOjfDxuV6I",
        "outputId": "044c0dc1-bd87-4214-c89c-79e11458bfc2"
      },
      "execution_count": 56,
      "outputs": [
        {
          "output_type": "stream",
          "name": "stdout",
          "text": [
            "+------------+----------+--------+--------+-----------+----------------------------+-----------------+-------------------+---------------------+--------------------+--------------------+--------------------+------------------------+------------------------+--------------------------+-------------------------+-------------------------+-----------------------------+---+----+-------------+--------------------------+-------------+\n",
            "|DATA INICIAL|DATA FINAL|  REGIÃO|  ESTADO|    PRODUTO|NÚMERO DE POSTOS PESQUISADOS|UNIDADE DE MEDIDA|PREÇO MÉDIO REVENDA|DESVIO PADRÃO REVENDA|PREÇO MÍNIMO REVENDA|PREÇO MÁXIMO REVENDA|MARGEM MÉDIA REVENDA|COEF DE VARIAÇÃO REVENDA|PREÇO MÉDIO DISTRIBUIÇÃO|DESVIO PADRÃO DISTRIBUIÇÃO|PREÇO MÍNIMO DISTRIBUIÇÃO|PREÇO MÁXIMO DISTRIBUIÇÃO|COEF DE VARIAÇÃO DISTRIBUIÇÃO|MÊS| ANO|  ID_REGISTRO|PREÇO MÉDIO REVENDA(DÓLAR)|dias_passados|\n",
            "+------------+----------+--------+--------+-----------+----------------------------+-----------------+-------------------+---------------------+--------------------+--------------------+--------------------+------------------------+------------------------+--------------------------+-------------------------+-------------------------+-----------------------------+---+----+-------------+--------------------------+-------------+\n",
            "|  2005-09-25|2005-10-01|   NORTE|    PARA|Combustível|                           2|             R$/l|              1.694|                0.283|                1.69|                2.09|                NULL|       0.166999999999999|                    NULL|                      NULL|                     NULL|                     NULL|                         NULL|  9|2005|Registro 1903|                    0.3388|            6|\n",
            "|  2005-10-09|2005-10-15|   NORTE| RORAIMA|Combustível|                           3|             R$/l|                2.0|                  0.0|                 2.0|                 2.0|                NULL|                     0.0|                    NULL|                      NULL|                     NULL|                     NULL|                         NULL| 10|2005|Registro 1958|                       0.4|            6|\n",
            "|  2005-10-23|2005-10-29|   NORTE| RORAIMA|Combustível|                           3|             R$/l|              2.277|                0.023|                2.25|                2.29|                NULL|                    0.01|                    NULL|                      NULL|                     NULL|                     NULL|                         NULL| 10|2005|Registro 2012|                    0.4554|            6|\n",
            "|  2006-02-26|2006-03-04|   NORTE| RORAIMA|Combustível|                          11|             R$/l|              2.182|                 0.04|                 2.1|                 2.2|                NULL|                   0.018|                    NULL|                      NULL|                     NULL|                     NULL|                         NULL|  2|2006|Registro 2497|                    0.4364|            6|\n",
            "|  2006-08-27|2006-09-02|   NORTE| RORAIMA|Combustível|                          22|             R$/l|              2.285|                0.068|                1.98|                 2.3|                NULL|                    0.03|                    NULL|                      NULL|                     NULL|                     NULL|                         NULL|  8|2006|Registro 3199|                     0.457|            6|\n",
            "|  2007-08-19|2007-08-25|   NORTE| RORAIMA|Combustível|                           7|             R$/l|              2.064|                0.047|                 2.0|                 2.1|                NULL|                   0.023|                    NULL|                      NULL|                     NULL|                     NULL|                         NULL|  8|2007|Registro 4576|                    0.4128|            6|\n",
            "|  2007-09-02|2007-09-08|   NORTE|   AMAPA|Combustível|                           4|             R$/l|              1.925|   0.0289999999999999|                 1.9|                1.95|                NULL|                   0.015|                    NULL|                      NULL|                     NULL|                     NULL|                         NULL|  9|2007|Registro 4626|                     0.385|            6|\n",
            "|  2007-09-02|2007-09-08|   NORTE| RORAIMA|Combustível|                           7|             R$/l|              2.071|                0.039|                 2.0|                 2.1|                NULL|                   0.019|                    NULL|                      NULL|                     NULL|                     NULL|                         NULL|  9|2007|Registro 4630|                    0.4142|            6|\n",
            "|  2007-11-25|2007-12-01|   NORTE|   AMAPA|Combustível|                           6|             R$/l|              1.881|                 0.11|                1.86|                2.15|                NULL|      0.0579999999999999|                    NULL|                      NULL|                     NULL|                     NULL|                         NULL| 11|2007|Registro 4950|                    0.3762|            6|\n",
            "|  2007-12-23|2007-12-29|   NORTE| RORAIMA|Combustível|                           6|             R$/l|              2.067|                0.052|                 2.0|                 2.1|                NULL|                   0.025|                    NULL|                      NULL|                     NULL|                     NULL|                         NULL| 12|2007|Registro 5062|       0.41340000000000005|            6|\n",
            "|  2009-08-30|2009-09-05|NORDESTE|MARANHAO|Combustível|                          29|             R$/l|              1.556|                0.163|               1.388|                1.95|                NULL|                   0.105|                    NULL|                      NULL|                     NULL|                     NULL|                         NULL|  8|2009|Registro 7373|       0.31120000000000003|            6|\n",
            "|  2009-10-11|2009-10-17|   NORTE|   AMAPA|Combustível|                           5|             R$/l|              2.182|                0.026|                2.15|                2.21|                NULL|                   0.012|                    NULL|                      NULL|                     NULL|                     NULL|                         NULL| 10|2009|Registro 7542|                    0.4364|            6|\n",
            "|  2009-10-18|2009-10-24|   NORTE|   AMAPA|Combustível|                           3|             R$/l|              2.087|                0.084|               2.012|                2.16|                NULL|                    0.04|                    NULL|                      NULL|                     NULL|                     NULL|                         NULL| 10|2009|Registro 7569|       0.41740000000000005|            6|\n",
            "|  2009-10-18|2009-10-24|   NORTE|RONDONIA|Combustível|                          37|             R$/l|              1.865|                0.131|                 1.7|                2.29|                NULL|                    0.07|                    NULL|                      NULL|                     NULL|                     NULL|                         NULL| 10|2009|Registro 7572|                     0.373|            6|\n",
            "|  2009-11-01|2009-11-07|   NORTE|   AMAPA|Combustível|                           6|             R$/l|              2.235|   0.0969999999999999|                2.15|                 2.4|                NULL|                   0.043|                    NULL|                      NULL|                     NULL|                     NULL|                         NULL| 11|2009|Registro 7623|       0.44699999999999995|            6|\n",
            "|  2009-11-01|2009-11-07|   NORTE|RONDONIA|Combustível|                          39|             R$/l|               1.94|                0.139|                1.78|                2.29|                NULL|                   0.072|                    NULL|                      NULL|                     NULL|                     NULL|                         NULL| 11|2009|Registro 7626|                     0.388|            6|\n",
            "|  2009-11-08|2009-11-14|   NORTE|   AMAPA|Combustível|                           9|             R$/l|              2.186|                0.073|                2.11|                2.35|                NULL|                   0.033|                    NULL|                      NULL|                     NULL|                     NULL|                         NULL| 11|2009|Registro 7650|                    0.4372|            6|\n",
            "|  2009-11-15|2009-11-21|   NORTE|   AMAPA|Combustível|                           8|             R$/l|              2.183|                0.074|                2.12|                2.35|                NULL|                   0.034|                    NULL|                      NULL|                     NULL|                     NULL|                         NULL| 11|2009|Registro 7677|                    0.4366|            6|\n",
            "|  2009-11-22|2009-11-28|   NORTE|   AMAPA|Combustível|                           5|             R$/l|              2.178|                0.013|                2.17|                 2.2|                NULL|                   0.006|                    NULL|                      NULL|                     NULL|                     NULL|                         NULL| 11|2009|Registro 7704|                    0.4356|            6|\n",
            "|  2009-11-29|2009-12-05|   NORTE|   AMAPA|Combustível|                           5|             R$/l|              2.241|                 0.08|                2.14|                2.35|                NULL|                   0.036|                    NULL|                      NULL|                     NULL|                     NULL|                         NULL| 11|2009|Registro 7731|       0.44820000000000004|            6|\n",
            "+------------+----------+--------+--------+-----------+----------------------------+-----------------+-------------------+---------------------+--------------------+--------------------+--------------------+------------------------+------------------------+--------------------------+-------------------------+-------------------------+-----------------------------+---+----+-------------+--------------------------+-------------+\n",
            "only showing top 20 rows\n",
            "\n"
          ]
        }
      ]
    },
    {
      "cell_type": "markdown",
      "source": [
        "# Demanda 14 - Tratamento de NULL\n",
        "Preencher os valores numéricos nulos por zero\n",
        "Preencher os valores nulos por zero é uma das estratégias, mas não a única e nem recomendada para algumas das colunas (ex: a MARGEM MÉDIA REVENDA seria melhor preencher com a média dos valores). Para o exercício, seguirei com o proposto na demanda."
      ],
      "metadata": {
        "id": "oKX005uovbsP"
      }
    },
    {
      "cell_type": "code",
      "source": [
        "# Lista de colunas que você deseja substituir os nulos por zero\n",
        "col_nulos =  ['MARGEM MÉDIA REVENDA',\n",
        "              'PREÇO MÉDIO DISTRIBUIÇÃO',\n",
        "              'DESVIO PADRÃO DISTRIBUIÇÃO',\n",
        "              'PREÇO MÍNIMO DISTRIBUIÇÃO',\n",
        "              'PREÇO MÁXIMO DISTRIBUIÇÃO',\n",
        "              'COEF DE VARIAÇÃO DISTRIBUIÇÃO']\n",
        "\n",
        "# Usando fillna para preencher os NaN com zero - 'fillna' similar ao pandas\n",
        "df2 = df2.fillna({coluna:0 for coluna in col_nulos})"
      ],
      "metadata": {
        "id": "6oqcIQomviTx"
      },
      "execution_count": 57,
      "outputs": []
    },
    {
      "cell_type": "code",
      "source": [
        "# Checagem\n",
        "# Calculando e mostrando a quantidade de nulos por coluna - espera-se ver NULL em todas as cols agora, pois NULL foi substituído por zero\n",
        "nulos_por_coluna = df2.select([F.sum(F.when(F.col(c).isNull(), 1)).alias(c) for c in df2.columns])\n",
        "nulos_por_coluna.show()"
      ],
      "metadata": {
        "colab": {
          "base_uri": "https://localhost:8080/"
        },
        "id": "rYc5bz6I-pWJ",
        "outputId": "8f077abc-0559-4e28-fe8e-b8d572b33e26"
      },
      "execution_count": 58,
      "outputs": [
        {
          "output_type": "stream",
          "name": "stdout",
          "text": [
            "+------------+----------+------+------+-------+----------------------------+-----------------+-------------------+---------------------+--------------------+--------------------+--------------------+------------------------+------------------------+--------------------------+-------------------------+-------------------------+-----------------------------+----+----+-----------+--------------------------+-------------+\n",
            "|DATA INICIAL|DATA FINAL|REGIÃO|ESTADO|PRODUTO|NÚMERO DE POSTOS PESQUISADOS|UNIDADE DE MEDIDA|PREÇO MÉDIO REVENDA|DESVIO PADRÃO REVENDA|PREÇO MÍNIMO REVENDA|PREÇO MÁXIMO REVENDA|MARGEM MÉDIA REVENDA|COEF DE VARIAÇÃO REVENDA|PREÇO MÉDIO DISTRIBUIÇÃO|DESVIO PADRÃO DISTRIBUIÇÃO|PREÇO MÍNIMO DISTRIBUIÇÃO|PREÇO MÁXIMO DISTRIBUIÇÃO|COEF DE VARIAÇÃO DISTRIBUIÇÃO| MÊS| ANO|ID_REGISTRO|PREÇO MÉDIO REVENDA(DÓLAR)|dias_passados|\n",
            "+------------+----------+------+------+-------+----------------------------+-----------------+-------------------+---------------------+--------------------+--------------------+--------------------+------------------------+------------------------+--------------------------+-------------------------+-------------------------+-----------------------------+----+----+-----------+--------------------------+-------------+\n",
            "|        NULL|      NULL|  NULL|  NULL|   NULL|                        NULL|             NULL|               NULL|                 NULL|                NULL|                NULL|                NULL|                    NULL|                    NULL|                      NULL|                     NULL|                     NULL|                         NULL|NULL|NULL|       NULL|                      NULL|         NULL|\n",
            "+------------+----------+------+------+-------+----------------------------+-----------------+-------------------+---------------------+--------------------+--------------------+--------------------+------------------------+------------------------+--------------------------+-------------------------+-------------------------+-----------------------------+----+----+-----------+--------------------------+-------------+\n",
            "\n"
          ]
        }
      ]
    },
    {
      "cell_type": "markdown",
      "source": [
        "## Demandas 15 e 16 puladas, não fazem sentido para o spark"
      ],
      "metadata": {
        "id": "1q-wlNZmA29Z"
      }
    },
    {
      "cell_type": "markdown",
      "source": [
        "# Demanda 17\n",
        "Identificar o maior preço médio de revenda para cada região"
      ],
      "metadata": {
        "id": "_6c06j82-9Ac"
      }
    },
    {
      "cell_type": "code",
      "source": [
        "# Convertendo a coluna de string para float\n",
        "df2 = df2.withColumn('PREÇO MÉDIO REVENDA', df2['PREÇO MÉDIO REVENDA'].cast(FloatType()))\n",
        "\n"
      ],
      "metadata": {
        "id": "YLf8q_maFacS"
      },
      "execution_count": 59,
      "outputs": []
    },
    {
      "cell_type": "code",
      "source": [
        "# Agrupando as linhas do df de acordo com as regiões pelo critério de MAX da col 'PREÇO MÉDIO REVENDA'\n",
        "# Coloquei também o 'alias' para renomear a coluna resultante\n",
        "# Agrupando as linhas do dataframe de acordo com as regiões pelo critério de MAX da coluna 'PREÇO MÉDIO REVENDA'\n",
        "max_revenda_regiao = df2.groupBy('REGIÃO').agg(F.max('PREÇO MÉDIO REVENDA').alias('Máximo PREÇO MÉDIO REVENDA'))\n",
        "\n",
        "# Exibindo o resultado\n",
        "max_revenda_regiao.show()"
      ],
      "metadata": {
        "colab": {
          "base_uri": "https://localhost:8080/"
        },
        "id": "XKeMUpI8-0A3",
        "outputId": "bf397aa2-7f71-4b3c-edfd-cecf103be02f"
      },
      "execution_count": 60,
      "outputs": [
        {
          "output_type": "stream",
          "name": "stdout",
          "text": [
            "+------------+--------------------------+\n",
            "|      REGIÃO|Máximo PREÇO MÉDIO REVENDA|\n",
            "+------------+--------------------------+\n",
            "|CENTRO OESTE|                    99.357|\n",
            "|       NORTE|                     87.27|\n",
            "|    NORDESTE|                     79.63|\n",
            "|         SUL|                    72.088|\n",
            "|     SUDESTE|                    79.192|\n",
            "+------------+--------------------------+\n",
            "\n"
          ]
        }
      ]
    },
    {
      "cell_type": "markdown",
      "source": [
        "# Demanda 18\n",
        "Identificar o menor preço médio de revenda por região e por data final"
      ],
      "metadata": {
        "id": "ZPaLXgL0KHgF"
      }
    },
    {
      "cell_type": "code",
      "source": [
        "# Utilizei pyspark_min para referir à função min() do PySpark, evitando assim o conflito com a função nativa min() do Python.\n",
        "# Agrupando o df2 pelas colunas 'REGIÃO' e 'DATA FINAL'\n",
        "# Agregando o menor valor da coluna 'PREÇO MÉDIO REVENDA' para cada grupo\n",
        "# Renomeando o resultado da agregação para 'Menor PREÇO MÉDIO REVENDA'\n",
        "agrupamento = (df3.groupBy('REGIÃO', 'DATA FINAL')\n",
        "               .agg(F.min('PREÇO MÉDIO REVENDA').alias('Menor PREÇO MÉDIO REVENDA'))\n",
        "               .orderBy('REGIÃO', 'DATA FINAL'))\n",
        "\n",
        "agrupamento.show()"
      ],
      "metadata": {
        "colab": {
          "base_uri": "https://localhost:8080/"
        },
        "id": "-JDVZQBVKM2G",
        "outputId": "7403f78e-8876-431d-9f19-00f87c5e3a1b"
      },
      "execution_count": 61,
      "outputs": [
        {
          "output_type": "stream",
          "name": "stdout",
          "text": [
            "+------------+----------+-------------------------+\n",
            "|      REGIÃO|DATA FINAL|Menor PREÇO MÉDIO REVENDA|\n",
            "+------------+----------+-------------------------+\n",
            "|CENTRO OESTE|2004-05-15|                    1.099|\n",
            "|CENTRO OESTE|2004-05-22|                    1.099|\n",
            "|CENTRO OESTE|2004-05-29|                    1.099|\n",
            "|CENTRO OESTE|2004-06-05|                    1.099|\n",
            "|CENTRO OESTE|2004-06-12|                    1.099|\n",
            "|CENTRO OESTE|2004-06-19|                    1.099|\n",
            "|CENTRO OESTE|2004-06-26|                    1.097|\n",
            "|CENTRO OESTE|2004-07-03|                    1.099|\n",
            "|CENTRO OESTE|2004-07-10|                    1.099|\n",
            "|CENTRO OESTE|2004-07-17|                    1.144|\n",
            "|CENTRO OESTE|2004-07-24|                    1.144|\n",
            "|CENTRO OESTE|2004-07-31|                    1.144|\n",
            "|CENTRO OESTE|2004-08-07|                    1.144|\n",
            "|CENTRO OESTE|2004-08-14|                    1.144|\n",
            "|CENTRO OESTE|2004-08-21|                    1.144|\n",
            "|CENTRO OESTE|2004-08-28|                    1.144|\n",
            "|CENTRO OESTE|2004-09-04|                    1.144|\n",
            "|CENTRO OESTE|2004-09-11|                    1.144|\n",
            "|CENTRO OESTE|2004-09-18|                    1.144|\n",
            "|CENTRO OESTE|2004-09-25|                    1.137|\n",
            "+------------+----------+-------------------------+\n",
            "only showing top 20 rows\n",
            "\n"
          ]
        }
      ]
    },
    {
      "cell_type": "code",
      "source": [
        "# Checando se todas regiões estão presentes\n",
        "agrupamento.groupBy('REGIÃO').count().show()"
      ],
      "metadata": {
        "colab": {
          "base_uri": "https://localhost:8080/"
        },
        "id": "AldTbvgCLzNd",
        "outputId": "8c9c3b78-9f4b-48d4-c810-698cae56cd7a"
      },
      "execution_count": 62,
      "outputs": [
        {
          "output_type": "stream",
          "name": "stdout",
          "text": [
            "+------------+-----+\n",
            "|      REGIÃO|count|\n",
            "+------------+-----+\n",
            "|CENTRO OESTE|  785|\n",
            "|       NORTE|  785|\n",
            "|    NORDESTE|  785|\n",
            "|         SUL|  785|\n",
            "|     SUDESTE|  785|\n",
            "+------------+-----+\n",
            "\n"
          ]
        }
      ]
    },
    {
      "cell_type": "markdown",
      "source": [
        "# Demanda 19\n",
        "Demonstrar o min e max do 'PREÇO MÉDIO REVENDA' para cada região"
      ],
      "metadata": {
        "id": "CiPpwJ20Qojz"
      }
    },
    {
      "cell_type": "code",
      "source": [
        "# Agrupando pelo 'REGIÃO' e calculando o menor e maior valor de 'PREÇO MÉDIO REVENDA'\n",
        "min_max_pmr = df.groupBy('REGIÃO').agg(\n",
        "    F.min('PREÇO MÉDIO REVENDA').alias('min_PREÇO MÉDIO REVENDA'),\n",
        "    F.max('PREÇO MÉDIO REVENDA').alias('max_PREÇO MÉDIO REVENDA')\n",
        ")\n",
        "\n",
        "# Exibindo o resultado\n",
        "min_max_pmr.show()"
      ],
      "metadata": {
        "colab": {
          "base_uri": "https://localhost:8080/"
        },
        "id": "LpPDBcitQqIg",
        "outputId": "96d20227-226f-404f-a179-36213e419a0b"
      },
      "execution_count": 63,
      "outputs": [
        {
          "output_type": "stream",
          "name": "stdout",
          "text": [
            "+------------+-----------------------+-----------------------+\n",
            "|      REGIÃO|min_PREÇO MÉDIO REVENDA|max_PREÇO MÉDIO REVENDA|\n",
            "+------------+-----------------------+-----------------------+\n",
            "|CENTRO OESTE|                  1.097|                 99.357|\n",
            "|    NORDESTE|                  0.975|                  79.63|\n",
            "|       NORTE|                  1.219|                  87.27|\n",
            "|     SUDESTE|      0.765999999999999|                 79.192|\n",
            "|         SUL|                  0.922|                 72.088|\n",
            "+------------+-----------------------+-----------------------+\n",
            "\n"
          ]
        }
      ]
    },
    {
      "cell_type": "markdown",
      "source": [
        "# Demanda 20\n",
        "Criar um ranking das regiões com maior preço médio de revenda.\n"
      ],
      "metadata": {
        "id": "F5BH46MdRWPk"
      }
    },
    {
      "cell_type": "code",
      "source": [
        "# 1. Calcular o Máximo 'preço médio' de revenda por região.\n",
        "# 2. Ordenar valores pelo valor agrupado em ordem descendente\n",
        "max_pmv_regiao = (df2.groupBy('REGIÃO')\n",
        "                  .agg(F.max('PREÇO MÉDIO REVENDA').alias('MAX_PREÇO MÉDIO REVENDA'))\n",
        "                  .orderBy(F.col('MAX_PREÇO MÉDIO REVENDA').desc()))\n",
        "\n",
        "# Exibindo o resultado\n",
        "max_pmv_regiao.show()"
      ],
      "metadata": {
        "colab": {
          "base_uri": "https://localhost:8080/"
        },
        "id": "jZ0MkOp5RPYa",
        "outputId": "e33a8363-e477-4c45-d1b4-a6d914cfe22a"
      },
      "execution_count": 64,
      "outputs": [
        {
          "output_type": "stream",
          "name": "stdout",
          "text": [
            "+------------+-----------------------+\n",
            "|      REGIÃO|MAX_PREÇO MÉDIO REVENDA|\n",
            "+------------+-----------------------+\n",
            "|CENTRO OESTE|                 99.357|\n",
            "|       NORTE|                  87.27|\n",
            "|    NORDESTE|                  79.63|\n",
            "|     SUDESTE|                 79.192|\n",
            "|         SUL|                 72.088|\n",
            "+------------+-----------------------+\n",
            "\n"
          ]
        }
      ]
    },
    {
      "cell_type": "markdown",
      "source": [
        "### Adicionando Ranking usando monotonically_increasing_id()\n",
        "\n",
        "Para criar um ranking mais simplificado, usarei a função `monotonically_increasing_id()`\n",
        "\n",
        "O processo é:\n",
        "\n",
        "1. **Ordenação**: Primeiro, ordenei  df2 de acordo com o critério desejado. No caso, ordenei pelo 'PREÇO MÉDIO REVENDA' em ordem decrescente.\n",
        "2. **Adicionar IDs Monotonicamente Crescentes**: Após a ordenação, usei `monotonically_increasing_id()` para atribuir IDs. Como já foi ordenado os dados anteriormente, esses IDs servirão como o ranking.\n",
        "3. **Exibição do Resultado**: Por fim, mostro o df2 resultante com a coluna de ranking adicionada."
      ],
      "metadata": {
        "id": "bTHgVpA_TsQk"
      }
    },
    {
      "cell_type": "code",
      "source": [
        "# Ordenando o DataFrame\n",
        "max_pmv_regiao = max_pmv_regiao.orderBy(F.col('MAX_PREÇO MÉDIO REVENDA').desc())\n",
        "\n",
        "# Adicionando coluna de ranking usando monotonically_increasing_id\n",
        "# Adicionado o critério \"+1\", pois um ranking não pode ser inicado de zero\n",
        "max_pmv_regiao = max_pmv_regiao.withColumn(\"RANKING\", monotonically_increasing_id() + 1)\n",
        "\n",
        "# Exibindo o resultado\n",
        "max_pmv_regiao.show()\n"
      ],
      "metadata": {
        "colab": {
          "base_uri": "https://localhost:8080/"
        },
        "id": "rcQVq_c2TAjl",
        "outputId": "cf9503e2-e4b2-471d-e354-2306aa864db4"
      },
      "execution_count": 65,
      "outputs": [
        {
          "output_type": "stream",
          "name": "stdout",
          "text": [
            "+------------+-----------------------+-------+\n",
            "|      REGIÃO|MAX_PREÇO MÉDIO REVENDA|RANKING|\n",
            "+------------+-----------------------+-------+\n",
            "|CENTRO OESTE|                 99.357|      1|\n",
            "|       NORTE|                  87.27|      2|\n",
            "|    NORDESTE|                  79.63|      3|\n",
            "|     SUDESTE|                 79.192|      4|\n",
            "|         SUL|                 72.088|      5|\n",
            "+------------+-----------------------+-------+\n",
            "\n"
          ]
        }
      ]
    },
    {
      "cell_type": "markdown",
      "source": [
        "# Demanda 21\n",
        "Para as análises futuras, a área de negócio precisa de dados que contemplem apenas anos cheios (Jan-Dez). Exclua os anos que não corresponderem a esse critério"
      ],
      "metadata": {
        "id": "SMpHqFYxYtD0"
      }
    },
    {
      "cell_type": "code",
      "source": [
        "# 1. Obtendo a contagem de meses únicos por ano\n",
        "meses_por_ano = df.groupBy(\"ANO\").agg(F.countDistinct(\"MÊS\").alias(\"Quantidade Meses\"))\n",
        "meses_por_ano.show()"
      ],
      "metadata": {
        "colab": {
          "base_uri": "https://localhost:8080/"
        },
        "id": "e2MWXTWtb9ym",
        "outputId": "0b5e1e10-b426-4dbb-f261-f19a42ad4da2"
      },
      "execution_count": 66,
      "outputs": [
        {
          "output_type": "stream",
          "name": "stdout",
          "text": [
            "+----+----------------+\n",
            "| ANO|Quantidade Meses|\n",
            "+----+----------------+\n",
            "|2016|              12|\n",
            "|2012|              12|\n",
            "|2019|               6|\n",
            "|2017|              12|\n",
            "|2014|              12|\n",
            "|2013|              12|\n",
            "|2005|              12|\n",
            "|2009|              12|\n",
            "|2018|              12|\n",
            "|2006|              12|\n",
            "|2004|               8|\n",
            "|2011|              12|\n",
            "|2008|              12|\n",
            "|2007|              12|\n",
            "|2015|              12|\n",
            "|2010|              12|\n",
            "+----+----------------+\n",
            "\n"
          ]
        }
      ]
    },
    {
      "cell_type": "code",
      "source": [
        "# 2. Removendo os dados da analise dos anos de 2004 e 2019, que não atendem a demanda\n",
        "df = df.filter(~F.col(\"ANO\").isin([2019, 2004]))\n"
      ],
      "metadata": {
        "id": "CRk305uIb-Lq"
      },
      "execution_count": 67,
      "outputs": []
    },
    {
      "cell_type": "code",
      "source": [
        "# Checando\n",
        "df.groupBy('ANO').count().orderBy('ANO').show()"
      ],
      "metadata": {
        "colab": {
          "base_uri": "https://localhost:8080/"
        },
        "id": "4yLPb_EtZd1F",
        "outputId": "90d2514e-33c6-41b9-bd5c-9fbd0f78caa3"
      },
      "execution_count": 68,
      "outputs": [
        {
          "output_type": "stream",
          "name": "stdout",
          "text": [
            "+----+-----+\n",
            "| ANO|count|\n",
            "+----+-----+\n",
            "|2005| 6186|\n",
            "|2006| 6598|\n",
            "|2007| 6475|\n",
            "|2008| 6453|\n",
            "|2009| 6232|\n",
            "|2010| 6489|\n",
            "|2011| 6487|\n",
            "|2012| 6634|\n",
            "|2013| 7921|\n",
            "|2014| 7932|\n",
            "|2015| 7771|\n",
            "|2016| 7873|\n",
            "|2017| 7990|\n",
            "|2018| 7823|\n",
            "+----+-----+\n",
            "\n"
          ]
        }
      ]
    },
    {
      "cell_type": "markdown",
      "source": [
        "# Demanda 22\n",
        "Qual a proporção de postos pesquisados para cada tipo de combustível, em cada região ?"
      ],
      "metadata": {
        "id": "tP49TuXtePiS"
      }
    },
    {
      "cell_type": "code",
      "source": [
        "# 1. Agrupando por 'REGIÃO' e somando o número de postos pesquisados [TOTAL]\n",
        "total_postos_por_regiao = df.groupBy(\"REGIÃO\").agg(F.sum(\"NÚMERO DE POSTOS PESQUISADOS\").alias(\"Total Postos\"))\n",
        "total_postos_por_regiao.show()\n",
        "\n",
        "\n",
        "# O resultado foi diferente do python, porque não formam removidas as linhas que contínham zero"
      ],
      "metadata": {
        "colab": {
          "base_uri": "https://localhost:8080/"
        },
        "id": "GHhT4L4gb-cf",
        "outputId": "73e89b59-415e-4933-cfa0-da61d8884361"
      },
      "execution_count": 69,
      "outputs": [
        {
          "output_type": "stream",
          "name": "stdout",
          "text": [
            "+------------+------------+\n",
            "|      REGIÃO|Total Postos|\n",
            "+------------+------------+\n",
            "|CENTRO OESTE|   1948303.0|\n",
            "|       NORTE|   1521359.0|\n",
            "|    NORDESTE|   4199760.0|\n",
            "|         SUL|   4166977.0|\n",
            "|     SUDESTE| 1.1102769E7|\n",
            "+------------+------------+\n",
            "\n"
          ]
        }
      ]
    },
    {
      "cell_type": "code",
      "source": [
        "\n",
        "# 2. Agrupando por 'REGIÃO' e 'PRODUTO' e somando o número de postos pesquisados [PARTE]\n",
        "postos_por_regiao_produto = df.groupBy(\"REGIÃO\", \"PRODUTO\") \\\n",
        "                             .agg(F.sum(\"NÚMERO DE POSTOS PESQUISADOS\").alias(\"Parte Postos\")) \\\n",
        "                             .orderBy(\"REGIÃO\")\n",
        "\n",
        "postos_por_regiao_produto.show(100)  # coloquei 100 somente para aparecerem todas as regiões"
      ],
      "metadata": {
        "colab": {
          "base_uri": "https://localhost:8080/"
        },
        "id": "max4X-wGeP-P",
        "outputId": "301f8b3e-ed57-477b-cce4-14cb850bc635"
      },
      "execution_count": 70,
      "outputs": [
        {
          "output_type": "stream",
          "name": "stdout",
          "text": [
            "+------------+----------------+------------+\n",
            "|      REGIÃO|         PRODUTO|Parte Postos|\n",
            "+------------+----------------+------------+\n",
            "|CENTRO OESTE|             GLP|    593192.0|\n",
            "|CENTRO OESTE|  GASOLINA COMUM|    443923.0|\n",
            "|CENTRO OESTE|     ÓLEO DIESEL|    377377.0|\n",
            "|CENTRO OESTE| ÓLEO DIESEL S10|     86085.0|\n",
            "|CENTRO OESTE|ETANOL HIDRATADO|    443547.0|\n",
            "|CENTRO OESTE|             GNV|      4179.0|\n",
            "|    NORDESTE|             GNV|     87446.0|\n",
            "|    NORDESTE| ÓLEO DIESEL S10|    258937.0|\n",
            "|    NORDESTE|     ÓLEO DIESEL|    882007.0|\n",
            "|    NORDESTE|ETANOL HIDRATADO|   1004012.0|\n",
            "|    NORDESTE|             GLP|    835940.0|\n",
            "|    NORDESTE|  GASOLINA COMUM|   1131418.0|\n",
            "|       NORTE| ÓLEO DIESEL S10|     86258.0|\n",
            "|       NORTE|  GASOLINA COMUM|    393678.0|\n",
            "|       NORTE|             GNV|       564.0|\n",
            "|       NORTE|ETANOL HIDRATADO|    231449.0|\n",
            "|       NORTE|     ÓLEO DIESEL|    344935.0|\n",
            "|       NORTE|             GLP|    464475.0|\n",
            "|     SUDESTE|  GASOLINA COMUM|   3002336.0|\n",
            "|     SUDESTE|             GNV|    214425.0|\n",
            "|     SUDESTE|     ÓLEO DIESEL|   2199155.0|\n",
            "|     SUDESTE| ÓLEO DIESEL S10|    512598.0|\n",
            "|     SUDESTE|             GLP|   2208185.0|\n",
            "|     SUDESTE|ETANOL HIDRATADO|   2966070.0|\n",
            "|         SUL|  GASOLINA COMUM|   1072007.0|\n",
            "|         SUL|ETANOL HIDRATADO|    985621.0|\n",
            "|         SUL|     ÓLEO DIESEL|    783006.0|\n",
            "|         SUL| ÓLEO DIESEL S10|    212803.0|\n",
            "|         SUL|             GLP|   1071384.0|\n",
            "|         SUL|             GNV|     42156.0|\n",
            "+------------+----------------+------------+\n",
            "\n"
          ]
        }
      ]
    },
    {
      "cell_type": "markdown",
      "source": [
        "### Passo 1: Primeiro, fiz um join entre dois conjuntos de dados:\n",
        "\n",
        "- postos_por_regiao_produto, que contém a quantidade de postos por região e tipo de produto.\n",
        "- total_postos_por_regiao, que traz o total de postos em cada região.\n",
        "\n",
        "O método join é uma operação de álgebra relacional usada para combinar registros de duas ou mais tabelas em um banco de dados relacional ou DataFrames em plataformas de processamento de dados como o PySpark. A combinação é feita com base em uma ou mais colunas-chave comuns no caso \"REGIÃO\"\n",
        "\n",
        "### Passo 2: Criei uma nova coluna chamada \"Proporção\". Ela divide o número de postos de um tipo específico de produto pelo total de postos daquela região.\n",
        "\n",
        "### Passo 3: Depois de fazer essa conta, organizei os resultados e mostrei apenas as informações mais importantes. Para isso, usei o método .select."
      ],
      "metadata": {
        "id": "WY8GSaeEmmcn"
      }
    },
    {
      "cell_type": "code",
      "source": [
        "# Calculando a proporção total diretamente após o join\n",
        "proporcao_postos = postos_por_regiao_produto.join(total_postos_por_regiao, \"REGIÃO\") \\\n",
        "                                            .withColumn(\"Proporção\", F.col(\"Parte Postos\") / F.col(\"Total Postos\")) \\\n",
        "                                            .select(\"REGIÃO\", \"PRODUTO\", \"Proporção\")\n",
        "\n",
        "proporcao_postos.show(100)\n"
      ],
      "metadata": {
        "colab": {
          "base_uri": "https://localhost:8080/"
        },
        "id": "JYza4Hi9cYiC",
        "outputId": "1947d9af-1f56-4d2a-ee0c-c2b407d820f7"
      },
      "execution_count": 71,
      "outputs": [
        {
          "output_type": "stream",
          "name": "stdout",
          "text": [
            "+------------+----------------+--------------------+\n",
            "|      REGIÃO|         PRODUTO|           Proporção|\n",
            "+------------+----------------+--------------------+\n",
            "|CENTRO OESTE|             GNV|0.002144943573971...|\n",
            "|CENTRO OESTE|ETANOL HIDRATADO| 0.22765812093909418|\n",
            "|CENTRO OESTE| ÓLEO DIESEL S10| 0.04418460578257078|\n",
            "|CENTRO OESTE|     ÓLEO DIESEL| 0.19369523118323997|\n",
            "|CENTRO OESTE|  GASOLINA COMUM| 0.22785110940136108|\n",
            "|CENTRO OESTE|             GLP|  0.3044659891197622|\n",
            "|       NORTE|             GLP| 0.30530269318418596|\n",
            "|       NORTE|     ÓLEO DIESEL| 0.22672820813496355|\n",
            "|       NORTE|ETANOL HIDRATADO| 0.15213305998124046|\n",
            "|       NORTE|             GNV|3.707211775787306E-4|\n",
            "|       NORTE|  GASOLINA COMUM| 0.25876732579226863|\n",
            "|       NORTE| ÓLEO DIESEL S10| 0.05669799172976266|\n",
            "|    NORDESTE|  GASOLINA COMUM|  0.2694006324170905|\n",
            "|    NORDESTE|             GLP| 0.19904470731660856|\n",
            "|    NORDESTE|ETANOL HIDRATADO| 0.23906413699830467|\n",
            "|    NORDESTE|     ÓLEO DIESEL| 0.21001366744766367|\n",
            "|    NORDESTE| ÓLEO DIESEL S10| 0.06165518982037069|\n",
            "|    NORDESTE|             GNV|  0.0208216659999619|\n",
            "|         SUL|             GNV|0.010116686509188795|\n",
            "|         SUL|             GLP|  0.2571130102229986|\n",
            "|         SUL| ÓLEO DIESEL S10| 0.05106891638710749|\n",
            "|         SUL|     ÓLEO DIESEL| 0.18790744465352222|\n",
            "|         SUL|ETANOL HIDRATADO| 0.23653142313960457|\n",
            "|         SUL|  GASOLINA COMUM| 0.25726251908757836|\n",
            "|     SUDESTE|ETANOL HIDRATADO|  0.2671468711994278|\n",
            "|     SUDESTE|             GLP|  0.1988859715986165|\n",
            "|     SUDESTE| ÓLEO DIESEL S10| 0.04616848283522786|\n",
            "|     SUDESTE|     ÓLEO DIESEL| 0.19807266097313203|\n",
            "|     SUDESTE|             GNV|0.019312749819436936|\n",
            "|     SUDESTE|  GASOLINA COMUM| 0.27041326357415885|\n",
            "+------------+----------------+--------------------+\n",
            "\n"
          ]
        }
      ]
    },
    {
      "cell_type": "markdown",
      "source": [
        "# Demanda 23\n",
        "Como os preços da Gasolina Comum em São Paulo variaram em 2018?"
      ],
      "metadata": {
        "id": "l-x2VM0BpXDD"
      }
    },
    {
      "cell_type": "code",
      "source": [
        "# 1. Filtrando o DataFrame\n",
        "filtro_gasolina_sp_2018 = (\n",
        "    (F.col('PRODUTO') == 'GASOLINA COMUM') &\n",
        "    (F.col('ESTADO') == 'SAO PAULO') &\n",
        "    (F.col('ANO') == 2018)\n",
        ")\n",
        "\n",
        "gasolina_sp_2018 = df.filter(filtro_gasolina_sp_2018)"
      ],
      "metadata": {
        "id": "vnox-gEhpgxk"
      },
      "execution_count": 72,
      "outputs": []
    },
    {
      "cell_type": "code",
      "source": [
        "# 2. Ordenando os dados pela 'DATA FINAL' para garantir a sequência correta das datas\n",
        "gasolina_sp_2018 = gasolina_sp_2018.orderBy('DATA FINAL')\n"
      ],
      "metadata": {
        "id": "tGfSYOhxrWZq"
      },
      "execution_count": 73,
      "outputs": []
    },
    {
      "cell_type": "code",
      "source": [
        "# 3. Atualizando o df `gasolina_sp_2018`\n",
        "# subtraindo o 'PMR' atual pela função `lag`, que pega o valor do 'PMR' da linha anterior.\n",
        "# O`over` define como a função `lag` deve se comportar, no caso, ORDENEI pela 'DATA FINAL'\n",
        "# para garantir que estou pegando o 'PREÇO MÉDIO REVENDA' da data anterior correta.\n",
        "\n",
        "gasolina_sp_2018 = gasolina_sp_2018 \\\n",
        ".withColumn(\"VARIAÇÃO\",\n",
        "F.col('PREÇO MÉDIO REVENDA') - F.lag('PREÇO MÉDIO REVENDA').over(Window.orderBy('DATA FINAL'))\n",
        ")"
      ],
      "metadata": {
        "id": "Vlxp3R_1roF_"
      },
      "execution_count": 74,
      "outputs": []
    },
    {
      "cell_type": "code",
      "source": [
        "# Ajuste, selecionando as colunas relevantes\n",
        "df_variacao_sp_2018 = gasolina_sp_2018.select(\n",
        "    'ESTADO', 'PRODUTO', 'ANO', 'DATA FINAL', 'PREÇO MÉDIO REVENDA', 'VARIAÇÃO'\n",
        ")\n",
        "df_variacao_sp_2018.show()"
      ],
      "metadata": {
        "colab": {
          "base_uri": "https://localhost:8080/"
        },
        "id": "JSjjUukbr-Yq",
        "outputId": "3855b06a-e027-4188-e83a-802025dbaff0"
      },
      "execution_count": 75,
      "outputs": [
        {
          "output_type": "stream",
          "name": "stdout",
          "text": [
            "+---------+--------------+----+----------+-------------------+--------------------+\n",
            "|   ESTADO|       PRODUTO| ANO|DATA FINAL|PREÇO MÉDIO REVENDA|            VARIAÇÃO|\n",
            "+---------+--------------+----+----------+-------------------+--------------------+\n",
            "|SAO PAULO|GASOLINA COMUM|2018|2018-01-13|              3.988|                NULL|\n",
            "|SAO PAULO|GASOLINA COMUM|2018|2018-01-20|              4.002| 0.01399999999999979|\n",
            "|SAO PAULO|GASOLINA COMUM|2018|2018-01-27|              4.006|0.004000000000000448|\n",
            "|SAO PAULO|GASOLINA COMUM|2018|2018-02-03|              4.019|  0.0129999999999999|\n",
            "|SAO PAULO|GASOLINA COMUM|2018|2018-02-10|              4.004|-0.01500000000000...|\n",
            "|SAO PAULO|GASOLINA COMUM|2018|2018-02-17|              4.014|0.010000000000000675|\n",
            "|SAO PAULO|GASOLINA COMUM|2018|2018-02-24|              4.008|-0.00600000000000...|\n",
            "|SAO PAULO|GASOLINA COMUM|2018|2018-03-03|              3.992|-0.01600000000000...|\n",
            "|SAO PAULO|GASOLINA COMUM|2018|2018-03-10|               3.97|-0.02199999999999...|\n",
            "|SAO PAULO|GASOLINA COMUM|2018|2018-03-17|              4.003| 0.03299999999999992|\n",
            "|SAO PAULO|GASOLINA COMUM|2018|2018-03-24|              3.988|-0.01500000000000...|\n",
            "|SAO PAULO|GASOLINA COMUM|2018|2018-03-31|              3.992|0.004000000000000...|\n",
            "|SAO PAULO|GASOLINA COMUM|2018|2018-04-07|              4.007| 0.01499999999999968|\n",
            "|SAO PAULO|GASOLINA COMUM|2018|2018-04-14|              4.008|0.001000000000000334|\n",
            "|SAO PAULO|GASOLINA COMUM|2018|2018-04-21|              4.006|-0.00199999999999...|\n",
            "|SAO PAULO|GASOLINA COMUM|2018|2018-04-28|              4.035|0.028999999999999915|\n",
            "|SAO PAULO|GASOLINA COMUM|2018|2018-05-05|              4.005|-0.03000000000000025|\n",
            "|SAO PAULO|GASOLINA COMUM|2018|2018-05-12|              4.032|0.027000000000000135|\n",
            "|SAO PAULO|GASOLINA COMUM|2018|2018-05-19|              4.056| 0.02400000000000002|\n",
            "|SAO PAULO|GASOLINA COMUM|2018|2018-05-26|              4.196| 0.13999999999999968|\n",
            "+---------+--------------+----+----------+-------------------+--------------------+\n",
            "only showing top 20 rows\n",
            "\n"
          ]
        }
      ]
    },
    {
      "cell_type": "markdown",
      "source": [
        "# Demanda 24\n",
        "Como os preços da Gasolina Comum e do Etanol em São Paulo variaram em 2018?"
      ],
      "metadata": {
        "id": "iPAFlhcTvL3O"
      }
    },
    {
      "cell_type": "code",
      "source": [
        "# Filtrando o df para Gasolina Comum e Etanol em São Paulo no ano de 2018\n",
        "filtro_combustiveis_sp_2018 = (\n",
        "    df['PRODUTO'].isin(['GASOLINA COMUM', 'ETANOL HIDRATADO']) &\n",
        "    (df['ESTADO'] == 'SAO PAULO') &\n",
        "    (df['ANO'] == 2018)\n",
        ")\n",
        "combustiveis_sp_2018 = df.filter(filtro_combustiveis_sp_2018)"
      ],
      "metadata": {
        "id": "Oe6vCcslvM2g"
      },
      "execution_count": 76,
      "outputs": []
    },
    {
      "cell_type": "code",
      "source": [
        "# Particionando os dados por produtos, para calcular a variação de cada um de acordo\n",
        "# com suas respectivas datas finais ordenadas\n",
        "window = Window.partitionBy('PRODUTO').orderBy('DATA FINAL')\n",
        "\n",
        "# Criando a variação do preço em relação ao preço do dia anterior, para cada produto\n",
        "combustiveis_sp_2018 = combustiveis_sp_2018.withColumn(\"VARIAÇÃO\",\n",
        "    F.col('PREÇO MÉDIO REVENDA') - F.lag('PREÇO MÉDIO REVENDA').over(window)\n",
        ")"
      ],
      "metadata": {
        "id": "7eFXKMxHwDW1"
      },
      "execution_count": 77,
      "outputs": []
    },
    {
      "cell_type": "code",
      "source": [
        "#Exibir resultados.\n",
        "combustiveis_sp_2018.select(['ESTADO', 'PRODUTO', 'ANO', 'DATA FINAL', 'PREÇO MÉDIO REVENDA', 'VARIAÇÃO']).show()"
      ],
      "metadata": {
        "colab": {
          "base_uri": "https://localhost:8080/"
        },
        "id": "bEu6rKl2yWHX",
        "outputId": "72a7b145-c770-495d-b223-f819ba505184"
      },
      "execution_count": 78,
      "outputs": [
        {
          "output_type": "stream",
          "name": "stdout",
          "text": [
            "+---------+----------------+----+----------+-------------------+--------------------+\n",
            "|   ESTADO|         PRODUTO| ANO|DATA FINAL|PREÇO MÉDIO REVENDA|            VARIAÇÃO|\n",
            "+---------+----------------+----+----------+-------------------+--------------------+\n",
            "|SAO PAULO|ETANOL HIDRATADO|2018|2018-01-13|              2.833|                NULL|\n",
            "|SAO PAULO|ETANOL HIDRATADO|2018|2018-01-20|              2.868|  0.0349999999999997|\n",
            "|SAO PAULO|ETANOL HIDRATADO|2018|2018-01-27|              2.874|0.006000000000000227|\n",
            "|SAO PAULO|ETANOL HIDRATADO|2018|2018-02-03|              2.891|0.016999999999999904|\n",
            "|SAO PAULO|ETANOL HIDRATADO|2018|2018-02-10|              2.884|-0.00700000000000...|\n",
            "|SAO PAULO|ETANOL HIDRATADO|2018|2018-02-17|              2.892|0.008000000000000007|\n",
            "|SAO PAULO|ETANOL HIDRATADO|2018|2018-02-24|              2.886|-0.00599999999999...|\n",
            "|SAO PAULO|ETANOL HIDRATADO|2018|2018-03-03|              2.874|-0.01200000000000001|\n",
            "|SAO PAULO|ETANOL HIDRATADO|2018|2018-03-10|              2.862|-0.01200000000000001|\n",
            "|SAO PAULO|ETANOL HIDRATADO|2018|2018-03-17|               2.88|0.017999999999999794|\n",
            "|SAO PAULO|ETANOL HIDRATADO|2018|2018-03-24|              2.873|-0.00699999999999...|\n",
            "|SAO PAULO|ETANOL HIDRATADO|2018|2018-03-31|              2.872|-0.00100000000000...|\n",
            "|SAO PAULO|ETANOL HIDRATADO|2018|2018-04-07|              2.867|-0.00499999999999...|\n",
            "|SAO PAULO|ETANOL HIDRATADO|2018|2018-04-14|              2.848|-0.01900000000000...|\n",
            "|SAO PAULO|ETANOL HIDRATADO|2018|2018-04-21|              2.802|-0.04599999999999982|\n",
            "|SAO PAULO|ETANOL HIDRATADO|2018|2018-04-28|              2.708|-0.09399999999999986|\n",
            "|SAO PAULO|ETANOL HIDRATADO|2018|2018-05-05|              2.656|-0.05200000000000...|\n",
            "|SAO PAULO|ETANOL HIDRATADO|2018|2018-05-12|              2.613|-0.04300000000000015|\n",
            "|SAO PAULO|ETANOL HIDRATADO|2018|2018-05-19|              2.603|-0.00999999999999...|\n",
            "|SAO PAULO|ETANOL HIDRATADO|2018|2018-05-26|              2.641| 0.03799999999999981|\n",
            "+---------+----------------+----+----------+-------------------+--------------------+\n",
            "only showing top 20 rows\n",
            "\n"
          ]
        }
      ]
    },
    {
      "cell_type": "code",
      "source": [
        "#Checando\n",
        "combustiveis_sp_2018.groupBy('PRODUTO').count().show()"
      ],
      "metadata": {
        "colab": {
          "base_uri": "https://localhost:8080/"
        },
        "id": "DmkwjmX6ywry",
        "outputId": "f006e765-7900-42c4-ddbd-291a13c63b5c"
      },
      "execution_count": 79,
      "outputs": [
        {
          "output_type": "stream",
          "name": "stdout",
          "text": [
            "+----------------+-----+\n",
            "|         PRODUTO|count|\n",
            "+----------------+-----+\n",
            "|ETANOL HIDRATADO|   52|\n",
            "|  GASOLINA COMUM|   52|\n",
            "+----------------+-----+\n",
            "\n"
          ]
        }
      ]
    }
  ]
}